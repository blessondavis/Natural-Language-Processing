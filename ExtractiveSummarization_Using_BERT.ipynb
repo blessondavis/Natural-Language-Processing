{
  "nbformat": 4,
  "nbformat_minor": 0,
  "metadata": {
    "colab": {
      "name": "ExtractiveSummarization_Using_BERT.ipynb",
      "provenance": [],
      "machine_shape": "hm"
    },
    "kernelspec": {
      "name": "python3",
      "display_name": "Python 3"
    },
    "language_info": {
      "name": "python"
    },
    "accelerator": "GPU",
    "widgets": {
      "application/vnd.jupyter.widget-state+json": {
        "94a822856b4745aeabb91ee47ed2cd71": {
          "model_module": "@jupyter-widgets/controls",
          "model_name": "HBoxModel",
          "model_module_version": "1.5.0",
          "state": {
            "_dom_classes": [],
            "_model_module": "@jupyter-widgets/controls",
            "_model_module_version": "1.5.0",
            "_model_name": "HBoxModel",
            "_view_count": null,
            "_view_module": "@jupyter-widgets/controls",
            "_view_module_version": "1.5.0",
            "_view_name": "HBoxView",
            "box_style": "",
            "children": [
              "IPY_MODEL_b066e4aed7264882ae0e33ed3012546e",
              "IPY_MODEL_a547469de8c24c30911721512d20471e",
              "IPY_MODEL_112cff619ac04afc8fa1acf863bbb6c3"
            ],
            "layout": "IPY_MODEL_94ece906da1544a4a385df4328b38360"
          }
        },
        "b066e4aed7264882ae0e33ed3012546e": {
          "model_module": "@jupyter-widgets/controls",
          "model_name": "HTMLModel",
          "model_module_version": "1.5.0",
          "state": {
            "_dom_classes": [],
            "_model_module": "@jupyter-widgets/controls",
            "_model_module_version": "1.5.0",
            "_model_name": "HTMLModel",
            "_view_count": null,
            "_view_module": "@jupyter-widgets/controls",
            "_view_module_version": "1.5.0",
            "_view_name": "HTMLView",
            "description": "",
            "description_tooltip": null,
            "layout": "IPY_MODEL_29d8af2d0a03495eae73034153bc8eb4",
            "placeholder": "​",
            "style": "IPY_MODEL_99b2fc9a7cfc4d419fc81c31c2534858",
            "value": "100%"
          }
        },
        "a547469de8c24c30911721512d20471e": {
          "model_module": "@jupyter-widgets/controls",
          "model_name": "FloatProgressModel",
          "model_module_version": "1.5.0",
          "state": {
            "_dom_classes": [],
            "_model_module": "@jupyter-widgets/controls",
            "_model_module_version": "1.5.0",
            "_model_name": "FloatProgressModel",
            "_view_count": null,
            "_view_module": "@jupyter-widgets/controls",
            "_view_module_version": "1.5.0",
            "_view_name": "ProgressView",
            "bar_style": "success",
            "description": "",
            "description_tooltip": null,
            "layout": "IPY_MODEL_e1763521dcdc4478ae0db90fdcc79a86",
            "max": 13368,
            "min": 0,
            "orientation": "horizontal",
            "style": "IPY_MODEL_83190e9128264db88ca95516424d005c",
            "value": 13368
          }
        },
        "112cff619ac04afc8fa1acf863bbb6c3": {
          "model_module": "@jupyter-widgets/controls",
          "model_name": "HTMLModel",
          "model_module_version": "1.5.0",
          "state": {
            "_dom_classes": [],
            "_model_module": "@jupyter-widgets/controls",
            "_model_module_version": "1.5.0",
            "_model_name": "HTMLModel",
            "_view_count": null,
            "_view_module": "@jupyter-widgets/controls",
            "_view_module_version": "1.5.0",
            "_view_name": "HTMLView",
            "description": "",
            "description_tooltip": null,
            "layout": "IPY_MODEL_95cf167511a040c3904cef14215ed9ed",
            "placeholder": "​",
            "style": "IPY_MODEL_fe1053fcc24b4281b9c39e5df6b21a36",
            "value": " 13368/13368 [00:14&lt;00:00, 925.56it/s]"
          }
        },
        "94ece906da1544a4a385df4328b38360": {
          "model_module": "@jupyter-widgets/base",
          "model_name": "LayoutModel",
          "model_module_version": "1.2.0",
          "state": {
            "_model_module": "@jupyter-widgets/base",
            "_model_module_version": "1.2.0",
            "_model_name": "LayoutModel",
            "_view_count": null,
            "_view_module": "@jupyter-widgets/base",
            "_view_module_version": "1.2.0",
            "_view_name": "LayoutView",
            "align_content": null,
            "align_items": null,
            "align_self": null,
            "border": null,
            "bottom": null,
            "display": null,
            "flex": null,
            "flex_flow": null,
            "grid_area": null,
            "grid_auto_columns": null,
            "grid_auto_flow": null,
            "grid_auto_rows": null,
            "grid_column": null,
            "grid_gap": null,
            "grid_row": null,
            "grid_template_areas": null,
            "grid_template_columns": null,
            "grid_template_rows": null,
            "height": null,
            "justify_content": null,
            "justify_items": null,
            "left": null,
            "margin": null,
            "max_height": null,
            "max_width": null,
            "min_height": null,
            "min_width": null,
            "object_fit": null,
            "object_position": null,
            "order": null,
            "overflow": null,
            "overflow_x": null,
            "overflow_y": null,
            "padding": null,
            "right": null,
            "top": null,
            "visibility": null,
            "width": null
          }
        },
        "29d8af2d0a03495eae73034153bc8eb4": {
          "model_module": "@jupyter-widgets/base",
          "model_name": "LayoutModel",
          "model_module_version": "1.2.0",
          "state": {
            "_model_module": "@jupyter-widgets/base",
            "_model_module_version": "1.2.0",
            "_model_name": "LayoutModel",
            "_view_count": null,
            "_view_module": "@jupyter-widgets/base",
            "_view_module_version": "1.2.0",
            "_view_name": "LayoutView",
            "align_content": null,
            "align_items": null,
            "align_self": null,
            "border": null,
            "bottom": null,
            "display": null,
            "flex": null,
            "flex_flow": null,
            "grid_area": null,
            "grid_auto_columns": null,
            "grid_auto_flow": null,
            "grid_auto_rows": null,
            "grid_column": null,
            "grid_gap": null,
            "grid_row": null,
            "grid_template_areas": null,
            "grid_template_columns": null,
            "grid_template_rows": null,
            "height": null,
            "justify_content": null,
            "justify_items": null,
            "left": null,
            "margin": null,
            "max_height": null,
            "max_width": null,
            "min_height": null,
            "min_width": null,
            "object_fit": null,
            "object_position": null,
            "order": null,
            "overflow": null,
            "overflow_x": null,
            "overflow_y": null,
            "padding": null,
            "right": null,
            "top": null,
            "visibility": null,
            "width": null
          }
        },
        "99b2fc9a7cfc4d419fc81c31c2534858": {
          "model_module": "@jupyter-widgets/controls",
          "model_name": "DescriptionStyleModel",
          "model_module_version": "1.5.0",
          "state": {
            "_model_module": "@jupyter-widgets/controls",
            "_model_module_version": "1.5.0",
            "_model_name": "DescriptionStyleModel",
            "_view_count": null,
            "_view_module": "@jupyter-widgets/base",
            "_view_module_version": "1.2.0",
            "_view_name": "StyleView",
            "description_width": ""
          }
        },
        "e1763521dcdc4478ae0db90fdcc79a86": {
          "model_module": "@jupyter-widgets/base",
          "model_name": "LayoutModel",
          "model_module_version": "1.2.0",
          "state": {
            "_model_module": "@jupyter-widgets/base",
            "_model_module_version": "1.2.0",
            "_model_name": "LayoutModel",
            "_view_count": null,
            "_view_module": "@jupyter-widgets/base",
            "_view_module_version": "1.2.0",
            "_view_name": "LayoutView",
            "align_content": null,
            "align_items": null,
            "align_self": null,
            "border": null,
            "bottom": null,
            "display": null,
            "flex": null,
            "flex_flow": null,
            "grid_area": null,
            "grid_auto_columns": null,
            "grid_auto_flow": null,
            "grid_auto_rows": null,
            "grid_column": null,
            "grid_gap": null,
            "grid_row": null,
            "grid_template_areas": null,
            "grid_template_columns": null,
            "grid_template_rows": null,
            "height": null,
            "justify_content": null,
            "justify_items": null,
            "left": null,
            "margin": null,
            "max_height": null,
            "max_width": null,
            "min_height": null,
            "min_width": null,
            "object_fit": null,
            "object_position": null,
            "order": null,
            "overflow": null,
            "overflow_x": null,
            "overflow_y": null,
            "padding": null,
            "right": null,
            "top": null,
            "visibility": null,
            "width": null
          }
        },
        "83190e9128264db88ca95516424d005c": {
          "model_module": "@jupyter-widgets/controls",
          "model_name": "ProgressStyleModel",
          "model_module_version": "1.5.0",
          "state": {
            "_model_module": "@jupyter-widgets/controls",
            "_model_module_version": "1.5.0",
            "_model_name": "ProgressStyleModel",
            "_view_count": null,
            "_view_module": "@jupyter-widgets/base",
            "_view_module_version": "1.2.0",
            "_view_name": "StyleView",
            "bar_color": null,
            "description_width": ""
          }
        },
        "95cf167511a040c3904cef14215ed9ed": {
          "model_module": "@jupyter-widgets/base",
          "model_name": "LayoutModel",
          "model_module_version": "1.2.0",
          "state": {
            "_model_module": "@jupyter-widgets/base",
            "_model_module_version": "1.2.0",
            "_model_name": "LayoutModel",
            "_view_count": null,
            "_view_module": "@jupyter-widgets/base",
            "_view_module_version": "1.2.0",
            "_view_name": "LayoutView",
            "align_content": null,
            "align_items": null,
            "align_self": null,
            "border": null,
            "bottom": null,
            "display": null,
            "flex": null,
            "flex_flow": null,
            "grid_area": null,
            "grid_auto_columns": null,
            "grid_auto_flow": null,
            "grid_auto_rows": null,
            "grid_column": null,
            "grid_gap": null,
            "grid_row": null,
            "grid_template_areas": null,
            "grid_template_columns": null,
            "grid_template_rows": null,
            "height": null,
            "justify_content": null,
            "justify_items": null,
            "left": null,
            "margin": null,
            "max_height": null,
            "max_width": null,
            "min_height": null,
            "min_width": null,
            "object_fit": null,
            "object_position": null,
            "order": null,
            "overflow": null,
            "overflow_x": null,
            "overflow_y": null,
            "padding": null,
            "right": null,
            "top": null,
            "visibility": null,
            "width": null
          }
        },
        "fe1053fcc24b4281b9c39e5df6b21a36": {
          "model_module": "@jupyter-widgets/controls",
          "model_name": "DescriptionStyleModel",
          "model_module_version": "1.5.0",
          "state": {
            "_model_module": "@jupyter-widgets/controls",
            "_model_module_version": "1.5.0",
            "_model_name": "DescriptionStyleModel",
            "_view_count": null,
            "_view_module": "@jupyter-widgets/base",
            "_view_module_version": "1.2.0",
            "_view_name": "StyleView",
            "description_width": ""
          }
        },
        "24be8d08bd7e4f1aaca7a906c0d535fd": {
          "model_module": "@jupyter-widgets/controls",
          "model_name": "HBoxModel",
          "model_module_version": "1.5.0",
          "state": {
            "_dom_classes": [],
            "_model_module": "@jupyter-widgets/controls",
            "_model_module_version": "1.5.0",
            "_model_name": "HBoxModel",
            "_view_count": null,
            "_view_module": "@jupyter-widgets/controls",
            "_view_module_version": "1.5.0",
            "_view_name": "HBoxView",
            "box_style": "",
            "children": [
              "IPY_MODEL_4b27eb42141b4950b2138086c281a855",
              "IPY_MODEL_b79e9d3810ab447a87c85b8014847ad6",
              "IPY_MODEL_667bc1f7b0654be297b40a25dd75604d"
            ],
            "layout": "IPY_MODEL_30af41a318dd481c97ca6b5f207b6603"
          }
        },
        "4b27eb42141b4950b2138086c281a855": {
          "model_module": "@jupyter-widgets/controls",
          "model_name": "HTMLModel",
          "model_module_version": "1.5.0",
          "state": {
            "_dom_classes": [],
            "_model_module": "@jupyter-widgets/controls",
            "_model_module_version": "1.5.0",
            "_model_name": "HTMLModel",
            "_view_count": null,
            "_view_module": "@jupyter-widgets/controls",
            "_view_module_version": "1.5.0",
            "_view_name": "HTMLView",
            "description": "",
            "description_tooltip": null,
            "layout": "IPY_MODEL_2b0e8d58847f4bceaaaa43118bed2edc",
            "placeholder": "​",
            "style": "IPY_MODEL_07e1cfaa2f0845cdad5a97f81a4e989b",
            "value": "100%"
          }
        },
        "b79e9d3810ab447a87c85b8014847ad6": {
          "model_module": "@jupyter-widgets/controls",
          "model_name": "FloatProgressModel",
          "model_module_version": "1.5.0",
          "state": {
            "_dom_classes": [],
            "_model_module": "@jupyter-widgets/controls",
            "_model_module_version": "1.5.0",
            "_model_name": "FloatProgressModel",
            "_view_count": null,
            "_view_module": "@jupyter-widgets/controls",
            "_view_module_version": "1.5.0",
            "_view_name": "ProgressView",
            "bar_style": "success",
            "description": "",
            "description_tooltip": null,
            "layout": "IPY_MODEL_079cbb68d3544db9829e76486a8c02f0",
            "max": 11490,
            "min": 0,
            "orientation": "horizontal",
            "style": "IPY_MODEL_0fe4d8d28e574cbc8cc8ba3336668f33",
            "value": 11490
          }
        },
        "667bc1f7b0654be297b40a25dd75604d": {
          "model_module": "@jupyter-widgets/controls",
          "model_name": "HTMLModel",
          "model_module_version": "1.5.0",
          "state": {
            "_dom_classes": [],
            "_model_module": "@jupyter-widgets/controls",
            "_model_module_version": "1.5.0",
            "_model_name": "HTMLModel",
            "_view_count": null,
            "_view_module": "@jupyter-widgets/controls",
            "_view_module_version": "1.5.0",
            "_view_name": "HTMLView",
            "description": "",
            "description_tooltip": null,
            "layout": "IPY_MODEL_ccf97d994b0149b0bb159ad017e55707",
            "placeholder": "​",
            "style": "IPY_MODEL_9ecb686d089a42d382ea3ade13a58892",
            "value": " 11490/11490 [00:12&lt;00:00, 900.83it/s]"
          }
        },
        "30af41a318dd481c97ca6b5f207b6603": {
          "model_module": "@jupyter-widgets/base",
          "model_name": "LayoutModel",
          "model_module_version": "1.2.0",
          "state": {
            "_model_module": "@jupyter-widgets/base",
            "_model_module_version": "1.2.0",
            "_model_name": "LayoutModel",
            "_view_count": null,
            "_view_module": "@jupyter-widgets/base",
            "_view_module_version": "1.2.0",
            "_view_name": "LayoutView",
            "align_content": null,
            "align_items": null,
            "align_self": null,
            "border": null,
            "bottom": null,
            "display": null,
            "flex": null,
            "flex_flow": null,
            "grid_area": null,
            "grid_auto_columns": null,
            "grid_auto_flow": null,
            "grid_auto_rows": null,
            "grid_column": null,
            "grid_gap": null,
            "grid_row": null,
            "grid_template_areas": null,
            "grid_template_columns": null,
            "grid_template_rows": null,
            "height": null,
            "justify_content": null,
            "justify_items": null,
            "left": null,
            "margin": null,
            "max_height": null,
            "max_width": null,
            "min_height": null,
            "min_width": null,
            "object_fit": null,
            "object_position": null,
            "order": null,
            "overflow": null,
            "overflow_x": null,
            "overflow_y": null,
            "padding": null,
            "right": null,
            "top": null,
            "visibility": null,
            "width": null
          }
        },
        "2b0e8d58847f4bceaaaa43118bed2edc": {
          "model_module": "@jupyter-widgets/base",
          "model_name": "LayoutModel",
          "model_module_version": "1.2.0",
          "state": {
            "_model_module": "@jupyter-widgets/base",
            "_model_module_version": "1.2.0",
            "_model_name": "LayoutModel",
            "_view_count": null,
            "_view_module": "@jupyter-widgets/base",
            "_view_module_version": "1.2.0",
            "_view_name": "LayoutView",
            "align_content": null,
            "align_items": null,
            "align_self": null,
            "border": null,
            "bottom": null,
            "display": null,
            "flex": null,
            "flex_flow": null,
            "grid_area": null,
            "grid_auto_columns": null,
            "grid_auto_flow": null,
            "grid_auto_rows": null,
            "grid_column": null,
            "grid_gap": null,
            "grid_row": null,
            "grid_template_areas": null,
            "grid_template_columns": null,
            "grid_template_rows": null,
            "height": null,
            "justify_content": null,
            "justify_items": null,
            "left": null,
            "margin": null,
            "max_height": null,
            "max_width": null,
            "min_height": null,
            "min_width": null,
            "object_fit": null,
            "object_position": null,
            "order": null,
            "overflow": null,
            "overflow_x": null,
            "overflow_y": null,
            "padding": null,
            "right": null,
            "top": null,
            "visibility": null,
            "width": null
          }
        },
        "07e1cfaa2f0845cdad5a97f81a4e989b": {
          "model_module": "@jupyter-widgets/controls",
          "model_name": "DescriptionStyleModel",
          "model_module_version": "1.5.0",
          "state": {
            "_model_module": "@jupyter-widgets/controls",
            "_model_module_version": "1.5.0",
            "_model_name": "DescriptionStyleModel",
            "_view_count": null,
            "_view_module": "@jupyter-widgets/base",
            "_view_module_version": "1.2.0",
            "_view_name": "StyleView",
            "description_width": ""
          }
        },
        "079cbb68d3544db9829e76486a8c02f0": {
          "model_module": "@jupyter-widgets/base",
          "model_name": "LayoutModel",
          "model_module_version": "1.2.0",
          "state": {
            "_model_module": "@jupyter-widgets/base",
            "_model_module_version": "1.2.0",
            "_model_name": "LayoutModel",
            "_view_count": null,
            "_view_module": "@jupyter-widgets/base",
            "_view_module_version": "1.2.0",
            "_view_name": "LayoutView",
            "align_content": null,
            "align_items": null,
            "align_self": null,
            "border": null,
            "bottom": null,
            "display": null,
            "flex": null,
            "flex_flow": null,
            "grid_area": null,
            "grid_auto_columns": null,
            "grid_auto_flow": null,
            "grid_auto_rows": null,
            "grid_column": null,
            "grid_gap": null,
            "grid_row": null,
            "grid_template_areas": null,
            "grid_template_columns": null,
            "grid_template_rows": null,
            "height": null,
            "justify_content": null,
            "justify_items": null,
            "left": null,
            "margin": null,
            "max_height": null,
            "max_width": null,
            "min_height": null,
            "min_width": null,
            "object_fit": null,
            "object_position": null,
            "order": null,
            "overflow": null,
            "overflow_x": null,
            "overflow_y": null,
            "padding": null,
            "right": null,
            "top": null,
            "visibility": null,
            "width": null
          }
        },
        "0fe4d8d28e574cbc8cc8ba3336668f33": {
          "model_module": "@jupyter-widgets/controls",
          "model_name": "ProgressStyleModel",
          "model_module_version": "1.5.0",
          "state": {
            "_model_module": "@jupyter-widgets/controls",
            "_model_module_version": "1.5.0",
            "_model_name": "ProgressStyleModel",
            "_view_count": null,
            "_view_module": "@jupyter-widgets/base",
            "_view_module_version": "1.2.0",
            "_view_name": "StyleView",
            "bar_color": null,
            "description_width": ""
          }
        },
        "ccf97d994b0149b0bb159ad017e55707": {
          "model_module": "@jupyter-widgets/base",
          "model_name": "LayoutModel",
          "model_module_version": "1.2.0",
          "state": {
            "_model_module": "@jupyter-widgets/base",
            "_model_module_version": "1.2.0",
            "_model_name": "LayoutModel",
            "_view_count": null,
            "_view_module": "@jupyter-widgets/base",
            "_view_module_version": "1.2.0",
            "_view_name": "LayoutView",
            "align_content": null,
            "align_items": null,
            "align_self": null,
            "border": null,
            "bottom": null,
            "display": null,
            "flex": null,
            "flex_flow": null,
            "grid_area": null,
            "grid_auto_columns": null,
            "grid_auto_flow": null,
            "grid_auto_rows": null,
            "grid_column": null,
            "grid_gap": null,
            "grid_row": null,
            "grid_template_areas": null,
            "grid_template_columns": null,
            "grid_template_rows": null,
            "height": null,
            "justify_content": null,
            "justify_items": null,
            "left": null,
            "margin": null,
            "max_height": null,
            "max_width": null,
            "min_height": null,
            "min_width": null,
            "object_fit": null,
            "object_position": null,
            "order": null,
            "overflow": null,
            "overflow_x": null,
            "overflow_y": null,
            "padding": null,
            "right": null,
            "top": null,
            "visibility": null,
            "width": null
          }
        },
        "9ecb686d089a42d382ea3ade13a58892": {
          "model_module": "@jupyter-widgets/controls",
          "model_name": "DescriptionStyleModel",
          "model_module_version": "1.5.0",
          "state": {
            "_model_module": "@jupyter-widgets/controls",
            "_model_module_version": "1.5.0",
            "_model_name": "DescriptionStyleModel",
            "_view_count": null,
            "_view_module": "@jupyter-widgets/base",
            "_view_module_version": "1.2.0",
            "_view_name": "StyleView",
            "description_width": ""
          }
        },
        "f03a2721d06044d1985164417420a7d3": {
          "model_module": "@jupyter-widgets/controls",
          "model_name": "HBoxModel",
          "model_module_version": "1.5.0",
          "state": {
            "_dom_classes": [],
            "_model_module": "@jupyter-widgets/controls",
            "_model_module_version": "1.5.0",
            "_model_name": "HBoxModel",
            "_view_count": null,
            "_view_module": "@jupyter-widgets/controls",
            "_view_module_version": "1.5.0",
            "_view_name": "HBoxView",
            "box_style": "",
            "children": [
              "IPY_MODEL_16f9a0a5f24c46c7aded0966d3246deb",
              "IPY_MODEL_b4c34dd6224e40fea0ee8125ba7db37d",
              "IPY_MODEL_1880145638f1436c9637528895531beb"
            ],
            "layout": "IPY_MODEL_f79724f17b6d41f9afea36f4c57e780d"
          }
        },
        "16f9a0a5f24c46c7aded0966d3246deb": {
          "model_module": "@jupyter-widgets/controls",
          "model_name": "HTMLModel",
          "model_module_version": "1.5.0",
          "state": {
            "_dom_classes": [],
            "_model_module": "@jupyter-widgets/controls",
            "_model_module_version": "1.5.0",
            "_model_name": "HTMLModel",
            "_view_count": null,
            "_view_module": "@jupyter-widgets/controls",
            "_view_module_version": "1.5.0",
            "_view_name": "HTMLView",
            "description": "",
            "description_tooltip": null,
            "layout": "IPY_MODEL_b58e6036ef464f88b333d683524b2803",
            "placeholder": "​",
            "style": "IPY_MODEL_11ef9811007d4548a8526771622268d3",
            "value": "Downloading: 100%"
          }
        },
        "b4c34dd6224e40fea0ee8125ba7db37d": {
          "model_module": "@jupyter-widgets/controls",
          "model_name": "FloatProgressModel",
          "model_module_version": "1.5.0",
          "state": {
            "_dom_classes": [],
            "_model_module": "@jupyter-widgets/controls",
            "_model_module_version": "1.5.0",
            "_model_name": "FloatProgressModel",
            "_view_count": null,
            "_view_module": "@jupyter-widgets/controls",
            "_view_module_version": "1.5.0",
            "_view_name": "ProgressView",
            "bar_style": "success",
            "description": "",
            "description_tooltip": null,
            "layout": "IPY_MODEL_c91d364f736a424998d944477b118d6b",
            "max": 314,
            "min": 0,
            "orientation": "horizontal",
            "style": "IPY_MODEL_727c89ea8a8345d7a94f11f54cc1704c",
            "value": 314
          }
        },
        "1880145638f1436c9637528895531beb": {
          "model_module": "@jupyter-widgets/controls",
          "model_name": "HTMLModel",
          "model_module_version": "1.5.0",
          "state": {
            "_dom_classes": [],
            "_model_module": "@jupyter-widgets/controls",
            "_model_module_version": "1.5.0",
            "_model_name": "HTMLModel",
            "_view_count": null,
            "_view_module": "@jupyter-widgets/controls",
            "_view_module_version": "1.5.0",
            "_view_name": "HTMLView",
            "description": "",
            "description_tooltip": null,
            "layout": "IPY_MODEL_a8f4f79cb5154b13a65c01859e1d4461",
            "placeholder": "​",
            "style": "IPY_MODEL_23e1edaa3e4f45258bb675b0c2e05b9e",
            "value": " 314/314 [00:00&lt;00:00, 12.6kB/s]"
          }
        },
        "f79724f17b6d41f9afea36f4c57e780d": {
          "model_module": "@jupyter-widgets/base",
          "model_name": "LayoutModel",
          "model_module_version": "1.2.0",
          "state": {
            "_model_module": "@jupyter-widgets/base",
            "_model_module_version": "1.2.0",
            "_model_name": "LayoutModel",
            "_view_count": null,
            "_view_module": "@jupyter-widgets/base",
            "_view_module_version": "1.2.0",
            "_view_name": "LayoutView",
            "align_content": null,
            "align_items": null,
            "align_self": null,
            "border": null,
            "bottom": null,
            "display": null,
            "flex": null,
            "flex_flow": null,
            "grid_area": null,
            "grid_auto_columns": null,
            "grid_auto_flow": null,
            "grid_auto_rows": null,
            "grid_column": null,
            "grid_gap": null,
            "grid_row": null,
            "grid_template_areas": null,
            "grid_template_columns": null,
            "grid_template_rows": null,
            "height": null,
            "justify_content": null,
            "justify_items": null,
            "left": null,
            "margin": null,
            "max_height": null,
            "max_width": null,
            "min_height": null,
            "min_width": null,
            "object_fit": null,
            "object_position": null,
            "order": null,
            "overflow": null,
            "overflow_x": null,
            "overflow_y": null,
            "padding": null,
            "right": null,
            "top": null,
            "visibility": null,
            "width": null
          }
        },
        "b58e6036ef464f88b333d683524b2803": {
          "model_module": "@jupyter-widgets/base",
          "model_name": "LayoutModel",
          "model_module_version": "1.2.0",
          "state": {
            "_model_module": "@jupyter-widgets/base",
            "_model_module_version": "1.2.0",
            "_model_name": "LayoutModel",
            "_view_count": null,
            "_view_module": "@jupyter-widgets/base",
            "_view_module_version": "1.2.0",
            "_view_name": "LayoutView",
            "align_content": null,
            "align_items": null,
            "align_self": null,
            "border": null,
            "bottom": null,
            "display": null,
            "flex": null,
            "flex_flow": null,
            "grid_area": null,
            "grid_auto_columns": null,
            "grid_auto_flow": null,
            "grid_auto_rows": null,
            "grid_column": null,
            "grid_gap": null,
            "grid_row": null,
            "grid_template_areas": null,
            "grid_template_columns": null,
            "grid_template_rows": null,
            "height": null,
            "justify_content": null,
            "justify_items": null,
            "left": null,
            "margin": null,
            "max_height": null,
            "max_width": null,
            "min_height": null,
            "min_width": null,
            "object_fit": null,
            "object_position": null,
            "order": null,
            "overflow": null,
            "overflow_x": null,
            "overflow_y": null,
            "padding": null,
            "right": null,
            "top": null,
            "visibility": null,
            "width": null
          }
        },
        "11ef9811007d4548a8526771622268d3": {
          "model_module": "@jupyter-widgets/controls",
          "model_name": "DescriptionStyleModel",
          "model_module_version": "1.5.0",
          "state": {
            "_model_module": "@jupyter-widgets/controls",
            "_model_module_version": "1.5.0",
            "_model_name": "DescriptionStyleModel",
            "_view_count": null,
            "_view_module": "@jupyter-widgets/base",
            "_view_module_version": "1.2.0",
            "_view_name": "StyleView",
            "description_width": ""
          }
        },
        "c91d364f736a424998d944477b118d6b": {
          "model_module": "@jupyter-widgets/base",
          "model_name": "LayoutModel",
          "model_module_version": "1.2.0",
          "state": {
            "_model_module": "@jupyter-widgets/base",
            "_model_module_version": "1.2.0",
            "_model_name": "LayoutModel",
            "_view_count": null,
            "_view_module": "@jupyter-widgets/base",
            "_view_module_version": "1.2.0",
            "_view_name": "LayoutView",
            "align_content": null,
            "align_items": null,
            "align_self": null,
            "border": null,
            "bottom": null,
            "display": null,
            "flex": null,
            "flex_flow": null,
            "grid_area": null,
            "grid_auto_columns": null,
            "grid_auto_flow": null,
            "grid_auto_rows": null,
            "grid_column": null,
            "grid_gap": null,
            "grid_row": null,
            "grid_template_areas": null,
            "grid_template_columns": null,
            "grid_template_rows": null,
            "height": null,
            "justify_content": null,
            "justify_items": null,
            "left": null,
            "margin": null,
            "max_height": null,
            "max_width": null,
            "min_height": null,
            "min_width": null,
            "object_fit": null,
            "object_position": null,
            "order": null,
            "overflow": null,
            "overflow_x": null,
            "overflow_y": null,
            "padding": null,
            "right": null,
            "top": null,
            "visibility": null,
            "width": null
          }
        },
        "727c89ea8a8345d7a94f11f54cc1704c": {
          "model_module": "@jupyter-widgets/controls",
          "model_name": "ProgressStyleModel",
          "model_module_version": "1.5.0",
          "state": {
            "_model_module": "@jupyter-widgets/controls",
            "_model_module_version": "1.5.0",
            "_model_name": "ProgressStyleModel",
            "_view_count": null,
            "_view_module": "@jupyter-widgets/base",
            "_view_module_version": "1.2.0",
            "_view_name": "StyleView",
            "bar_color": null,
            "description_width": ""
          }
        },
        "a8f4f79cb5154b13a65c01859e1d4461": {
          "model_module": "@jupyter-widgets/base",
          "model_name": "LayoutModel",
          "model_module_version": "1.2.0",
          "state": {
            "_model_module": "@jupyter-widgets/base",
            "_model_module_version": "1.2.0",
            "_model_name": "LayoutModel",
            "_view_count": null,
            "_view_module": "@jupyter-widgets/base",
            "_view_module_version": "1.2.0",
            "_view_name": "LayoutView",
            "align_content": null,
            "align_items": null,
            "align_self": null,
            "border": null,
            "bottom": null,
            "display": null,
            "flex": null,
            "flex_flow": null,
            "grid_area": null,
            "grid_auto_columns": null,
            "grid_auto_flow": null,
            "grid_auto_rows": null,
            "grid_column": null,
            "grid_gap": null,
            "grid_row": null,
            "grid_template_areas": null,
            "grid_template_columns": null,
            "grid_template_rows": null,
            "height": null,
            "justify_content": null,
            "justify_items": null,
            "left": null,
            "margin": null,
            "max_height": null,
            "max_width": null,
            "min_height": null,
            "min_width": null,
            "object_fit": null,
            "object_position": null,
            "order": null,
            "overflow": null,
            "overflow_x": null,
            "overflow_y": null,
            "padding": null,
            "right": null,
            "top": null,
            "visibility": null,
            "width": null
          }
        },
        "23e1edaa3e4f45258bb675b0c2e05b9e": {
          "model_module": "@jupyter-widgets/controls",
          "model_name": "DescriptionStyleModel",
          "model_module_version": "1.5.0",
          "state": {
            "_model_module": "@jupyter-widgets/controls",
            "_model_module_version": "1.5.0",
            "_model_name": "DescriptionStyleModel",
            "_view_count": null,
            "_view_module": "@jupyter-widgets/base",
            "_view_module_version": "1.2.0",
            "_view_name": "StyleView",
            "description_width": ""
          }
        },
        "fcc73843f81b4632851e76afb1b846aa": {
          "model_module": "@jupyter-widgets/controls",
          "model_name": "HBoxModel",
          "model_module_version": "1.5.0",
          "state": {
            "_dom_classes": [],
            "_model_module": "@jupyter-widgets/controls",
            "_model_module_version": "1.5.0",
            "_model_name": "HBoxModel",
            "_view_count": null,
            "_view_module": "@jupyter-widgets/controls",
            "_view_module_version": "1.5.0",
            "_view_name": "HBoxView",
            "box_style": "",
            "children": [
              "IPY_MODEL_136c66e8086649c5bf895ad7a222e3af",
              "IPY_MODEL_9ec2e2e0ce1147fdb0daaf02451c3263",
              "IPY_MODEL_f65ed439ea8c4c2d9ac3769aa5f5f8a2"
            ],
            "layout": "IPY_MODEL_29856313ebb94a18840d707e7269212a"
          }
        },
        "136c66e8086649c5bf895ad7a222e3af": {
          "model_module": "@jupyter-widgets/controls",
          "model_name": "HTMLModel",
          "model_module_version": "1.5.0",
          "state": {
            "_dom_classes": [],
            "_model_module": "@jupyter-widgets/controls",
            "_model_module_version": "1.5.0",
            "_model_name": "HTMLModel",
            "_view_count": null,
            "_view_module": "@jupyter-widgets/controls",
            "_view_module_version": "1.5.0",
            "_view_name": "HTMLView",
            "description": "",
            "description_tooltip": null,
            "layout": "IPY_MODEL_0e2e2cf17e194db89a57465c5419097f",
            "placeholder": "​",
            "style": "IPY_MODEL_d812c64821ee42d9bf19406242185e1b",
            "value": "Downloading: 100%"
          }
        },
        "9ec2e2e0ce1147fdb0daaf02451c3263": {
          "model_module": "@jupyter-widgets/controls",
          "model_name": "FloatProgressModel",
          "model_module_version": "1.5.0",
          "state": {
            "_dom_classes": [],
            "_model_module": "@jupyter-widgets/controls",
            "_model_module_version": "1.5.0",
            "_model_name": "FloatProgressModel",
            "_view_count": null,
            "_view_module": "@jupyter-widgets/controls",
            "_view_module_version": "1.5.0",
            "_view_name": "ProgressView",
            "bar_style": "success",
            "description": "",
            "description_tooltip": null,
            "layout": "IPY_MODEL_3139411b36d7457b988bd67b4b5696a6",
            "max": 629,
            "min": 0,
            "orientation": "horizontal",
            "style": "IPY_MODEL_df3b7ed92eea4392ac2258ec6b3275c4",
            "value": 629
          }
        },
        "f65ed439ea8c4c2d9ac3769aa5f5f8a2": {
          "model_module": "@jupyter-widgets/controls",
          "model_name": "HTMLModel",
          "model_module_version": "1.5.0",
          "state": {
            "_dom_classes": [],
            "_model_module": "@jupyter-widgets/controls",
            "_model_module_version": "1.5.0",
            "_model_name": "HTMLModel",
            "_view_count": null,
            "_view_module": "@jupyter-widgets/controls",
            "_view_module_version": "1.5.0",
            "_view_name": "HTMLView",
            "description": "",
            "description_tooltip": null,
            "layout": "IPY_MODEL_22b69389877940d9961aabe9417d03ff",
            "placeholder": "​",
            "style": "IPY_MODEL_b63e8f1abfb042f7a1bbcb5c75894078",
            "value": " 629/629 [00:00&lt;00:00, 25.2kB/s]"
          }
        },
        "29856313ebb94a18840d707e7269212a": {
          "model_module": "@jupyter-widgets/base",
          "model_name": "LayoutModel",
          "model_module_version": "1.2.0",
          "state": {
            "_model_module": "@jupyter-widgets/base",
            "_model_module_version": "1.2.0",
            "_model_name": "LayoutModel",
            "_view_count": null,
            "_view_module": "@jupyter-widgets/base",
            "_view_module_version": "1.2.0",
            "_view_name": "LayoutView",
            "align_content": null,
            "align_items": null,
            "align_self": null,
            "border": null,
            "bottom": null,
            "display": null,
            "flex": null,
            "flex_flow": null,
            "grid_area": null,
            "grid_auto_columns": null,
            "grid_auto_flow": null,
            "grid_auto_rows": null,
            "grid_column": null,
            "grid_gap": null,
            "grid_row": null,
            "grid_template_areas": null,
            "grid_template_columns": null,
            "grid_template_rows": null,
            "height": null,
            "justify_content": null,
            "justify_items": null,
            "left": null,
            "margin": null,
            "max_height": null,
            "max_width": null,
            "min_height": null,
            "min_width": null,
            "object_fit": null,
            "object_position": null,
            "order": null,
            "overflow": null,
            "overflow_x": null,
            "overflow_y": null,
            "padding": null,
            "right": null,
            "top": null,
            "visibility": null,
            "width": null
          }
        },
        "0e2e2cf17e194db89a57465c5419097f": {
          "model_module": "@jupyter-widgets/base",
          "model_name": "LayoutModel",
          "model_module_version": "1.2.0",
          "state": {
            "_model_module": "@jupyter-widgets/base",
            "_model_module_version": "1.2.0",
            "_model_name": "LayoutModel",
            "_view_count": null,
            "_view_module": "@jupyter-widgets/base",
            "_view_module_version": "1.2.0",
            "_view_name": "LayoutView",
            "align_content": null,
            "align_items": null,
            "align_self": null,
            "border": null,
            "bottom": null,
            "display": null,
            "flex": null,
            "flex_flow": null,
            "grid_area": null,
            "grid_auto_columns": null,
            "grid_auto_flow": null,
            "grid_auto_rows": null,
            "grid_column": null,
            "grid_gap": null,
            "grid_row": null,
            "grid_template_areas": null,
            "grid_template_columns": null,
            "grid_template_rows": null,
            "height": null,
            "justify_content": null,
            "justify_items": null,
            "left": null,
            "margin": null,
            "max_height": null,
            "max_width": null,
            "min_height": null,
            "min_width": null,
            "object_fit": null,
            "object_position": null,
            "order": null,
            "overflow": null,
            "overflow_x": null,
            "overflow_y": null,
            "padding": null,
            "right": null,
            "top": null,
            "visibility": null,
            "width": null
          }
        },
        "d812c64821ee42d9bf19406242185e1b": {
          "model_module": "@jupyter-widgets/controls",
          "model_name": "DescriptionStyleModel",
          "model_module_version": "1.5.0",
          "state": {
            "_model_module": "@jupyter-widgets/controls",
            "_model_module_version": "1.5.0",
            "_model_name": "DescriptionStyleModel",
            "_view_count": null,
            "_view_module": "@jupyter-widgets/base",
            "_view_module_version": "1.2.0",
            "_view_name": "StyleView",
            "description_width": ""
          }
        },
        "3139411b36d7457b988bd67b4b5696a6": {
          "model_module": "@jupyter-widgets/base",
          "model_name": "LayoutModel",
          "model_module_version": "1.2.0",
          "state": {
            "_model_module": "@jupyter-widgets/base",
            "_model_module_version": "1.2.0",
            "_model_name": "LayoutModel",
            "_view_count": null,
            "_view_module": "@jupyter-widgets/base",
            "_view_module_version": "1.2.0",
            "_view_name": "LayoutView",
            "align_content": null,
            "align_items": null,
            "align_self": null,
            "border": null,
            "bottom": null,
            "display": null,
            "flex": null,
            "flex_flow": null,
            "grid_area": null,
            "grid_auto_columns": null,
            "grid_auto_flow": null,
            "grid_auto_rows": null,
            "grid_column": null,
            "grid_gap": null,
            "grid_row": null,
            "grid_template_areas": null,
            "grid_template_columns": null,
            "grid_template_rows": null,
            "height": null,
            "justify_content": null,
            "justify_items": null,
            "left": null,
            "margin": null,
            "max_height": null,
            "max_width": null,
            "min_height": null,
            "min_width": null,
            "object_fit": null,
            "object_position": null,
            "order": null,
            "overflow": null,
            "overflow_x": null,
            "overflow_y": null,
            "padding": null,
            "right": null,
            "top": null,
            "visibility": null,
            "width": null
          }
        },
        "df3b7ed92eea4392ac2258ec6b3275c4": {
          "model_module": "@jupyter-widgets/controls",
          "model_name": "ProgressStyleModel",
          "model_module_version": "1.5.0",
          "state": {
            "_model_module": "@jupyter-widgets/controls",
            "_model_module_version": "1.5.0",
            "_model_name": "ProgressStyleModel",
            "_view_count": null,
            "_view_module": "@jupyter-widgets/base",
            "_view_module_version": "1.2.0",
            "_view_name": "StyleView",
            "bar_color": null,
            "description_width": ""
          }
        },
        "22b69389877940d9961aabe9417d03ff": {
          "model_module": "@jupyter-widgets/base",
          "model_name": "LayoutModel",
          "model_module_version": "1.2.0",
          "state": {
            "_model_module": "@jupyter-widgets/base",
            "_model_module_version": "1.2.0",
            "_model_name": "LayoutModel",
            "_view_count": null,
            "_view_module": "@jupyter-widgets/base",
            "_view_module_version": "1.2.0",
            "_view_name": "LayoutView",
            "align_content": null,
            "align_items": null,
            "align_self": null,
            "border": null,
            "bottom": null,
            "display": null,
            "flex": null,
            "flex_flow": null,
            "grid_area": null,
            "grid_auto_columns": null,
            "grid_auto_flow": null,
            "grid_auto_rows": null,
            "grid_column": null,
            "grid_gap": null,
            "grid_row": null,
            "grid_template_areas": null,
            "grid_template_columns": null,
            "grid_template_rows": null,
            "height": null,
            "justify_content": null,
            "justify_items": null,
            "left": null,
            "margin": null,
            "max_height": null,
            "max_width": null,
            "min_height": null,
            "min_width": null,
            "object_fit": null,
            "object_position": null,
            "order": null,
            "overflow": null,
            "overflow_x": null,
            "overflow_y": null,
            "padding": null,
            "right": null,
            "top": null,
            "visibility": null,
            "width": null
          }
        },
        "b63e8f1abfb042f7a1bbcb5c75894078": {
          "model_module": "@jupyter-widgets/controls",
          "model_name": "DescriptionStyleModel",
          "model_module_version": "1.5.0",
          "state": {
            "_model_module": "@jupyter-widgets/controls",
            "_model_module_version": "1.5.0",
            "_model_name": "DescriptionStyleModel",
            "_view_count": null,
            "_view_module": "@jupyter-widgets/base",
            "_view_module_version": "1.2.0",
            "_view_name": "StyleView",
            "description_width": ""
          }
        },
        "449d6ee55c674fcaa8374582547f0e00": {
          "model_module": "@jupyter-widgets/controls",
          "model_name": "HBoxModel",
          "model_module_version": "1.5.0",
          "state": {
            "_dom_classes": [],
            "_model_module": "@jupyter-widgets/controls",
            "_model_module_version": "1.5.0",
            "_model_name": "HBoxModel",
            "_view_count": null,
            "_view_module": "@jupyter-widgets/controls",
            "_view_module_version": "1.5.0",
            "_view_name": "HBoxView",
            "box_style": "",
            "children": [
              "IPY_MODEL_3277956a5546427a9bf20e814c073e9f",
              "IPY_MODEL_26d9a11427b041b7b8517965a12d7354",
              "IPY_MODEL_8107d6251bd14f19972e789151fee6ab"
            ],
            "layout": "IPY_MODEL_8594bccc4e38480c8431cadf1c4087ad"
          }
        },
        "3277956a5546427a9bf20e814c073e9f": {
          "model_module": "@jupyter-widgets/controls",
          "model_name": "HTMLModel",
          "model_module_version": "1.5.0",
          "state": {
            "_dom_classes": [],
            "_model_module": "@jupyter-widgets/controls",
            "_model_module_version": "1.5.0",
            "_model_name": "HTMLModel",
            "_view_count": null,
            "_view_module": "@jupyter-widgets/controls",
            "_view_module_version": "1.5.0",
            "_view_name": "HTMLView",
            "description": "",
            "description_tooltip": null,
            "layout": "IPY_MODEL_109975ef96ee44cfba70eb25e0ffc9c6",
            "placeholder": "​",
            "style": "IPY_MODEL_b6f73a9493f044a1882ddb6d7b2f2945",
            "value": "Downloading: 100%"
          }
        },
        "26d9a11427b041b7b8517965a12d7354": {
          "model_module": "@jupyter-widgets/controls",
          "model_name": "FloatProgressModel",
          "model_module_version": "1.5.0",
          "state": {
            "_dom_classes": [],
            "_model_module": "@jupyter-widgets/controls",
            "_model_module_version": "1.5.0",
            "_model_name": "FloatProgressModel",
            "_view_count": null,
            "_view_module": "@jupyter-widgets/controls",
            "_view_module_version": "1.5.0",
            "_view_name": "ProgressView",
            "bar_style": "success",
            "description": "",
            "description_tooltip": null,
            "layout": "IPY_MODEL_6649a91db82b469ea806959374d771c9",
            "max": 231508,
            "min": 0,
            "orientation": "horizontal",
            "style": "IPY_MODEL_3dcf769276624ba28998a5e849f6be9e",
            "value": 231508
          }
        },
        "8107d6251bd14f19972e789151fee6ab": {
          "model_module": "@jupyter-widgets/controls",
          "model_name": "HTMLModel",
          "model_module_version": "1.5.0",
          "state": {
            "_dom_classes": [],
            "_model_module": "@jupyter-widgets/controls",
            "_model_module_version": "1.5.0",
            "_model_name": "HTMLModel",
            "_view_count": null,
            "_view_module": "@jupyter-widgets/controls",
            "_view_module_version": "1.5.0",
            "_view_name": "HTMLView",
            "description": "",
            "description_tooltip": null,
            "layout": "IPY_MODEL_6d83f459d8b94aeab7a90916c8629525",
            "placeholder": "​",
            "style": "IPY_MODEL_5c919b2cc0ff4145946c09e1568d935e",
            "value": " 226k/226k [00:00&lt;00:00, 295kB/s]"
          }
        },
        "8594bccc4e38480c8431cadf1c4087ad": {
          "model_module": "@jupyter-widgets/base",
          "model_name": "LayoutModel",
          "model_module_version": "1.2.0",
          "state": {
            "_model_module": "@jupyter-widgets/base",
            "_model_module_version": "1.2.0",
            "_model_name": "LayoutModel",
            "_view_count": null,
            "_view_module": "@jupyter-widgets/base",
            "_view_module_version": "1.2.0",
            "_view_name": "LayoutView",
            "align_content": null,
            "align_items": null,
            "align_self": null,
            "border": null,
            "bottom": null,
            "display": null,
            "flex": null,
            "flex_flow": null,
            "grid_area": null,
            "grid_auto_columns": null,
            "grid_auto_flow": null,
            "grid_auto_rows": null,
            "grid_column": null,
            "grid_gap": null,
            "grid_row": null,
            "grid_template_areas": null,
            "grid_template_columns": null,
            "grid_template_rows": null,
            "height": null,
            "justify_content": null,
            "justify_items": null,
            "left": null,
            "margin": null,
            "max_height": null,
            "max_width": null,
            "min_height": null,
            "min_width": null,
            "object_fit": null,
            "object_position": null,
            "order": null,
            "overflow": null,
            "overflow_x": null,
            "overflow_y": null,
            "padding": null,
            "right": null,
            "top": null,
            "visibility": null,
            "width": null
          }
        },
        "109975ef96ee44cfba70eb25e0ffc9c6": {
          "model_module": "@jupyter-widgets/base",
          "model_name": "LayoutModel",
          "model_module_version": "1.2.0",
          "state": {
            "_model_module": "@jupyter-widgets/base",
            "_model_module_version": "1.2.0",
            "_model_name": "LayoutModel",
            "_view_count": null,
            "_view_module": "@jupyter-widgets/base",
            "_view_module_version": "1.2.0",
            "_view_name": "LayoutView",
            "align_content": null,
            "align_items": null,
            "align_self": null,
            "border": null,
            "bottom": null,
            "display": null,
            "flex": null,
            "flex_flow": null,
            "grid_area": null,
            "grid_auto_columns": null,
            "grid_auto_flow": null,
            "grid_auto_rows": null,
            "grid_column": null,
            "grid_gap": null,
            "grid_row": null,
            "grid_template_areas": null,
            "grid_template_columns": null,
            "grid_template_rows": null,
            "height": null,
            "justify_content": null,
            "justify_items": null,
            "left": null,
            "margin": null,
            "max_height": null,
            "max_width": null,
            "min_height": null,
            "min_width": null,
            "object_fit": null,
            "object_position": null,
            "order": null,
            "overflow": null,
            "overflow_x": null,
            "overflow_y": null,
            "padding": null,
            "right": null,
            "top": null,
            "visibility": null,
            "width": null
          }
        },
        "b6f73a9493f044a1882ddb6d7b2f2945": {
          "model_module": "@jupyter-widgets/controls",
          "model_name": "DescriptionStyleModel",
          "model_module_version": "1.5.0",
          "state": {
            "_model_module": "@jupyter-widgets/controls",
            "_model_module_version": "1.5.0",
            "_model_name": "DescriptionStyleModel",
            "_view_count": null,
            "_view_module": "@jupyter-widgets/base",
            "_view_module_version": "1.2.0",
            "_view_name": "StyleView",
            "description_width": ""
          }
        },
        "6649a91db82b469ea806959374d771c9": {
          "model_module": "@jupyter-widgets/base",
          "model_name": "LayoutModel",
          "model_module_version": "1.2.0",
          "state": {
            "_model_module": "@jupyter-widgets/base",
            "_model_module_version": "1.2.0",
            "_model_name": "LayoutModel",
            "_view_count": null,
            "_view_module": "@jupyter-widgets/base",
            "_view_module_version": "1.2.0",
            "_view_name": "LayoutView",
            "align_content": null,
            "align_items": null,
            "align_self": null,
            "border": null,
            "bottom": null,
            "display": null,
            "flex": null,
            "flex_flow": null,
            "grid_area": null,
            "grid_auto_columns": null,
            "grid_auto_flow": null,
            "grid_auto_rows": null,
            "grid_column": null,
            "grid_gap": null,
            "grid_row": null,
            "grid_template_areas": null,
            "grid_template_columns": null,
            "grid_template_rows": null,
            "height": null,
            "justify_content": null,
            "justify_items": null,
            "left": null,
            "margin": null,
            "max_height": null,
            "max_width": null,
            "min_height": null,
            "min_width": null,
            "object_fit": null,
            "object_position": null,
            "order": null,
            "overflow": null,
            "overflow_x": null,
            "overflow_y": null,
            "padding": null,
            "right": null,
            "top": null,
            "visibility": null,
            "width": null
          }
        },
        "3dcf769276624ba28998a5e849f6be9e": {
          "model_module": "@jupyter-widgets/controls",
          "model_name": "ProgressStyleModel",
          "model_module_version": "1.5.0",
          "state": {
            "_model_module": "@jupyter-widgets/controls",
            "_model_module_version": "1.5.0",
            "_model_name": "ProgressStyleModel",
            "_view_count": null,
            "_view_module": "@jupyter-widgets/base",
            "_view_module_version": "1.2.0",
            "_view_name": "StyleView",
            "bar_color": null,
            "description_width": ""
          }
        },
        "6d83f459d8b94aeab7a90916c8629525": {
          "model_module": "@jupyter-widgets/base",
          "model_name": "LayoutModel",
          "model_module_version": "1.2.0",
          "state": {
            "_model_module": "@jupyter-widgets/base",
            "_model_module_version": "1.2.0",
            "_model_name": "LayoutModel",
            "_view_count": null,
            "_view_module": "@jupyter-widgets/base",
            "_view_module_version": "1.2.0",
            "_view_name": "LayoutView",
            "align_content": null,
            "align_items": null,
            "align_self": null,
            "border": null,
            "bottom": null,
            "display": null,
            "flex": null,
            "flex_flow": null,
            "grid_area": null,
            "grid_auto_columns": null,
            "grid_auto_flow": null,
            "grid_auto_rows": null,
            "grid_column": null,
            "grid_gap": null,
            "grid_row": null,
            "grid_template_areas": null,
            "grid_template_columns": null,
            "grid_template_rows": null,
            "height": null,
            "justify_content": null,
            "justify_items": null,
            "left": null,
            "margin": null,
            "max_height": null,
            "max_width": null,
            "min_height": null,
            "min_width": null,
            "object_fit": null,
            "object_position": null,
            "order": null,
            "overflow": null,
            "overflow_x": null,
            "overflow_y": null,
            "padding": null,
            "right": null,
            "top": null,
            "visibility": null,
            "width": null
          }
        },
        "5c919b2cc0ff4145946c09e1568d935e": {
          "model_module": "@jupyter-widgets/controls",
          "model_name": "DescriptionStyleModel",
          "model_module_version": "1.5.0",
          "state": {
            "_model_module": "@jupyter-widgets/controls",
            "_model_module_version": "1.5.0",
            "_model_name": "DescriptionStyleModel",
            "_view_count": null,
            "_view_module": "@jupyter-widgets/base",
            "_view_module_version": "1.2.0",
            "_view_name": "StyleView",
            "description_width": ""
          }
        },
        "7a271015896b43bc80a245d2c99f5daa": {
          "model_module": "@jupyter-widgets/controls",
          "model_name": "HBoxModel",
          "model_module_version": "1.5.0",
          "state": {
            "_dom_classes": [],
            "_model_module": "@jupyter-widgets/controls",
            "_model_module_version": "1.5.0",
            "_model_name": "HBoxModel",
            "_view_count": null,
            "_view_module": "@jupyter-widgets/controls",
            "_view_module_version": "1.5.0",
            "_view_name": "HBoxView",
            "box_style": "",
            "children": [
              "IPY_MODEL_b6ea9ac827ce42b8a449d0497e82098e",
              "IPY_MODEL_75ce9017a04d4be2be2cc4a46689c683",
              "IPY_MODEL_0d8bd108427b405281eec2e7d106082b"
            ],
            "layout": "IPY_MODEL_e9bc1d594f794f37bbe5a9e219cba97c"
          }
        },
        "b6ea9ac827ce42b8a449d0497e82098e": {
          "model_module": "@jupyter-widgets/controls",
          "model_name": "HTMLModel",
          "model_module_version": "1.5.0",
          "state": {
            "_dom_classes": [],
            "_model_module": "@jupyter-widgets/controls",
            "_model_module_version": "1.5.0",
            "_model_name": "HTMLModel",
            "_view_count": null,
            "_view_module": "@jupyter-widgets/controls",
            "_view_module_version": "1.5.0",
            "_view_name": "HTMLView",
            "description": "",
            "description_tooltip": null,
            "layout": "IPY_MODEL_091a2ae503544b72937a4d96b72eff02",
            "placeholder": "​",
            "style": "IPY_MODEL_570fb8c57ace44b695bb79677cee967c",
            "value": "Downloading: 100%"
          }
        },
        "75ce9017a04d4be2be2cc4a46689c683": {
          "model_module": "@jupyter-widgets/controls",
          "model_name": "FloatProgressModel",
          "model_module_version": "1.5.0",
          "state": {
            "_dom_classes": [],
            "_model_module": "@jupyter-widgets/controls",
            "_model_module_version": "1.5.0",
            "_model_name": "FloatProgressModel",
            "_view_count": null,
            "_view_module": "@jupyter-widgets/controls",
            "_view_module_version": "1.5.0",
            "_view_name": "ProgressView",
            "bar_style": "success",
            "description": "",
            "description_tooltip": null,
            "layout": "IPY_MODEL_32237196d6694f32babbd27ac3e023b7",
            "max": 466248,
            "min": 0,
            "orientation": "horizontal",
            "style": "IPY_MODEL_ccf86be228c94e43857ad82509dbb5e3",
            "value": 466248
          }
        },
        "0d8bd108427b405281eec2e7d106082b": {
          "model_module": "@jupyter-widgets/controls",
          "model_name": "HTMLModel",
          "model_module_version": "1.5.0",
          "state": {
            "_dom_classes": [],
            "_model_module": "@jupyter-widgets/controls",
            "_model_module_version": "1.5.0",
            "_model_name": "HTMLModel",
            "_view_count": null,
            "_view_module": "@jupyter-widgets/controls",
            "_view_module_version": "1.5.0",
            "_view_name": "HTMLView",
            "description": "",
            "description_tooltip": null,
            "layout": "IPY_MODEL_ad0b4fe35a6040aa944f2b3679810d99",
            "placeholder": "​",
            "style": "IPY_MODEL_9e06768768984ae4ae75317a45ee2005",
            "value": " 455k/455k [00:01&lt;00:00, 538kB/s]"
          }
        },
        "e9bc1d594f794f37bbe5a9e219cba97c": {
          "model_module": "@jupyter-widgets/base",
          "model_name": "LayoutModel",
          "model_module_version": "1.2.0",
          "state": {
            "_model_module": "@jupyter-widgets/base",
            "_model_module_version": "1.2.0",
            "_model_name": "LayoutModel",
            "_view_count": null,
            "_view_module": "@jupyter-widgets/base",
            "_view_module_version": "1.2.0",
            "_view_name": "LayoutView",
            "align_content": null,
            "align_items": null,
            "align_self": null,
            "border": null,
            "bottom": null,
            "display": null,
            "flex": null,
            "flex_flow": null,
            "grid_area": null,
            "grid_auto_columns": null,
            "grid_auto_flow": null,
            "grid_auto_rows": null,
            "grid_column": null,
            "grid_gap": null,
            "grid_row": null,
            "grid_template_areas": null,
            "grid_template_columns": null,
            "grid_template_rows": null,
            "height": null,
            "justify_content": null,
            "justify_items": null,
            "left": null,
            "margin": null,
            "max_height": null,
            "max_width": null,
            "min_height": null,
            "min_width": null,
            "object_fit": null,
            "object_position": null,
            "order": null,
            "overflow": null,
            "overflow_x": null,
            "overflow_y": null,
            "padding": null,
            "right": null,
            "top": null,
            "visibility": null,
            "width": null
          }
        },
        "091a2ae503544b72937a4d96b72eff02": {
          "model_module": "@jupyter-widgets/base",
          "model_name": "LayoutModel",
          "model_module_version": "1.2.0",
          "state": {
            "_model_module": "@jupyter-widgets/base",
            "_model_module_version": "1.2.0",
            "_model_name": "LayoutModel",
            "_view_count": null,
            "_view_module": "@jupyter-widgets/base",
            "_view_module_version": "1.2.0",
            "_view_name": "LayoutView",
            "align_content": null,
            "align_items": null,
            "align_self": null,
            "border": null,
            "bottom": null,
            "display": null,
            "flex": null,
            "flex_flow": null,
            "grid_area": null,
            "grid_auto_columns": null,
            "grid_auto_flow": null,
            "grid_auto_rows": null,
            "grid_column": null,
            "grid_gap": null,
            "grid_row": null,
            "grid_template_areas": null,
            "grid_template_columns": null,
            "grid_template_rows": null,
            "height": null,
            "justify_content": null,
            "justify_items": null,
            "left": null,
            "margin": null,
            "max_height": null,
            "max_width": null,
            "min_height": null,
            "min_width": null,
            "object_fit": null,
            "object_position": null,
            "order": null,
            "overflow": null,
            "overflow_x": null,
            "overflow_y": null,
            "padding": null,
            "right": null,
            "top": null,
            "visibility": null,
            "width": null
          }
        },
        "570fb8c57ace44b695bb79677cee967c": {
          "model_module": "@jupyter-widgets/controls",
          "model_name": "DescriptionStyleModel",
          "model_module_version": "1.5.0",
          "state": {
            "_model_module": "@jupyter-widgets/controls",
            "_model_module_version": "1.5.0",
            "_model_name": "DescriptionStyleModel",
            "_view_count": null,
            "_view_module": "@jupyter-widgets/base",
            "_view_module_version": "1.2.0",
            "_view_name": "StyleView",
            "description_width": ""
          }
        },
        "32237196d6694f32babbd27ac3e023b7": {
          "model_module": "@jupyter-widgets/base",
          "model_name": "LayoutModel",
          "model_module_version": "1.2.0",
          "state": {
            "_model_module": "@jupyter-widgets/base",
            "_model_module_version": "1.2.0",
            "_model_name": "LayoutModel",
            "_view_count": null,
            "_view_module": "@jupyter-widgets/base",
            "_view_module_version": "1.2.0",
            "_view_name": "LayoutView",
            "align_content": null,
            "align_items": null,
            "align_self": null,
            "border": null,
            "bottom": null,
            "display": null,
            "flex": null,
            "flex_flow": null,
            "grid_area": null,
            "grid_auto_columns": null,
            "grid_auto_flow": null,
            "grid_auto_rows": null,
            "grid_column": null,
            "grid_gap": null,
            "grid_row": null,
            "grid_template_areas": null,
            "grid_template_columns": null,
            "grid_template_rows": null,
            "height": null,
            "justify_content": null,
            "justify_items": null,
            "left": null,
            "margin": null,
            "max_height": null,
            "max_width": null,
            "min_height": null,
            "min_width": null,
            "object_fit": null,
            "object_position": null,
            "order": null,
            "overflow": null,
            "overflow_x": null,
            "overflow_y": null,
            "padding": null,
            "right": null,
            "top": null,
            "visibility": null,
            "width": null
          }
        },
        "ccf86be228c94e43857ad82509dbb5e3": {
          "model_module": "@jupyter-widgets/controls",
          "model_name": "ProgressStyleModel",
          "model_module_version": "1.5.0",
          "state": {
            "_model_module": "@jupyter-widgets/controls",
            "_model_module_version": "1.5.0",
            "_model_name": "ProgressStyleModel",
            "_view_count": null,
            "_view_module": "@jupyter-widgets/base",
            "_view_module_version": "1.2.0",
            "_view_name": "StyleView",
            "bar_color": null,
            "description_width": ""
          }
        },
        "ad0b4fe35a6040aa944f2b3679810d99": {
          "model_module": "@jupyter-widgets/base",
          "model_name": "LayoutModel",
          "model_module_version": "1.2.0",
          "state": {
            "_model_module": "@jupyter-widgets/base",
            "_model_module_version": "1.2.0",
            "_model_name": "LayoutModel",
            "_view_count": null,
            "_view_module": "@jupyter-widgets/base",
            "_view_module_version": "1.2.0",
            "_view_name": "LayoutView",
            "align_content": null,
            "align_items": null,
            "align_self": null,
            "border": null,
            "bottom": null,
            "display": null,
            "flex": null,
            "flex_flow": null,
            "grid_area": null,
            "grid_auto_columns": null,
            "grid_auto_flow": null,
            "grid_auto_rows": null,
            "grid_column": null,
            "grid_gap": null,
            "grid_row": null,
            "grid_template_areas": null,
            "grid_template_columns": null,
            "grid_template_rows": null,
            "height": null,
            "justify_content": null,
            "justify_items": null,
            "left": null,
            "margin": null,
            "max_height": null,
            "max_width": null,
            "min_height": null,
            "min_width": null,
            "object_fit": null,
            "object_position": null,
            "order": null,
            "overflow": null,
            "overflow_x": null,
            "overflow_y": null,
            "padding": null,
            "right": null,
            "top": null,
            "visibility": null,
            "width": null
          }
        },
        "9e06768768984ae4ae75317a45ee2005": {
          "model_module": "@jupyter-widgets/controls",
          "model_name": "DescriptionStyleModel",
          "model_module_version": "1.5.0",
          "state": {
            "_model_module": "@jupyter-widgets/controls",
            "_model_module_version": "1.5.0",
            "_model_name": "DescriptionStyleModel",
            "_view_count": null,
            "_view_module": "@jupyter-widgets/base",
            "_view_module_version": "1.2.0",
            "_view_name": "StyleView",
            "description_width": ""
          }
        },
        "8e242f221e1e4a4883b018c894700d50": {
          "model_module": "@jupyter-widgets/controls",
          "model_name": "HBoxModel",
          "model_module_version": "1.5.0",
          "state": {
            "_dom_classes": [],
            "_model_module": "@jupyter-widgets/controls",
            "_model_module_version": "1.5.0",
            "_model_name": "HBoxModel",
            "_view_count": null,
            "_view_module": "@jupyter-widgets/controls",
            "_view_module_version": "1.5.0",
            "_view_name": "HBoxView",
            "box_style": "",
            "children": [
              "IPY_MODEL_a8ef865ad39940e7a78fa137074fdc6a",
              "IPY_MODEL_db5110987fdc4d51b37f13b198d17a22",
              "IPY_MODEL_a2bd4c884703492388db905d4fb52ec7"
            ],
            "layout": "IPY_MODEL_5587feb574ce4008b3fdfad24defd3bb"
          }
        },
        "a8ef865ad39940e7a78fa137074fdc6a": {
          "model_module": "@jupyter-widgets/controls",
          "model_name": "HTMLModel",
          "model_module_version": "1.5.0",
          "state": {
            "_dom_classes": [],
            "_model_module": "@jupyter-widgets/controls",
            "_model_module_version": "1.5.0",
            "_model_name": "HTMLModel",
            "_view_count": null,
            "_view_module": "@jupyter-widgets/controls",
            "_view_module_version": "1.5.0",
            "_view_name": "HTMLView",
            "description": "",
            "description_tooltip": null,
            "layout": "IPY_MODEL_726b7c8ce0bd4c11a4fffbc5d97f0894",
            "placeholder": "​",
            "style": "IPY_MODEL_7c03ba944e184965a29ca87d658c1866",
            "value": "Downloading: 100%"
          }
        },
        "db5110987fdc4d51b37f13b198d17a22": {
          "model_module": "@jupyter-widgets/controls",
          "model_name": "FloatProgressModel",
          "model_module_version": "1.5.0",
          "state": {
            "_dom_classes": [],
            "_model_module": "@jupyter-widgets/controls",
            "_model_module_version": "1.5.0",
            "_model_name": "FloatProgressModel",
            "_view_count": null,
            "_view_module": "@jupyter-widgets/controls",
            "_view_module_version": "1.5.0",
            "_view_name": "ProgressView",
            "bar_style": "success",
            "description": "",
            "description_tooltip": null,
            "layout": "IPY_MODEL_2a1a6a24500d45f5b4843bf7c86d1472",
            "max": 112,
            "min": 0,
            "orientation": "horizontal",
            "style": "IPY_MODEL_563cd1ccdf9e4ea3837f4933e55c1c3f",
            "value": 112
          }
        },
        "a2bd4c884703492388db905d4fb52ec7": {
          "model_module": "@jupyter-widgets/controls",
          "model_name": "HTMLModel",
          "model_module_version": "1.5.0",
          "state": {
            "_dom_classes": [],
            "_model_module": "@jupyter-widgets/controls",
            "_model_module_version": "1.5.0",
            "_model_name": "HTMLModel",
            "_view_count": null,
            "_view_module": "@jupyter-widgets/controls",
            "_view_module_version": "1.5.0",
            "_view_name": "HTMLView",
            "description": "",
            "description_tooltip": null,
            "layout": "IPY_MODEL_64beb3ce78d94e6d9b06411c52a8ba1b",
            "placeholder": "​",
            "style": "IPY_MODEL_7f9529888aef46a4b4ec073648cce2e6",
            "value": " 112/112 [00:00&lt;00:00, 4.70kB/s]"
          }
        },
        "5587feb574ce4008b3fdfad24defd3bb": {
          "model_module": "@jupyter-widgets/base",
          "model_name": "LayoutModel",
          "model_module_version": "1.2.0",
          "state": {
            "_model_module": "@jupyter-widgets/base",
            "_model_module_version": "1.2.0",
            "_model_name": "LayoutModel",
            "_view_count": null,
            "_view_module": "@jupyter-widgets/base",
            "_view_module_version": "1.2.0",
            "_view_name": "LayoutView",
            "align_content": null,
            "align_items": null,
            "align_self": null,
            "border": null,
            "bottom": null,
            "display": null,
            "flex": null,
            "flex_flow": null,
            "grid_area": null,
            "grid_auto_columns": null,
            "grid_auto_flow": null,
            "grid_auto_rows": null,
            "grid_column": null,
            "grid_gap": null,
            "grid_row": null,
            "grid_template_areas": null,
            "grid_template_columns": null,
            "grid_template_rows": null,
            "height": null,
            "justify_content": null,
            "justify_items": null,
            "left": null,
            "margin": null,
            "max_height": null,
            "max_width": null,
            "min_height": null,
            "min_width": null,
            "object_fit": null,
            "object_position": null,
            "order": null,
            "overflow": null,
            "overflow_x": null,
            "overflow_y": null,
            "padding": null,
            "right": null,
            "top": null,
            "visibility": null,
            "width": null
          }
        },
        "726b7c8ce0bd4c11a4fffbc5d97f0894": {
          "model_module": "@jupyter-widgets/base",
          "model_name": "LayoutModel",
          "model_module_version": "1.2.0",
          "state": {
            "_model_module": "@jupyter-widgets/base",
            "_model_module_version": "1.2.0",
            "_model_name": "LayoutModel",
            "_view_count": null,
            "_view_module": "@jupyter-widgets/base",
            "_view_module_version": "1.2.0",
            "_view_name": "LayoutView",
            "align_content": null,
            "align_items": null,
            "align_self": null,
            "border": null,
            "bottom": null,
            "display": null,
            "flex": null,
            "flex_flow": null,
            "grid_area": null,
            "grid_auto_columns": null,
            "grid_auto_flow": null,
            "grid_auto_rows": null,
            "grid_column": null,
            "grid_gap": null,
            "grid_row": null,
            "grid_template_areas": null,
            "grid_template_columns": null,
            "grid_template_rows": null,
            "height": null,
            "justify_content": null,
            "justify_items": null,
            "left": null,
            "margin": null,
            "max_height": null,
            "max_width": null,
            "min_height": null,
            "min_width": null,
            "object_fit": null,
            "object_position": null,
            "order": null,
            "overflow": null,
            "overflow_x": null,
            "overflow_y": null,
            "padding": null,
            "right": null,
            "top": null,
            "visibility": null,
            "width": null
          }
        },
        "7c03ba944e184965a29ca87d658c1866": {
          "model_module": "@jupyter-widgets/controls",
          "model_name": "DescriptionStyleModel",
          "model_module_version": "1.5.0",
          "state": {
            "_model_module": "@jupyter-widgets/controls",
            "_model_module_version": "1.5.0",
            "_model_name": "DescriptionStyleModel",
            "_view_count": null,
            "_view_module": "@jupyter-widgets/base",
            "_view_module_version": "1.2.0",
            "_view_name": "StyleView",
            "description_width": ""
          }
        },
        "2a1a6a24500d45f5b4843bf7c86d1472": {
          "model_module": "@jupyter-widgets/base",
          "model_name": "LayoutModel",
          "model_module_version": "1.2.0",
          "state": {
            "_model_module": "@jupyter-widgets/base",
            "_model_module_version": "1.2.0",
            "_model_name": "LayoutModel",
            "_view_count": null,
            "_view_module": "@jupyter-widgets/base",
            "_view_module_version": "1.2.0",
            "_view_name": "LayoutView",
            "align_content": null,
            "align_items": null,
            "align_self": null,
            "border": null,
            "bottom": null,
            "display": null,
            "flex": null,
            "flex_flow": null,
            "grid_area": null,
            "grid_auto_columns": null,
            "grid_auto_flow": null,
            "grid_auto_rows": null,
            "grid_column": null,
            "grid_gap": null,
            "grid_row": null,
            "grid_template_areas": null,
            "grid_template_columns": null,
            "grid_template_rows": null,
            "height": null,
            "justify_content": null,
            "justify_items": null,
            "left": null,
            "margin": null,
            "max_height": null,
            "max_width": null,
            "min_height": null,
            "min_width": null,
            "object_fit": null,
            "object_position": null,
            "order": null,
            "overflow": null,
            "overflow_x": null,
            "overflow_y": null,
            "padding": null,
            "right": null,
            "top": null,
            "visibility": null,
            "width": null
          }
        },
        "563cd1ccdf9e4ea3837f4933e55c1c3f": {
          "model_module": "@jupyter-widgets/controls",
          "model_name": "ProgressStyleModel",
          "model_module_version": "1.5.0",
          "state": {
            "_model_module": "@jupyter-widgets/controls",
            "_model_module_version": "1.5.0",
            "_model_name": "ProgressStyleModel",
            "_view_count": null,
            "_view_module": "@jupyter-widgets/base",
            "_view_module_version": "1.2.0",
            "_view_name": "StyleView",
            "bar_color": null,
            "description_width": ""
          }
        },
        "64beb3ce78d94e6d9b06411c52a8ba1b": {
          "model_module": "@jupyter-widgets/base",
          "model_name": "LayoutModel",
          "model_module_version": "1.2.0",
          "state": {
            "_model_module": "@jupyter-widgets/base",
            "_model_module_version": "1.2.0",
            "_model_name": "LayoutModel",
            "_view_count": null,
            "_view_module": "@jupyter-widgets/base",
            "_view_module_version": "1.2.0",
            "_view_name": "LayoutView",
            "align_content": null,
            "align_items": null,
            "align_self": null,
            "border": null,
            "bottom": null,
            "display": null,
            "flex": null,
            "flex_flow": null,
            "grid_area": null,
            "grid_auto_columns": null,
            "grid_auto_flow": null,
            "grid_auto_rows": null,
            "grid_column": null,
            "grid_gap": null,
            "grid_row": null,
            "grid_template_areas": null,
            "grid_template_columns": null,
            "grid_template_rows": null,
            "height": null,
            "justify_content": null,
            "justify_items": null,
            "left": null,
            "margin": null,
            "max_height": null,
            "max_width": null,
            "min_height": null,
            "min_width": null,
            "object_fit": null,
            "object_position": null,
            "order": null,
            "overflow": null,
            "overflow_x": null,
            "overflow_y": null,
            "padding": null,
            "right": null,
            "top": null,
            "visibility": null,
            "width": null
          }
        },
        "7f9529888aef46a4b4ec073648cce2e6": {
          "model_module": "@jupyter-widgets/controls",
          "model_name": "DescriptionStyleModel",
          "model_module_version": "1.5.0",
          "state": {
            "_model_module": "@jupyter-widgets/controls",
            "_model_module_version": "1.5.0",
            "_model_name": "DescriptionStyleModel",
            "_view_count": null,
            "_view_module": "@jupyter-widgets/base",
            "_view_module_version": "1.2.0",
            "_view_name": "StyleView",
            "description_width": ""
          }
        },
        "4573c67c5dc3432a95ee3512376da46c": {
          "model_module": "@jupyter-widgets/controls",
          "model_name": "HBoxModel",
          "model_module_version": "1.5.0",
          "state": {
            "_dom_classes": [],
            "_model_module": "@jupyter-widgets/controls",
            "_model_module_version": "1.5.0",
            "_model_name": "HBoxModel",
            "_view_count": null,
            "_view_module": "@jupyter-widgets/controls",
            "_view_module_version": "1.5.0",
            "_view_name": "HBoxView",
            "box_style": "",
            "children": [
              "IPY_MODEL_5826ae7ca963498b83f6aed3d8fe6bc7",
              "IPY_MODEL_419aeb22bbec4e9693596eedfb20c0bf",
              "IPY_MODEL_14f99886c32a4da38b9cb9f849afe345"
            ],
            "layout": "IPY_MODEL_fa68185bb70a4931a2e27bb44b063159"
          }
        },
        "5826ae7ca963498b83f6aed3d8fe6bc7": {
          "model_module": "@jupyter-widgets/controls",
          "model_name": "HTMLModel",
          "model_module_version": "1.5.0",
          "state": {
            "_dom_classes": [],
            "_model_module": "@jupyter-widgets/controls",
            "_model_module_version": "1.5.0",
            "_model_name": "HTMLModel",
            "_view_count": null,
            "_view_module": "@jupyter-widgets/controls",
            "_view_module_version": "1.5.0",
            "_view_name": "HTMLView",
            "description": "",
            "description_tooltip": null,
            "layout": "IPY_MODEL_3899b2269e9642518620bfdf7e12850e",
            "placeholder": "​",
            "style": "IPY_MODEL_8a2e393cc8b64551917a0f09772ac9d4",
            "value": "Downloading: 100%"
          }
        },
        "419aeb22bbec4e9693596eedfb20c0bf": {
          "model_module": "@jupyter-widgets/controls",
          "model_name": "FloatProgressModel",
          "model_module_version": "1.5.0",
          "state": {
            "_dom_classes": [],
            "_model_module": "@jupyter-widgets/controls",
            "_model_module_version": "1.5.0",
            "_model_name": "FloatProgressModel",
            "_view_count": null,
            "_view_module": "@jupyter-widgets/controls",
            "_view_module_version": "1.5.0",
            "_view_name": "ProgressView",
            "bar_style": "success",
            "description": "",
            "description_tooltip": null,
            "layout": "IPY_MODEL_18aaee73144c45fb9fda88d8c7cb6479",
            "max": 69583549,
            "min": 0,
            "orientation": "horizontal",
            "style": "IPY_MODEL_f13c44fc5d2740c19d2a4fc1f8e6e2cb",
            "value": 69583549
          }
        },
        "14f99886c32a4da38b9cb9f849afe345": {
          "model_module": "@jupyter-widgets/controls",
          "model_name": "HTMLModel",
          "model_module_version": "1.5.0",
          "state": {
            "_dom_classes": [],
            "_model_module": "@jupyter-widgets/controls",
            "_model_module_version": "1.5.0",
            "_model_name": "HTMLModel",
            "_view_count": null,
            "_view_module": "@jupyter-widgets/controls",
            "_view_module_version": "1.5.0",
            "_view_name": "HTMLView",
            "description": "",
            "description_tooltip": null,
            "layout": "IPY_MODEL_9dcfc1bb7f7c4abf8d954ca32fe7b55c",
            "placeholder": "​",
            "style": "IPY_MODEL_4c94157283b547f98cbd1080a203283f",
            "value": " 66.4M/66.4M [00:01&lt;00:00, 60.4MB/s]"
          }
        },
        "fa68185bb70a4931a2e27bb44b063159": {
          "model_module": "@jupyter-widgets/base",
          "model_name": "LayoutModel",
          "model_module_version": "1.2.0",
          "state": {
            "_model_module": "@jupyter-widgets/base",
            "_model_module_version": "1.2.0",
            "_model_name": "LayoutModel",
            "_view_count": null,
            "_view_module": "@jupyter-widgets/base",
            "_view_module_version": "1.2.0",
            "_view_name": "LayoutView",
            "align_content": null,
            "align_items": null,
            "align_self": null,
            "border": null,
            "bottom": null,
            "display": null,
            "flex": null,
            "flex_flow": null,
            "grid_area": null,
            "grid_auto_columns": null,
            "grid_auto_flow": null,
            "grid_auto_rows": null,
            "grid_column": null,
            "grid_gap": null,
            "grid_row": null,
            "grid_template_areas": null,
            "grid_template_columns": null,
            "grid_template_rows": null,
            "height": null,
            "justify_content": null,
            "justify_items": null,
            "left": null,
            "margin": null,
            "max_height": null,
            "max_width": null,
            "min_height": null,
            "min_width": null,
            "object_fit": null,
            "object_position": null,
            "order": null,
            "overflow": null,
            "overflow_x": null,
            "overflow_y": null,
            "padding": null,
            "right": null,
            "top": null,
            "visibility": null,
            "width": null
          }
        },
        "3899b2269e9642518620bfdf7e12850e": {
          "model_module": "@jupyter-widgets/base",
          "model_name": "LayoutModel",
          "model_module_version": "1.2.0",
          "state": {
            "_model_module": "@jupyter-widgets/base",
            "_model_module_version": "1.2.0",
            "_model_name": "LayoutModel",
            "_view_count": null,
            "_view_module": "@jupyter-widgets/base",
            "_view_module_version": "1.2.0",
            "_view_name": "LayoutView",
            "align_content": null,
            "align_items": null,
            "align_self": null,
            "border": null,
            "bottom": null,
            "display": null,
            "flex": null,
            "flex_flow": null,
            "grid_area": null,
            "grid_auto_columns": null,
            "grid_auto_flow": null,
            "grid_auto_rows": null,
            "grid_column": null,
            "grid_gap": null,
            "grid_row": null,
            "grid_template_areas": null,
            "grid_template_columns": null,
            "grid_template_rows": null,
            "height": null,
            "justify_content": null,
            "justify_items": null,
            "left": null,
            "margin": null,
            "max_height": null,
            "max_width": null,
            "min_height": null,
            "min_width": null,
            "object_fit": null,
            "object_position": null,
            "order": null,
            "overflow": null,
            "overflow_x": null,
            "overflow_y": null,
            "padding": null,
            "right": null,
            "top": null,
            "visibility": null,
            "width": null
          }
        },
        "8a2e393cc8b64551917a0f09772ac9d4": {
          "model_module": "@jupyter-widgets/controls",
          "model_name": "DescriptionStyleModel",
          "model_module_version": "1.5.0",
          "state": {
            "_model_module": "@jupyter-widgets/controls",
            "_model_module_version": "1.5.0",
            "_model_name": "DescriptionStyleModel",
            "_view_count": null,
            "_view_module": "@jupyter-widgets/base",
            "_view_module_version": "1.2.0",
            "_view_name": "StyleView",
            "description_width": ""
          }
        },
        "18aaee73144c45fb9fda88d8c7cb6479": {
          "model_module": "@jupyter-widgets/base",
          "model_name": "LayoutModel",
          "model_module_version": "1.2.0",
          "state": {
            "_model_module": "@jupyter-widgets/base",
            "_model_module_version": "1.2.0",
            "_model_name": "LayoutModel",
            "_view_count": null,
            "_view_module": "@jupyter-widgets/base",
            "_view_module_version": "1.2.0",
            "_view_name": "LayoutView",
            "align_content": null,
            "align_items": null,
            "align_self": null,
            "border": null,
            "bottom": null,
            "display": null,
            "flex": null,
            "flex_flow": null,
            "grid_area": null,
            "grid_auto_columns": null,
            "grid_auto_flow": null,
            "grid_auto_rows": null,
            "grid_column": null,
            "grid_gap": null,
            "grid_row": null,
            "grid_template_areas": null,
            "grid_template_columns": null,
            "grid_template_rows": null,
            "height": null,
            "justify_content": null,
            "justify_items": null,
            "left": null,
            "margin": null,
            "max_height": null,
            "max_width": null,
            "min_height": null,
            "min_width": null,
            "object_fit": null,
            "object_position": null,
            "order": null,
            "overflow": null,
            "overflow_x": null,
            "overflow_y": null,
            "padding": null,
            "right": null,
            "top": null,
            "visibility": null,
            "width": null
          }
        },
        "f13c44fc5d2740c19d2a4fc1f8e6e2cb": {
          "model_module": "@jupyter-widgets/controls",
          "model_name": "ProgressStyleModel",
          "model_module_version": "1.5.0",
          "state": {
            "_model_module": "@jupyter-widgets/controls",
            "_model_module_version": "1.5.0",
            "_model_name": "ProgressStyleModel",
            "_view_count": null,
            "_view_module": "@jupyter-widgets/base",
            "_view_module_version": "1.2.0",
            "_view_name": "StyleView",
            "bar_color": null,
            "description_width": ""
          }
        },
        "9dcfc1bb7f7c4abf8d954ca32fe7b55c": {
          "model_module": "@jupyter-widgets/base",
          "model_name": "LayoutModel",
          "model_module_version": "1.2.0",
          "state": {
            "_model_module": "@jupyter-widgets/base",
            "_model_module_version": "1.2.0",
            "_model_name": "LayoutModel",
            "_view_count": null,
            "_view_module": "@jupyter-widgets/base",
            "_view_module_version": "1.2.0",
            "_view_name": "LayoutView",
            "align_content": null,
            "align_items": null,
            "align_self": null,
            "border": null,
            "bottom": null,
            "display": null,
            "flex": null,
            "flex_flow": null,
            "grid_area": null,
            "grid_auto_columns": null,
            "grid_auto_flow": null,
            "grid_auto_rows": null,
            "grid_column": null,
            "grid_gap": null,
            "grid_row": null,
            "grid_template_areas": null,
            "grid_template_columns": null,
            "grid_template_rows": null,
            "height": null,
            "justify_content": null,
            "justify_items": null,
            "left": null,
            "margin": null,
            "max_height": null,
            "max_width": null,
            "min_height": null,
            "min_width": null,
            "object_fit": null,
            "object_position": null,
            "order": null,
            "overflow": null,
            "overflow_x": null,
            "overflow_y": null,
            "padding": null,
            "right": null,
            "top": null,
            "visibility": null,
            "width": null
          }
        },
        "4c94157283b547f98cbd1080a203283f": {
          "model_module": "@jupyter-widgets/controls",
          "model_name": "DescriptionStyleModel",
          "model_module_version": "1.5.0",
          "state": {
            "_model_module": "@jupyter-widgets/controls",
            "_model_module_version": "1.5.0",
            "_model_name": "DescriptionStyleModel",
            "_view_count": null,
            "_view_module": "@jupyter-widgets/base",
            "_view_module_version": "1.2.0",
            "_view_name": "StyleView",
            "description_width": ""
          }
        },
        "30b0132f6f774eb5881c7df7e0359b1c": {
          "model_module": "@jupyter-widgets/controls",
          "model_name": "HBoxModel",
          "model_module_version": "1.5.0",
          "state": {
            "_dom_classes": [],
            "_model_module": "@jupyter-widgets/controls",
            "_model_module_version": "1.5.0",
            "_model_name": "HBoxModel",
            "_view_count": null,
            "_view_module": "@jupyter-widgets/controls",
            "_view_module_version": "1.5.0",
            "_view_name": "HBoxView",
            "box_style": "",
            "children": [
              "IPY_MODEL_9949de123ca244a382a7823e899683f4",
              "IPY_MODEL_7361f579291746a98fc05d5d2c6fe8d8",
              "IPY_MODEL_edf79e5308444157a462e97f216549fa"
            ],
            "layout": "IPY_MODEL_15dde8884b364f4aa7b2ed1a4f139fcb"
          }
        },
        "9949de123ca244a382a7823e899683f4": {
          "model_module": "@jupyter-widgets/controls",
          "model_name": "HTMLModel",
          "model_module_version": "1.5.0",
          "state": {
            "_dom_classes": [],
            "_model_module": "@jupyter-widgets/controls",
            "_model_module_version": "1.5.0",
            "_model_name": "HTMLModel",
            "_view_count": null,
            "_view_module": "@jupyter-widgets/controls",
            "_view_module_version": "1.5.0",
            "_view_name": "HTMLView",
            "description": "",
            "description_tooltip": null,
            "layout": "IPY_MODEL_fcd6fef33f614b92accc5b79264619cd",
            "placeholder": "​",
            "style": "IPY_MODEL_4109e45814be4ab8a849fc188c9e56cc",
            "value": ""
          }
        },
        "7361f579291746a98fc05d5d2c6fe8d8": {
          "model_module": "@jupyter-widgets/controls",
          "model_name": "FloatProgressModel",
          "model_module_version": "1.5.0",
          "state": {
            "_dom_classes": [],
            "_model_module": "@jupyter-widgets/controls",
            "_model_module_version": "1.5.0",
            "_model_name": "FloatProgressModel",
            "_view_count": null,
            "_view_module": "@jupyter-widgets/controls",
            "_view_module_version": "1.5.0",
            "_view_name": "ProgressView",
            "bar_style": "success",
            "description": "",
            "description_tooltip": null,
            "layout": "IPY_MODEL_23988e57f657441f8d1b2b37cc437dd9",
            "max": 1,
            "min": 0,
            "orientation": "horizontal",
            "style": "IPY_MODEL_7bc4a885a9e044e9ae3f5eb4ca601fdc",
            "value": 1
          }
        },
        "edf79e5308444157a462e97f216549fa": {
          "model_module": "@jupyter-widgets/controls",
          "model_name": "HTMLModel",
          "model_module_version": "1.5.0",
          "state": {
            "_dom_classes": [],
            "_model_module": "@jupyter-widgets/controls",
            "_model_module_version": "1.5.0",
            "_model_name": "HTMLModel",
            "_view_count": null,
            "_view_module": "@jupyter-widgets/controls",
            "_view_module_version": "1.5.0",
            "_view_name": "HTMLView",
            "description": "",
            "description_tooltip": null,
            "layout": "IPY_MODEL_4c67992a017e49dcb080a2c82f008107",
            "placeholder": "​",
            "style": "IPY_MODEL_e90a570e29574584bae213437372223d",
            "value": " 9090/? [19:27&lt;00:00,  7.87it/s]"
          }
        },
        "15dde8884b364f4aa7b2ed1a4f139fcb": {
          "model_module": "@jupyter-widgets/base",
          "model_name": "LayoutModel",
          "model_module_version": "1.2.0",
          "state": {
            "_model_module": "@jupyter-widgets/base",
            "_model_module_version": "1.2.0",
            "_model_name": "LayoutModel",
            "_view_count": null,
            "_view_module": "@jupyter-widgets/base",
            "_view_module_version": "1.2.0",
            "_view_name": "LayoutView",
            "align_content": null,
            "align_items": null,
            "align_self": null,
            "border": null,
            "bottom": null,
            "display": null,
            "flex": null,
            "flex_flow": null,
            "grid_area": null,
            "grid_auto_columns": null,
            "grid_auto_flow": null,
            "grid_auto_rows": null,
            "grid_column": null,
            "grid_gap": null,
            "grid_row": null,
            "grid_template_areas": null,
            "grid_template_columns": null,
            "grid_template_rows": null,
            "height": null,
            "justify_content": null,
            "justify_items": null,
            "left": null,
            "margin": null,
            "max_height": null,
            "max_width": null,
            "min_height": null,
            "min_width": null,
            "object_fit": null,
            "object_position": null,
            "order": null,
            "overflow": null,
            "overflow_x": null,
            "overflow_y": null,
            "padding": null,
            "right": null,
            "top": null,
            "visibility": null,
            "width": null
          }
        },
        "fcd6fef33f614b92accc5b79264619cd": {
          "model_module": "@jupyter-widgets/base",
          "model_name": "LayoutModel",
          "model_module_version": "1.2.0",
          "state": {
            "_model_module": "@jupyter-widgets/base",
            "_model_module_version": "1.2.0",
            "_model_name": "LayoutModel",
            "_view_count": null,
            "_view_module": "@jupyter-widgets/base",
            "_view_module_version": "1.2.0",
            "_view_name": "LayoutView",
            "align_content": null,
            "align_items": null,
            "align_self": null,
            "border": null,
            "bottom": null,
            "display": null,
            "flex": null,
            "flex_flow": null,
            "grid_area": null,
            "grid_auto_columns": null,
            "grid_auto_flow": null,
            "grid_auto_rows": null,
            "grid_column": null,
            "grid_gap": null,
            "grid_row": null,
            "grid_template_areas": null,
            "grid_template_columns": null,
            "grid_template_rows": null,
            "height": null,
            "justify_content": null,
            "justify_items": null,
            "left": null,
            "margin": null,
            "max_height": null,
            "max_width": null,
            "min_height": null,
            "min_width": null,
            "object_fit": null,
            "object_position": null,
            "order": null,
            "overflow": null,
            "overflow_x": null,
            "overflow_y": null,
            "padding": null,
            "right": null,
            "top": null,
            "visibility": null,
            "width": null
          }
        },
        "4109e45814be4ab8a849fc188c9e56cc": {
          "model_module": "@jupyter-widgets/controls",
          "model_name": "DescriptionStyleModel",
          "model_module_version": "1.5.0",
          "state": {
            "_model_module": "@jupyter-widgets/controls",
            "_model_module_version": "1.5.0",
            "_model_name": "DescriptionStyleModel",
            "_view_count": null,
            "_view_module": "@jupyter-widgets/base",
            "_view_module_version": "1.2.0",
            "_view_name": "StyleView",
            "description_width": ""
          }
        },
        "23988e57f657441f8d1b2b37cc437dd9": {
          "model_module": "@jupyter-widgets/base",
          "model_name": "LayoutModel",
          "model_module_version": "1.2.0",
          "state": {
            "_model_module": "@jupyter-widgets/base",
            "_model_module_version": "1.2.0",
            "_model_name": "LayoutModel",
            "_view_count": null,
            "_view_module": "@jupyter-widgets/base",
            "_view_module_version": "1.2.0",
            "_view_name": "LayoutView",
            "align_content": null,
            "align_items": null,
            "align_self": null,
            "border": null,
            "bottom": null,
            "display": null,
            "flex": null,
            "flex_flow": null,
            "grid_area": null,
            "grid_auto_columns": null,
            "grid_auto_flow": null,
            "grid_auto_rows": null,
            "grid_column": null,
            "grid_gap": null,
            "grid_row": null,
            "grid_template_areas": null,
            "grid_template_columns": null,
            "grid_template_rows": null,
            "height": null,
            "justify_content": null,
            "justify_items": null,
            "left": null,
            "margin": null,
            "max_height": null,
            "max_width": null,
            "min_height": null,
            "min_width": null,
            "object_fit": null,
            "object_position": null,
            "order": null,
            "overflow": null,
            "overflow_x": null,
            "overflow_y": null,
            "padding": null,
            "right": null,
            "top": null,
            "visibility": null,
            "width": "20px"
          }
        },
        "7bc4a885a9e044e9ae3f5eb4ca601fdc": {
          "model_module": "@jupyter-widgets/controls",
          "model_name": "ProgressStyleModel",
          "model_module_version": "1.5.0",
          "state": {
            "_model_module": "@jupyter-widgets/controls",
            "_model_module_version": "1.5.0",
            "_model_name": "ProgressStyleModel",
            "_view_count": null,
            "_view_module": "@jupyter-widgets/base",
            "_view_module_version": "1.2.0",
            "_view_name": "StyleView",
            "bar_color": null,
            "description_width": ""
          }
        },
        "4c67992a017e49dcb080a2c82f008107": {
          "model_module": "@jupyter-widgets/base",
          "model_name": "LayoutModel",
          "model_module_version": "1.2.0",
          "state": {
            "_model_module": "@jupyter-widgets/base",
            "_model_module_version": "1.2.0",
            "_model_name": "LayoutModel",
            "_view_count": null,
            "_view_module": "@jupyter-widgets/base",
            "_view_module_version": "1.2.0",
            "_view_name": "LayoutView",
            "align_content": null,
            "align_items": null,
            "align_self": null,
            "border": null,
            "bottom": null,
            "display": null,
            "flex": null,
            "flex_flow": null,
            "grid_area": null,
            "grid_auto_columns": null,
            "grid_auto_flow": null,
            "grid_auto_rows": null,
            "grid_column": null,
            "grid_gap": null,
            "grid_row": null,
            "grid_template_areas": null,
            "grid_template_columns": null,
            "grid_template_rows": null,
            "height": null,
            "justify_content": null,
            "justify_items": null,
            "left": null,
            "margin": null,
            "max_height": null,
            "max_width": null,
            "min_height": null,
            "min_width": null,
            "object_fit": null,
            "object_position": null,
            "order": null,
            "overflow": null,
            "overflow_x": null,
            "overflow_y": null,
            "padding": null,
            "right": null,
            "top": null,
            "visibility": null,
            "width": null
          }
        },
        "e90a570e29574584bae213437372223d": {
          "model_module": "@jupyter-widgets/controls",
          "model_name": "DescriptionStyleModel",
          "model_module_version": "1.5.0",
          "state": {
            "_model_module": "@jupyter-widgets/controls",
            "_model_module_version": "1.5.0",
            "_model_name": "DescriptionStyleModel",
            "_view_count": null,
            "_view_module": "@jupyter-widgets/base",
            "_view_module_version": "1.2.0",
            "_view_name": "StyleView",
            "description_width": ""
          }
        },
        "5468efd6eaed4de9b6eaa8f7860f9df9": {
          "model_module": "@jupyter-widgets/controls",
          "model_name": "HBoxModel",
          "model_module_version": "1.5.0",
          "state": {
            "_dom_classes": [],
            "_model_module": "@jupyter-widgets/controls",
            "_model_module_version": "1.5.0",
            "_model_name": "HBoxModel",
            "_view_count": null,
            "_view_module": "@jupyter-widgets/controls",
            "_view_module_version": "1.5.0",
            "_view_name": "HBoxView",
            "box_style": "",
            "children": [
              "IPY_MODEL_3835d25074204295924f1a697cc1f4f4",
              "IPY_MODEL_974f0e593f904daf8c1afb5eef5dc545",
              "IPY_MODEL_419032e6a2d847d6a42a2f93cc7dd476"
            ],
            "layout": "IPY_MODEL_5acf53bc3ee54c0daabe83e76ce04ff5"
          }
        },
        "3835d25074204295924f1a697cc1f4f4": {
          "model_module": "@jupyter-widgets/controls",
          "model_name": "HTMLModel",
          "model_module_version": "1.5.0",
          "state": {
            "_dom_classes": [],
            "_model_module": "@jupyter-widgets/controls",
            "_model_module_version": "1.5.0",
            "_model_name": "HTMLModel",
            "_view_count": null,
            "_view_module": "@jupyter-widgets/controls",
            "_view_module_version": "1.5.0",
            "_view_name": "HTMLView",
            "description": "",
            "description_tooltip": null,
            "layout": "IPY_MODEL_94435465261d47e98e08a0182a0b8c9e",
            "placeholder": "​",
            "style": "IPY_MODEL_5d5b74d2eaf547beac094fdb6fd96220",
            "value": ""
          }
        },
        "974f0e593f904daf8c1afb5eef5dc545": {
          "model_module": "@jupyter-widgets/controls",
          "model_name": "FloatProgressModel",
          "model_module_version": "1.5.0",
          "state": {
            "_dom_classes": [],
            "_model_module": "@jupyter-widgets/controls",
            "_model_module_version": "1.5.0",
            "_model_name": "FloatProgressModel",
            "_view_count": null,
            "_view_module": "@jupyter-widgets/controls",
            "_view_module_version": "1.5.0",
            "_view_name": "ProgressView",
            "bar_style": "success",
            "description": "",
            "description_tooltip": null,
            "layout": "IPY_MODEL_0169cb4d847b4cfaab42fa03e7f0e383",
            "max": 1,
            "min": 0,
            "orientation": "horizontal",
            "style": "IPY_MODEL_7688a1b95b6a49dfb62bc91176ac5da4",
            "value": 1
          }
        },
        "419032e6a2d847d6a42a2f93cc7dd476": {
          "model_module": "@jupyter-widgets/controls",
          "model_name": "HTMLModel",
          "model_module_version": "1.5.0",
          "state": {
            "_dom_classes": [],
            "_model_module": "@jupyter-widgets/controls",
            "_model_module_version": "1.5.0",
            "_model_name": "HTMLModel",
            "_view_count": null,
            "_view_module": "@jupyter-widgets/controls",
            "_view_module_version": "1.5.0",
            "_view_name": "HTMLView",
            "description": "",
            "description_tooltip": null,
            "layout": "IPY_MODEL_5d6be65092184aaa854a3863ab58a839",
            "placeholder": "​",
            "style": "IPY_MODEL_e374b0ec72dc4350a34ba857dae14774",
            "value": " 9090/? [19:13&lt;00:00,  8.06it/s]"
          }
        },
        "5acf53bc3ee54c0daabe83e76ce04ff5": {
          "model_module": "@jupyter-widgets/base",
          "model_name": "LayoutModel",
          "model_module_version": "1.2.0",
          "state": {
            "_model_module": "@jupyter-widgets/base",
            "_model_module_version": "1.2.0",
            "_model_name": "LayoutModel",
            "_view_count": null,
            "_view_module": "@jupyter-widgets/base",
            "_view_module_version": "1.2.0",
            "_view_name": "LayoutView",
            "align_content": null,
            "align_items": null,
            "align_self": null,
            "border": null,
            "bottom": null,
            "display": null,
            "flex": null,
            "flex_flow": null,
            "grid_area": null,
            "grid_auto_columns": null,
            "grid_auto_flow": null,
            "grid_auto_rows": null,
            "grid_column": null,
            "grid_gap": null,
            "grid_row": null,
            "grid_template_areas": null,
            "grid_template_columns": null,
            "grid_template_rows": null,
            "height": null,
            "justify_content": null,
            "justify_items": null,
            "left": null,
            "margin": null,
            "max_height": null,
            "max_width": null,
            "min_height": null,
            "min_width": null,
            "object_fit": null,
            "object_position": null,
            "order": null,
            "overflow": null,
            "overflow_x": null,
            "overflow_y": null,
            "padding": null,
            "right": null,
            "top": null,
            "visibility": null,
            "width": null
          }
        },
        "94435465261d47e98e08a0182a0b8c9e": {
          "model_module": "@jupyter-widgets/base",
          "model_name": "LayoutModel",
          "model_module_version": "1.2.0",
          "state": {
            "_model_module": "@jupyter-widgets/base",
            "_model_module_version": "1.2.0",
            "_model_name": "LayoutModel",
            "_view_count": null,
            "_view_module": "@jupyter-widgets/base",
            "_view_module_version": "1.2.0",
            "_view_name": "LayoutView",
            "align_content": null,
            "align_items": null,
            "align_self": null,
            "border": null,
            "bottom": null,
            "display": null,
            "flex": null,
            "flex_flow": null,
            "grid_area": null,
            "grid_auto_columns": null,
            "grid_auto_flow": null,
            "grid_auto_rows": null,
            "grid_column": null,
            "grid_gap": null,
            "grid_row": null,
            "grid_template_areas": null,
            "grid_template_columns": null,
            "grid_template_rows": null,
            "height": null,
            "justify_content": null,
            "justify_items": null,
            "left": null,
            "margin": null,
            "max_height": null,
            "max_width": null,
            "min_height": null,
            "min_width": null,
            "object_fit": null,
            "object_position": null,
            "order": null,
            "overflow": null,
            "overflow_x": null,
            "overflow_y": null,
            "padding": null,
            "right": null,
            "top": null,
            "visibility": null,
            "width": null
          }
        },
        "5d5b74d2eaf547beac094fdb6fd96220": {
          "model_module": "@jupyter-widgets/controls",
          "model_name": "DescriptionStyleModel",
          "model_module_version": "1.5.0",
          "state": {
            "_model_module": "@jupyter-widgets/controls",
            "_model_module_version": "1.5.0",
            "_model_name": "DescriptionStyleModel",
            "_view_count": null,
            "_view_module": "@jupyter-widgets/base",
            "_view_module_version": "1.2.0",
            "_view_name": "StyleView",
            "description_width": ""
          }
        },
        "0169cb4d847b4cfaab42fa03e7f0e383": {
          "model_module": "@jupyter-widgets/base",
          "model_name": "LayoutModel",
          "model_module_version": "1.2.0",
          "state": {
            "_model_module": "@jupyter-widgets/base",
            "_model_module_version": "1.2.0",
            "_model_name": "LayoutModel",
            "_view_count": null,
            "_view_module": "@jupyter-widgets/base",
            "_view_module_version": "1.2.0",
            "_view_name": "LayoutView",
            "align_content": null,
            "align_items": null,
            "align_self": null,
            "border": null,
            "bottom": null,
            "display": null,
            "flex": null,
            "flex_flow": null,
            "grid_area": null,
            "grid_auto_columns": null,
            "grid_auto_flow": null,
            "grid_auto_rows": null,
            "grid_column": null,
            "grid_gap": null,
            "grid_row": null,
            "grid_template_areas": null,
            "grid_template_columns": null,
            "grid_template_rows": null,
            "height": null,
            "justify_content": null,
            "justify_items": null,
            "left": null,
            "margin": null,
            "max_height": null,
            "max_width": null,
            "min_height": null,
            "min_width": null,
            "object_fit": null,
            "object_position": null,
            "order": null,
            "overflow": null,
            "overflow_x": null,
            "overflow_y": null,
            "padding": null,
            "right": null,
            "top": null,
            "visibility": null,
            "width": "20px"
          }
        },
        "7688a1b95b6a49dfb62bc91176ac5da4": {
          "model_module": "@jupyter-widgets/controls",
          "model_name": "ProgressStyleModel",
          "model_module_version": "1.5.0",
          "state": {
            "_model_module": "@jupyter-widgets/controls",
            "_model_module_version": "1.5.0",
            "_model_name": "ProgressStyleModel",
            "_view_count": null,
            "_view_module": "@jupyter-widgets/base",
            "_view_module_version": "1.2.0",
            "_view_name": "StyleView",
            "bar_color": null,
            "description_width": ""
          }
        },
        "5d6be65092184aaa854a3863ab58a839": {
          "model_module": "@jupyter-widgets/base",
          "model_name": "LayoutModel",
          "model_module_version": "1.2.0",
          "state": {
            "_model_module": "@jupyter-widgets/base",
            "_model_module_version": "1.2.0",
            "_model_name": "LayoutModel",
            "_view_count": null,
            "_view_module": "@jupyter-widgets/base",
            "_view_module_version": "1.2.0",
            "_view_name": "LayoutView",
            "align_content": null,
            "align_items": null,
            "align_self": null,
            "border": null,
            "bottom": null,
            "display": null,
            "flex": null,
            "flex_flow": null,
            "grid_area": null,
            "grid_auto_columns": null,
            "grid_auto_flow": null,
            "grid_auto_rows": null,
            "grid_column": null,
            "grid_gap": null,
            "grid_row": null,
            "grid_template_areas": null,
            "grid_template_columns": null,
            "grid_template_rows": null,
            "height": null,
            "justify_content": null,
            "justify_items": null,
            "left": null,
            "margin": null,
            "max_height": null,
            "max_width": null,
            "min_height": null,
            "min_width": null,
            "object_fit": null,
            "object_position": null,
            "order": null,
            "overflow": null,
            "overflow_x": null,
            "overflow_y": null,
            "padding": null,
            "right": null,
            "top": null,
            "visibility": null,
            "width": null
          }
        },
        "e374b0ec72dc4350a34ba857dae14774": {
          "model_module": "@jupyter-widgets/controls",
          "model_name": "DescriptionStyleModel",
          "model_module_version": "1.5.0",
          "state": {
            "_model_module": "@jupyter-widgets/controls",
            "_model_module_version": "1.5.0",
            "_model_name": "DescriptionStyleModel",
            "_view_count": null,
            "_view_module": "@jupyter-widgets/base",
            "_view_module_version": "1.2.0",
            "_view_name": "StyleView",
            "description_width": ""
          }
        },
        "24e72476948249998cd684c808f98589": {
          "model_module": "@jupyter-widgets/controls",
          "model_name": "HBoxModel",
          "model_module_version": "1.5.0",
          "state": {
            "_dom_classes": [],
            "_model_module": "@jupyter-widgets/controls",
            "_model_module_version": "1.5.0",
            "_model_name": "HBoxModel",
            "_view_count": null,
            "_view_module": "@jupyter-widgets/controls",
            "_view_module_version": "1.5.0",
            "_view_name": "HBoxView",
            "box_style": "",
            "children": [
              "IPY_MODEL_b9bd6517cbec484186d29cb067d705c4",
              "IPY_MODEL_c4379a8de01c4f909b1f08256a8fb6ce",
              "IPY_MODEL_1f7882ef5c7d479995f8013fd21576ed"
            ],
            "layout": "IPY_MODEL_d6754db296fe45f99244933167f08b1c"
          }
        },
        "b9bd6517cbec484186d29cb067d705c4": {
          "model_module": "@jupyter-widgets/controls",
          "model_name": "HTMLModel",
          "model_module_version": "1.5.0",
          "state": {
            "_dom_classes": [],
            "_model_module": "@jupyter-widgets/controls",
            "_model_module_version": "1.5.0",
            "_model_name": "HTMLModel",
            "_view_count": null,
            "_view_module": "@jupyter-widgets/controls",
            "_view_module_version": "1.5.0",
            "_view_name": "HTMLView",
            "description": "",
            "description_tooltip": null,
            "layout": "IPY_MODEL_4efaf155cf9e4e2f9ae68704c894ca56",
            "placeholder": "​",
            "style": "IPY_MODEL_f7ded5b1f21e460d8ba5843711346352",
            "value": ""
          }
        },
        "c4379a8de01c4f909b1f08256a8fb6ce": {
          "model_module": "@jupyter-widgets/controls",
          "model_name": "FloatProgressModel",
          "model_module_version": "1.5.0",
          "state": {
            "_dom_classes": [],
            "_model_module": "@jupyter-widgets/controls",
            "_model_module_version": "1.5.0",
            "_model_name": "FloatProgressModel",
            "_view_count": null,
            "_view_module": "@jupyter-widgets/controls",
            "_view_module_version": "1.5.0",
            "_view_name": "ProgressView",
            "bar_style": "success",
            "description": "",
            "description_tooltip": null,
            "layout": "IPY_MODEL_a4a616328e6e4df79aefeaad32c39052",
            "max": 1,
            "min": 0,
            "orientation": "horizontal",
            "style": "IPY_MODEL_1cb821fd147641649502b62568ea63e0",
            "value": 1
          }
        },
        "1f7882ef5c7d479995f8013fd21576ed": {
          "model_module": "@jupyter-widgets/controls",
          "model_name": "HTMLModel",
          "model_module_version": "1.5.0",
          "state": {
            "_dom_classes": [],
            "_model_module": "@jupyter-widgets/controls",
            "_model_module_version": "1.5.0",
            "_model_name": "HTMLModel",
            "_view_count": null,
            "_view_module": "@jupyter-widgets/controls",
            "_view_module_version": "1.5.0",
            "_view_name": "HTMLView",
            "description": "",
            "description_tooltip": null,
            "layout": "IPY_MODEL_d9e8a4031f6a4424a82e35eb3c423a15",
            "placeholder": "​",
            "style": "IPY_MODEL_c820969dccdf47ae9dcb1825ab6904c7",
            "value": " 9090/? [19:18&lt;00:00,  7.94it/s]"
          }
        },
        "d6754db296fe45f99244933167f08b1c": {
          "model_module": "@jupyter-widgets/base",
          "model_name": "LayoutModel",
          "model_module_version": "1.2.0",
          "state": {
            "_model_module": "@jupyter-widgets/base",
            "_model_module_version": "1.2.0",
            "_model_name": "LayoutModel",
            "_view_count": null,
            "_view_module": "@jupyter-widgets/base",
            "_view_module_version": "1.2.0",
            "_view_name": "LayoutView",
            "align_content": null,
            "align_items": null,
            "align_self": null,
            "border": null,
            "bottom": null,
            "display": null,
            "flex": null,
            "flex_flow": null,
            "grid_area": null,
            "grid_auto_columns": null,
            "grid_auto_flow": null,
            "grid_auto_rows": null,
            "grid_column": null,
            "grid_gap": null,
            "grid_row": null,
            "grid_template_areas": null,
            "grid_template_columns": null,
            "grid_template_rows": null,
            "height": null,
            "justify_content": null,
            "justify_items": null,
            "left": null,
            "margin": null,
            "max_height": null,
            "max_width": null,
            "min_height": null,
            "min_width": null,
            "object_fit": null,
            "object_position": null,
            "order": null,
            "overflow": null,
            "overflow_x": null,
            "overflow_y": null,
            "padding": null,
            "right": null,
            "top": null,
            "visibility": null,
            "width": null
          }
        },
        "4efaf155cf9e4e2f9ae68704c894ca56": {
          "model_module": "@jupyter-widgets/base",
          "model_name": "LayoutModel",
          "model_module_version": "1.2.0",
          "state": {
            "_model_module": "@jupyter-widgets/base",
            "_model_module_version": "1.2.0",
            "_model_name": "LayoutModel",
            "_view_count": null,
            "_view_module": "@jupyter-widgets/base",
            "_view_module_version": "1.2.0",
            "_view_name": "LayoutView",
            "align_content": null,
            "align_items": null,
            "align_self": null,
            "border": null,
            "bottom": null,
            "display": null,
            "flex": null,
            "flex_flow": null,
            "grid_area": null,
            "grid_auto_columns": null,
            "grid_auto_flow": null,
            "grid_auto_rows": null,
            "grid_column": null,
            "grid_gap": null,
            "grid_row": null,
            "grid_template_areas": null,
            "grid_template_columns": null,
            "grid_template_rows": null,
            "height": null,
            "justify_content": null,
            "justify_items": null,
            "left": null,
            "margin": null,
            "max_height": null,
            "max_width": null,
            "min_height": null,
            "min_width": null,
            "object_fit": null,
            "object_position": null,
            "order": null,
            "overflow": null,
            "overflow_x": null,
            "overflow_y": null,
            "padding": null,
            "right": null,
            "top": null,
            "visibility": null,
            "width": null
          }
        },
        "f7ded5b1f21e460d8ba5843711346352": {
          "model_module": "@jupyter-widgets/controls",
          "model_name": "DescriptionStyleModel",
          "model_module_version": "1.5.0",
          "state": {
            "_model_module": "@jupyter-widgets/controls",
            "_model_module_version": "1.5.0",
            "_model_name": "DescriptionStyleModel",
            "_view_count": null,
            "_view_module": "@jupyter-widgets/base",
            "_view_module_version": "1.2.0",
            "_view_name": "StyleView",
            "description_width": ""
          }
        },
        "a4a616328e6e4df79aefeaad32c39052": {
          "model_module": "@jupyter-widgets/base",
          "model_name": "LayoutModel",
          "model_module_version": "1.2.0",
          "state": {
            "_model_module": "@jupyter-widgets/base",
            "_model_module_version": "1.2.0",
            "_model_name": "LayoutModel",
            "_view_count": null,
            "_view_module": "@jupyter-widgets/base",
            "_view_module_version": "1.2.0",
            "_view_name": "LayoutView",
            "align_content": null,
            "align_items": null,
            "align_self": null,
            "border": null,
            "bottom": null,
            "display": null,
            "flex": null,
            "flex_flow": null,
            "grid_area": null,
            "grid_auto_columns": null,
            "grid_auto_flow": null,
            "grid_auto_rows": null,
            "grid_column": null,
            "grid_gap": null,
            "grid_row": null,
            "grid_template_areas": null,
            "grid_template_columns": null,
            "grid_template_rows": null,
            "height": null,
            "justify_content": null,
            "justify_items": null,
            "left": null,
            "margin": null,
            "max_height": null,
            "max_width": null,
            "min_height": null,
            "min_width": null,
            "object_fit": null,
            "object_position": null,
            "order": null,
            "overflow": null,
            "overflow_x": null,
            "overflow_y": null,
            "padding": null,
            "right": null,
            "top": null,
            "visibility": null,
            "width": "20px"
          }
        },
        "1cb821fd147641649502b62568ea63e0": {
          "model_module": "@jupyter-widgets/controls",
          "model_name": "ProgressStyleModel",
          "model_module_version": "1.5.0",
          "state": {
            "_model_module": "@jupyter-widgets/controls",
            "_model_module_version": "1.5.0",
            "_model_name": "ProgressStyleModel",
            "_view_count": null,
            "_view_module": "@jupyter-widgets/base",
            "_view_module_version": "1.2.0",
            "_view_name": "StyleView",
            "bar_color": null,
            "description_width": ""
          }
        },
        "d9e8a4031f6a4424a82e35eb3c423a15": {
          "model_module": "@jupyter-widgets/base",
          "model_name": "LayoutModel",
          "model_module_version": "1.2.0",
          "state": {
            "_model_module": "@jupyter-widgets/base",
            "_model_module_version": "1.2.0",
            "_model_name": "LayoutModel",
            "_view_count": null,
            "_view_module": "@jupyter-widgets/base",
            "_view_module_version": "1.2.0",
            "_view_name": "LayoutView",
            "align_content": null,
            "align_items": null,
            "align_self": null,
            "border": null,
            "bottom": null,
            "display": null,
            "flex": null,
            "flex_flow": null,
            "grid_area": null,
            "grid_auto_columns": null,
            "grid_auto_flow": null,
            "grid_auto_rows": null,
            "grid_column": null,
            "grid_gap": null,
            "grid_row": null,
            "grid_template_areas": null,
            "grid_template_columns": null,
            "grid_template_rows": null,
            "height": null,
            "justify_content": null,
            "justify_items": null,
            "left": null,
            "margin": null,
            "max_height": null,
            "max_width": null,
            "min_height": null,
            "min_width": null,
            "object_fit": null,
            "object_position": null,
            "order": null,
            "overflow": null,
            "overflow_x": null,
            "overflow_y": null,
            "padding": null,
            "right": null,
            "top": null,
            "visibility": null,
            "width": null
          }
        },
        "c820969dccdf47ae9dcb1825ab6904c7": {
          "model_module": "@jupyter-widgets/controls",
          "model_name": "DescriptionStyleModel",
          "model_module_version": "1.5.0",
          "state": {
            "_model_module": "@jupyter-widgets/controls",
            "_model_module_version": "1.5.0",
            "_model_name": "DescriptionStyleModel",
            "_view_count": null,
            "_view_module": "@jupyter-widgets/base",
            "_view_module_version": "1.2.0",
            "_view_name": "StyleView",
            "description_width": ""
          }
        },
        "31698e0667c341198d1d6507ddfe63dd": {
          "model_module": "@jupyter-widgets/controls",
          "model_name": "HBoxModel",
          "model_module_version": "1.5.0",
          "state": {
            "_dom_classes": [],
            "_model_module": "@jupyter-widgets/controls",
            "_model_module_version": "1.5.0",
            "_model_name": "HBoxModel",
            "_view_count": null,
            "_view_module": "@jupyter-widgets/controls",
            "_view_module_version": "1.5.0",
            "_view_name": "HBoxView",
            "box_style": "",
            "children": [
              "IPY_MODEL_f72470a01c6f47658e983f14175868ae",
              "IPY_MODEL_b9b247d652054b78b17dd31a8f877138",
              "IPY_MODEL_2bdb891327a24a9bbf0fef8803a5dfa1"
            ],
            "layout": "IPY_MODEL_627190ddd60a45df8ae69edceb61a2b3"
          }
        },
        "f72470a01c6f47658e983f14175868ae": {
          "model_module": "@jupyter-widgets/controls",
          "model_name": "HTMLModel",
          "model_module_version": "1.5.0",
          "state": {
            "_dom_classes": [],
            "_model_module": "@jupyter-widgets/controls",
            "_model_module_version": "1.5.0",
            "_model_name": "HTMLModel",
            "_view_count": null,
            "_view_module": "@jupyter-widgets/controls",
            "_view_module_version": "1.5.0",
            "_view_name": "HTMLView",
            "description": "",
            "description_tooltip": null,
            "layout": "IPY_MODEL_87f81045e7044726b3392eaa65d525b2",
            "placeholder": "​",
            "style": "IPY_MODEL_842c4c6fb73b45879a8f64496d80765d",
            "value": "100%"
          }
        },
        "b9b247d652054b78b17dd31a8f877138": {
          "model_module": "@jupyter-widgets/controls",
          "model_name": "FloatProgressModel",
          "model_module_version": "1.5.0",
          "state": {
            "_dom_classes": [],
            "_model_module": "@jupyter-widgets/controls",
            "_model_module_version": "1.5.0",
            "_model_name": "FloatProgressModel",
            "_view_count": null,
            "_view_module": "@jupyter-widgets/controls",
            "_view_module_version": "1.5.0",
            "_view_name": "ProgressView",
            "bar_style": "success",
            "description": "",
            "description_tooltip": null,
            "layout": "IPY_MODEL_4b2321e7960f40408977f39ec8162d73",
            "max": 4,
            "min": 0,
            "orientation": "horizontal",
            "style": "IPY_MODEL_a1a5625e02e94570adfb2e10bd0540cd",
            "value": 4
          }
        },
        "2bdb891327a24a9bbf0fef8803a5dfa1": {
          "model_module": "@jupyter-widgets/controls",
          "model_name": "HTMLModel",
          "model_module_version": "1.5.0",
          "state": {
            "_dom_classes": [],
            "_model_module": "@jupyter-widgets/controls",
            "_model_module_version": "1.5.0",
            "_model_name": "HTMLModel",
            "_view_count": null,
            "_view_module": "@jupyter-widgets/controls",
            "_view_module_version": "1.5.0",
            "_view_name": "HTMLView",
            "description": "",
            "description_tooltip": null,
            "layout": "IPY_MODEL_506d83ff709c4326ac18dae7b2e1ce66",
            "placeholder": "​",
            "style": "IPY_MODEL_b2db0efa01684f0a9df170a171390a2e",
            "value": " 4/4 [00:02&lt;00:00,  1.77it/s]"
          }
        },
        "627190ddd60a45df8ae69edceb61a2b3": {
          "model_module": "@jupyter-widgets/base",
          "model_name": "LayoutModel",
          "model_module_version": "1.2.0",
          "state": {
            "_model_module": "@jupyter-widgets/base",
            "_model_module_version": "1.2.0",
            "_model_name": "LayoutModel",
            "_view_count": null,
            "_view_module": "@jupyter-widgets/base",
            "_view_module_version": "1.2.0",
            "_view_name": "LayoutView",
            "align_content": null,
            "align_items": null,
            "align_self": null,
            "border": null,
            "bottom": null,
            "display": null,
            "flex": null,
            "flex_flow": null,
            "grid_area": null,
            "grid_auto_columns": null,
            "grid_auto_flow": null,
            "grid_auto_rows": null,
            "grid_column": null,
            "grid_gap": null,
            "grid_row": null,
            "grid_template_areas": null,
            "grid_template_columns": null,
            "grid_template_rows": null,
            "height": null,
            "justify_content": null,
            "justify_items": null,
            "left": null,
            "margin": null,
            "max_height": null,
            "max_width": null,
            "min_height": null,
            "min_width": null,
            "object_fit": null,
            "object_position": null,
            "order": null,
            "overflow": null,
            "overflow_x": null,
            "overflow_y": null,
            "padding": null,
            "right": null,
            "top": null,
            "visibility": null,
            "width": null
          }
        },
        "87f81045e7044726b3392eaa65d525b2": {
          "model_module": "@jupyter-widgets/base",
          "model_name": "LayoutModel",
          "model_module_version": "1.2.0",
          "state": {
            "_model_module": "@jupyter-widgets/base",
            "_model_module_version": "1.2.0",
            "_model_name": "LayoutModel",
            "_view_count": null,
            "_view_module": "@jupyter-widgets/base",
            "_view_module_version": "1.2.0",
            "_view_name": "LayoutView",
            "align_content": null,
            "align_items": null,
            "align_self": null,
            "border": null,
            "bottom": null,
            "display": null,
            "flex": null,
            "flex_flow": null,
            "grid_area": null,
            "grid_auto_columns": null,
            "grid_auto_flow": null,
            "grid_auto_rows": null,
            "grid_column": null,
            "grid_gap": null,
            "grid_row": null,
            "grid_template_areas": null,
            "grid_template_columns": null,
            "grid_template_rows": null,
            "height": null,
            "justify_content": null,
            "justify_items": null,
            "left": null,
            "margin": null,
            "max_height": null,
            "max_width": null,
            "min_height": null,
            "min_width": null,
            "object_fit": null,
            "object_position": null,
            "order": null,
            "overflow": null,
            "overflow_x": null,
            "overflow_y": null,
            "padding": null,
            "right": null,
            "top": null,
            "visibility": null,
            "width": null
          }
        },
        "842c4c6fb73b45879a8f64496d80765d": {
          "model_module": "@jupyter-widgets/controls",
          "model_name": "DescriptionStyleModel",
          "model_module_version": "1.5.0",
          "state": {
            "_model_module": "@jupyter-widgets/controls",
            "_model_module_version": "1.5.0",
            "_model_name": "DescriptionStyleModel",
            "_view_count": null,
            "_view_module": "@jupyter-widgets/base",
            "_view_module_version": "1.2.0",
            "_view_name": "StyleView",
            "description_width": ""
          }
        },
        "4b2321e7960f40408977f39ec8162d73": {
          "model_module": "@jupyter-widgets/base",
          "model_name": "LayoutModel",
          "model_module_version": "1.2.0",
          "state": {
            "_model_module": "@jupyter-widgets/base",
            "_model_module_version": "1.2.0",
            "_model_name": "LayoutModel",
            "_view_count": null,
            "_view_module": "@jupyter-widgets/base",
            "_view_module_version": "1.2.0",
            "_view_name": "LayoutView",
            "align_content": null,
            "align_items": null,
            "align_self": null,
            "border": null,
            "bottom": null,
            "display": null,
            "flex": null,
            "flex_flow": null,
            "grid_area": null,
            "grid_auto_columns": null,
            "grid_auto_flow": null,
            "grid_auto_rows": null,
            "grid_column": null,
            "grid_gap": null,
            "grid_row": null,
            "grid_template_areas": null,
            "grid_template_columns": null,
            "grid_template_rows": null,
            "height": null,
            "justify_content": null,
            "justify_items": null,
            "left": null,
            "margin": null,
            "max_height": null,
            "max_width": null,
            "min_height": null,
            "min_width": null,
            "object_fit": null,
            "object_position": null,
            "order": null,
            "overflow": null,
            "overflow_x": null,
            "overflow_y": null,
            "padding": null,
            "right": null,
            "top": null,
            "visibility": null,
            "width": null
          }
        },
        "a1a5625e02e94570adfb2e10bd0540cd": {
          "model_module": "@jupyter-widgets/controls",
          "model_name": "ProgressStyleModel",
          "model_module_version": "1.5.0",
          "state": {
            "_model_module": "@jupyter-widgets/controls",
            "_model_module_version": "1.5.0",
            "_model_name": "ProgressStyleModel",
            "_view_count": null,
            "_view_module": "@jupyter-widgets/base",
            "_view_module_version": "1.2.0",
            "_view_name": "StyleView",
            "bar_color": null,
            "description_width": ""
          }
        },
        "506d83ff709c4326ac18dae7b2e1ce66": {
          "model_module": "@jupyter-widgets/base",
          "model_name": "LayoutModel",
          "model_module_version": "1.2.0",
          "state": {
            "_model_module": "@jupyter-widgets/base",
            "_model_module_version": "1.2.0",
            "_model_name": "LayoutModel",
            "_view_count": null,
            "_view_module": "@jupyter-widgets/base",
            "_view_module_version": "1.2.0",
            "_view_name": "LayoutView",
            "align_content": null,
            "align_items": null,
            "align_self": null,
            "border": null,
            "bottom": null,
            "display": null,
            "flex": null,
            "flex_flow": null,
            "grid_area": null,
            "grid_auto_columns": null,
            "grid_auto_flow": null,
            "grid_auto_rows": null,
            "grid_column": null,
            "grid_gap": null,
            "grid_row": null,
            "grid_template_areas": null,
            "grid_template_columns": null,
            "grid_template_rows": null,
            "height": null,
            "justify_content": null,
            "justify_items": null,
            "left": null,
            "margin": null,
            "max_height": null,
            "max_width": null,
            "min_height": null,
            "min_width": null,
            "object_fit": null,
            "object_position": null,
            "order": null,
            "overflow": null,
            "overflow_x": null,
            "overflow_y": null,
            "padding": null,
            "right": null,
            "top": null,
            "visibility": null,
            "width": null
          }
        },
        "b2db0efa01684f0a9df170a171390a2e": {
          "model_module": "@jupyter-widgets/controls",
          "model_name": "DescriptionStyleModel",
          "model_module_version": "1.5.0",
          "state": {
            "_model_module": "@jupyter-widgets/controls",
            "_model_module_version": "1.5.0",
            "_model_name": "DescriptionStyleModel",
            "_view_count": null,
            "_view_module": "@jupyter-widgets/base",
            "_view_module_version": "1.2.0",
            "_view_name": "StyleView",
            "description_width": ""
          }
        },
        "2feb4245583648b282030d240c2c3d3a": {
          "model_module": "@jupyter-widgets/controls",
          "model_name": "HBoxModel",
          "model_module_version": "1.5.0",
          "state": {
            "_dom_classes": [],
            "_model_module": "@jupyter-widgets/controls",
            "_model_module_version": "1.5.0",
            "_model_name": "HBoxModel",
            "_view_count": null,
            "_view_module": "@jupyter-widgets/controls",
            "_view_module_version": "1.5.0",
            "_view_name": "HBoxView",
            "box_style": "",
            "children": [
              "IPY_MODEL_ea1e511927634867bb50a0cbe11bde84",
              "IPY_MODEL_5cb35dab5a1a4de9ad8600c7e6036f5f",
              "IPY_MODEL_417c0313ece24fe087f87ff731d95dfb"
            ],
            "layout": "IPY_MODEL_4c97a1d3155e44ea91254bda20d38add"
          }
        },
        "ea1e511927634867bb50a0cbe11bde84": {
          "model_module": "@jupyter-widgets/controls",
          "model_name": "HTMLModel",
          "model_module_version": "1.5.0",
          "state": {
            "_dom_classes": [],
            "_model_module": "@jupyter-widgets/controls",
            "_model_module_version": "1.5.0",
            "_model_name": "HTMLModel",
            "_view_count": null,
            "_view_module": "@jupyter-widgets/controls",
            "_view_module_version": "1.5.0",
            "_view_name": "HTMLView",
            "description": "",
            "description_tooltip": null,
            "layout": "IPY_MODEL_10b212cc4a1d45f48df0fe0cc12319d2",
            "placeholder": "​",
            "style": "IPY_MODEL_0f08c1e58fd84d419f7c4379ef9c6499",
            "value": "100%"
          }
        },
        "5cb35dab5a1a4de9ad8600c7e6036f5f": {
          "model_module": "@jupyter-widgets/controls",
          "model_name": "FloatProgressModel",
          "model_module_version": "1.5.0",
          "state": {
            "_dom_classes": [],
            "_model_module": "@jupyter-widgets/controls",
            "_model_module_version": "1.5.0",
            "_model_name": "FloatProgressModel",
            "_view_count": null,
            "_view_module": "@jupyter-widgets/controls",
            "_view_module_version": "1.5.0",
            "_view_name": "ProgressView",
            "bar_style": "success",
            "description": "",
            "description_tooltip": null,
            "layout": "IPY_MODEL_6a963001d1db4a55b743b08dabd028a2",
            "max": 11,
            "min": 0,
            "orientation": "horizontal",
            "style": "IPY_MODEL_c6f18f6a7fcc4d44bb4db2d2619e6190",
            "value": 11
          }
        },
        "417c0313ece24fe087f87ff731d95dfb": {
          "model_module": "@jupyter-widgets/controls",
          "model_name": "HTMLModel",
          "model_module_version": "1.5.0",
          "state": {
            "_dom_classes": [],
            "_model_module": "@jupyter-widgets/controls",
            "_model_module_version": "1.5.0",
            "_model_name": "HTMLModel",
            "_view_count": null,
            "_view_module": "@jupyter-widgets/controls",
            "_view_module_version": "1.5.0",
            "_view_name": "HTMLView",
            "description": "",
            "description_tooltip": null,
            "layout": "IPY_MODEL_5a65678ee2754fcd853cfe23a13a2869",
            "placeholder": "​",
            "style": "IPY_MODEL_baf095acc1c4425ebff3f5ee979cfe7a",
            "value": " 11/11 [00:06&lt;00:00,  1.87it/s]"
          }
        },
        "4c97a1d3155e44ea91254bda20d38add": {
          "model_module": "@jupyter-widgets/base",
          "model_name": "LayoutModel",
          "model_module_version": "1.2.0",
          "state": {
            "_model_module": "@jupyter-widgets/base",
            "_model_module_version": "1.2.0",
            "_model_name": "LayoutModel",
            "_view_count": null,
            "_view_module": "@jupyter-widgets/base",
            "_view_module_version": "1.2.0",
            "_view_name": "LayoutView",
            "align_content": null,
            "align_items": null,
            "align_self": null,
            "border": null,
            "bottom": null,
            "display": null,
            "flex": null,
            "flex_flow": null,
            "grid_area": null,
            "grid_auto_columns": null,
            "grid_auto_flow": null,
            "grid_auto_rows": null,
            "grid_column": null,
            "grid_gap": null,
            "grid_row": null,
            "grid_template_areas": null,
            "grid_template_columns": null,
            "grid_template_rows": null,
            "height": null,
            "justify_content": null,
            "justify_items": null,
            "left": null,
            "margin": null,
            "max_height": null,
            "max_width": null,
            "min_height": null,
            "min_width": null,
            "object_fit": null,
            "object_position": null,
            "order": null,
            "overflow": null,
            "overflow_x": null,
            "overflow_y": null,
            "padding": null,
            "right": null,
            "top": null,
            "visibility": null,
            "width": null
          }
        },
        "10b212cc4a1d45f48df0fe0cc12319d2": {
          "model_module": "@jupyter-widgets/base",
          "model_name": "LayoutModel",
          "model_module_version": "1.2.0",
          "state": {
            "_model_module": "@jupyter-widgets/base",
            "_model_module_version": "1.2.0",
            "_model_name": "LayoutModel",
            "_view_count": null,
            "_view_module": "@jupyter-widgets/base",
            "_view_module_version": "1.2.0",
            "_view_name": "LayoutView",
            "align_content": null,
            "align_items": null,
            "align_self": null,
            "border": null,
            "bottom": null,
            "display": null,
            "flex": null,
            "flex_flow": null,
            "grid_area": null,
            "grid_auto_columns": null,
            "grid_auto_flow": null,
            "grid_auto_rows": null,
            "grid_column": null,
            "grid_gap": null,
            "grid_row": null,
            "grid_template_areas": null,
            "grid_template_columns": null,
            "grid_template_rows": null,
            "height": null,
            "justify_content": null,
            "justify_items": null,
            "left": null,
            "margin": null,
            "max_height": null,
            "max_width": null,
            "min_height": null,
            "min_width": null,
            "object_fit": null,
            "object_position": null,
            "order": null,
            "overflow": null,
            "overflow_x": null,
            "overflow_y": null,
            "padding": null,
            "right": null,
            "top": null,
            "visibility": null,
            "width": null
          }
        },
        "0f08c1e58fd84d419f7c4379ef9c6499": {
          "model_module": "@jupyter-widgets/controls",
          "model_name": "DescriptionStyleModel",
          "model_module_version": "1.5.0",
          "state": {
            "_model_module": "@jupyter-widgets/controls",
            "_model_module_version": "1.5.0",
            "_model_name": "DescriptionStyleModel",
            "_view_count": null,
            "_view_module": "@jupyter-widgets/base",
            "_view_module_version": "1.2.0",
            "_view_name": "StyleView",
            "description_width": ""
          }
        },
        "6a963001d1db4a55b743b08dabd028a2": {
          "model_module": "@jupyter-widgets/base",
          "model_name": "LayoutModel",
          "model_module_version": "1.2.0",
          "state": {
            "_model_module": "@jupyter-widgets/base",
            "_model_module_version": "1.2.0",
            "_model_name": "LayoutModel",
            "_view_count": null,
            "_view_module": "@jupyter-widgets/base",
            "_view_module_version": "1.2.0",
            "_view_name": "LayoutView",
            "align_content": null,
            "align_items": null,
            "align_self": null,
            "border": null,
            "bottom": null,
            "display": null,
            "flex": null,
            "flex_flow": null,
            "grid_area": null,
            "grid_auto_columns": null,
            "grid_auto_flow": null,
            "grid_auto_rows": null,
            "grid_column": null,
            "grid_gap": null,
            "grid_row": null,
            "grid_template_areas": null,
            "grid_template_columns": null,
            "grid_template_rows": null,
            "height": null,
            "justify_content": null,
            "justify_items": null,
            "left": null,
            "margin": null,
            "max_height": null,
            "max_width": null,
            "min_height": null,
            "min_width": null,
            "object_fit": null,
            "object_position": null,
            "order": null,
            "overflow": null,
            "overflow_x": null,
            "overflow_y": null,
            "padding": null,
            "right": null,
            "top": null,
            "visibility": null,
            "width": null
          }
        },
        "c6f18f6a7fcc4d44bb4db2d2619e6190": {
          "model_module": "@jupyter-widgets/controls",
          "model_name": "ProgressStyleModel",
          "model_module_version": "1.5.0",
          "state": {
            "_model_module": "@jupyter-widgets/controls",
            "_model_module_version": "1.5.0",
            "_model_name": "ProgressStyleModel",
            "_view_count": null,
            "_view_module": "@jupyter-widgets/base",
            "_view_module_version": "1.2.0",
            "_view_name": "StyleView",
            "bar_color": null,
            "description_width": ""
          }
        },
        "5a65678ee2754fcd853cfe23a13a2869": {
          "model_module": "@jupyter-widgets/base",
          "model_name": "LayoutModel",
          "model_module_version": "1.2.0",
          "state": {
            "_model_module": "@jupyter-widgets/base",
            "_model_module_version": "1.2.0",
            "_model_name": "LayoutModel",
            "_view_count": null,
            "_view_module": "@jupyter-widgets/base",
            "_view_module_version": "1.2.0",
            "_view_name": "LayoutView",
            "align_content": null,
            "align_items": null,
            "align_self": null,
            "border": null,
            "bottom": null,
            "display": null,
            "flex": null,
            "flex_flow": null,
            "grid_area": null,
            "grid_auto_columns": null,
            "grid_auto_flow": null,
            "grid_auto_rows": null,
            "grid_column": null,
            "grid_gap": null,
            "grid_row": null,
            "grid_template_areas": null,
            "grid_template_columns": null,
            "grid_template_rows": null,
            "height": null,
            "justify_content": null,
            "justify_items": null,
            "left": null,
            "margin": null,
            "max_height": null,
            "max_width": null,
            "min_height": null,
            "min_width": null,
            "object_fit": null,
            "object_position": null,
            "order": null,
            "overflow": null,
            "overflow_x": null,
            "overflow_y": null,
            "padding": null,
            "right": null,
            "top": null,
            "visibility": null,
            "width": null
          }
        },
        "baf095acc1c4425ebff3f5ee979cfe7a": {
          "model_module": "@jupyter-widgets/controls",
          "model_name": "DescriptionStyleModel",
          "model_module_version": "1.5.0",
          "state": {
            "_model_module": "@jupyter-widgets/controls",
            "_model_module_version": "1.5.0",
            "_model_name": "DescriptionStyleModel",
            "_view_count": null,
            "_view_module": "@jupyter-widgets/base",
            "_view_module_version": "1.2.0",
            "_view_name": "StyleView",
            "description_width": ""
          }
        }
      }
    }
  },
  "cells": [
    {
      "cell_type": "markdown",
      "source": [
        "## Part 1: Preprocessing the Data"
      ],
      "metadata": {
        "id": "9c5jl2ia1y2T"
      }
    },
    {
      "cell_type": "code",
      "source": [
        "!pip install -q transformers datasets rouge-score"
      ],
      "metadata": {
        "id": "LqL5FbXi24ME"
      },
      "execution_count": null,
      "outputs": []
    },
    {
      "cell_type": "code",
      "source": [
        "#install spacy large language model\n",
        "!python -m spacy download en_core_web_sm"
      ],
      "metadata": {
        "id": "OHxnp7aG25bD"
      },
      "execution_count": null,
      "outputs": []
    },
    {
      "cell_type": "code",
      "source": [
        "import tensorflow_datasets as tfds \n",
        "import matplotlib.pyplot as plt\n",
        "import pandas as pd\n",
        "import numpy as np\n",
        "import spacy\n",
        "from tqdm.notebook import tqdm\n",
        "  \n",
        "import tensorflow_hub as hub\n",
        "from tensorflow import keras \n",
        "import tensorflow as tf\n",
        "from IPython.display import Image \n",
        "import matplotlib.pyplot as plt\n",
        "\n",
        "\n",
        "nlp = spacy.load('en_core_web_sm')"
      ],
      "metadata": {
        "id": "tI-caYqCliPW"
      },
      "execution_count": 3,
      "outputs": []
    },
    {
      "cell_type": "code",
      "source": [
        "from google.colab import drive\n",
        "drive.mount('/content/drive')"
      ],
      "metadata": {
        "colab": {
          "base_uri": "https://localhost:8080/",
          "height": 0
        },
        "id": "2t4tGe4omvt8",
        "outputId": "caced507-2e34-47ab-fb8e-5f99c9377878"
      },
      "execution_count": 4,
      "outputs": [
        {
          "output_type": "stream",
          "name": "stdout",
          "text": [
            "Drive already mounted at /content/drive; to attempt to forcibly remount, call drive.mount(\"/content/drive\", force_remount=True).\n"
          ]
        }
      ]
    },
    {
      "cell_type": "code",
      "source": [
        "cnn_ds = pd.read_csv('/content/drive/MyDrive/PlakshaNLP/Project/test.csv')"
      ],
      "metadata": {
        "id": "mC2gbXNgnVM5"
      },
      "execution_count": 5,
      "outputs": []
    },
    {
      "cell_type": "code",
      "source": [
        "cnn_ds"
      ],
      "metadata": {
        "id": "DzJBo_w9n7yi"
      },
      "execution_count": null,
      "outputs": []
    },
    {
      "cell_type": "code",
      "source": [
        "x='there was a man. there was a dear. the maker is dead'"
      ],
      "metadata": {
        "id": "L5d5HQeYynOK"
      },
      "execution_count": 31,
      "outputs": []
    },
    {
      "cell_type": "code",
      "source": [
        "import nltk\n",
        "nltk.download('punkt')\n",
        "from nltk.tokenize import sent_tokenize"
      ],
      "metadata": {
        "colab": {
          "base_uri": "https://localhost:8080/",
          "height": 0
        },
        "id": "Vc_vmbvlyyMH",
        "outputId": "ff99ec0e-7247-49ad-f2f0-51e5832c2464"
      },
      "execution_count": 6,
      "outputs": [
        {
          "output_type": "stream",
          "name": "stdout",
          "text": [
            "[nltk_data] Downloading package punkt to /root/nltk_data...\n",
            "[nltk_data]   Unzipping tokenizers/punkt.zip.\n"
          ]
        }
      ]
    },
    {
      "cell_type": "code",
      "source": [
        "cnn_df = pd.DataFrame(cnn_ds)\n",
        "#cnn_df.highlights = cnn_df.highlights.apply(lambda x: x.decode('utf-8')) \n",
        "cnn_df[\"summary\"] = cnn_df.highlights.apply(lambda x: \"\".join(x.split(\"\\n\")) ) \n",
        "#cnn_df.article = cnn_df.article.apply(lambda x: x.decode('utf-8')) \n",
        "cnn_df[\"art_sents\"] = cnn_df.article.apply(lambda x: len([x for x in sent_tokenize(x)])) \n",
        "#x = cnn_df.article.apply(lambda x: len([x for x in sent_tokenize(x)]))\n",
        "cnn_df"
      ],
      "metadata": {
        "id": "e6wcHTJ33Htf"
      },
      "execution_count": null,
      "outputs": []
    },
    {
      "cell_type": "code",
      "source": [
        "art_lengths = [ len(x) for x in cnn_df.article] \n",
        "plt.hist(art_lengths);\n",
        "plt.title(\"Histogram of Article Lengths. Mean = \" + str(round(sum(art_lengths)/ len(art_lengths),1)) + \" words\" );"
      ],
      "metadata": {
        "colab": {
          "base_uri": "https://localhost:8080/",
          "height": 281
        },
        "id": "rFtRAilJ3KWE",
        "outputId": "ebc415be-be1a-4ba3-b2e2-ea0be7d0b03a"
      },
      "execution_count": 10,
      "outputs": [
        {
          "output_type": "display_data",
          "data": {
            "text/plain": [
              "<Figure size 432x288 with 1 Axes>"
            ],
            "image/png": "[encoded data removed]"
          },
          "metadata": {
            "needs_background": "light"
          }
        }
      ]
    },
    {
      "cell_type": "code",
      "source": [
        "sum_lengths = [ len(x) for x in cnn_df.highlights] \n",
        "plt.hist(sum_lengths);\n",
        "plt.title(\"Histogram of Summary Lengths. Mean = \" + str(round(sum(sum_lengths)/ len(sum_lengths),1)) + \" words\" );"
      ],
      "metadata": {
        "colab": {
          "base_uri": "https://localhost:8080/",
          "height": 281
        },
        "id": "uRAp_Ba-3Ni2",
        "outputId": "e380dd7d-5866-4874-f65d-689f038d42f1"
      },
      "execution_count": 11,
      "outputs": [
        {
          "output_type": "display_data",
          "data": {
            "text/plain": [
              "<Figure size 432x288 with 1 Axes>"
            ],
            "image/png": "[encoded data removed]"
          },
          "metadata": {
            "needs_background": "light"
          }
        }
      ]
    },
    {
      "cell_type": "code",
      "source": [
        "# art_lengths = [ len(x) for x in cnn_df.article] \n",
        "plt.hist(cnn_df.art_sents);\n",
        "plt.title(\"Histogram of # Sentences per Article . Mean = \" + str(round(sum(cnn_df.art_sents)/ len(cnn_df.art_sents),1)) + \" words\" );"
      ],
      "metadata": {
        "colab": {
          "base_uri": "https://localhost:8080/",
          "height": 281
        },
        "id": "atZLmsPP3P-v",
        "outputId": "1f310f56-4e79-4ab0-e2c8-69c0c0046aeb"
      },
      "execution_count": 12,
      "outputs": [
        {
          "output_type": "display_data",
          "data": {
            "text/plain": [
              "<Figure size 432x288 with 1 Axes>"
            ],
            "image/png": "[encoded data removed]"
          },
          "metadata": {
            "needs_background": "light"
          }
        }
      ]
    },
    {
      "cell_type": "markdown",
      "source": [
        "### Exporting the Data for future reuse\n",
        "This will ensure that we dont have to download the data everytime we run this code."
      ],
      "metadata": {
        "id": "HOqfDuC33fAp"
      }
    },
    {
      "cell_type": "code",
      "source": [
        "import os"
      ],
      "metadata": {
        "id": "-t3ggpVS3StG"
      },
      "execution_count": 14,
      "outputs": []
    },
    {
      "cell_type": "code",
      "source": [
        "train_df = pd.read_csv('/content/drive/MyDrive/PlakshaNLP/Project/test.csv')\n",
        "test_df = pd.read_csv('/content/drive/MyDrive/PlakshaNLP/Project/validation.csv')"
      ],
      "metadata": {
        "id": "SbTaX44g_ZGj"
      },
      "execution_count": 15,
      "outputs": []
    },
    {
      "cell_type": "code",
      "source": [
        "test_df"
      ],
      "metadata": {
        "id": "cuxsxa9JAKT2"
      },
      "execution_count": null,
      "outputs": []
    },
    {
      "cell_type": "code",
      "source": [
        "train_df = train_df.drop(['id'], axis = 1)\n",
        "test_df = test_df.drop(['id'], axis = 1)\n",
        "test_df.shape, train_df.shape"
      ],
      "metadata": {
        "colab": {
          "base_uri": "https://localhost:8080/",
          "height": 0
        },
        "id": "dVRPsHzc3WUu",
        "outputId": "923c1546-24ba-46c4-f9da-95a3511fb360"
      },
      "execution_count": 19,
      "outputs": [
        {
          "output_type": "execute_result",
          "data": {
            "text/plain": [
              "((13368, 2), (11490, 2))"
            ]
          },
          "metadata": {},
          "execution_count": 19
        }
      ]
    },
    {
      "cell_type": "code",
      "source": [
        "#os.makedirs(\"data/\", exist_ok=True) \n",
        "#os.makedirs(\"data/test\", exist_ok=True) \n",
        "#os.makedirs(\"data/train\", exist_ok=True) \n",
        "\n",
        "#test_df.to_json(\"data/test/test.json\")\n",
        "#train_df.to_json(\"data/train/train.json\")"
      ],
      "metadata": {
        "id": "l1ac0lvU3ZEr"
      },
      "execution_count": null,
      "outputs": []
    },
    {
      "cell_type": "markdown",
      "source": [
        "### Preprocessing using Spacy library"
      ],
      "metadata": {
        "id": "7o5ZCk9z3zYv"
      }
    },
    {
      "cell_type": "code",
      "source": [
        "def get_dicts(df, folder=\"test\"):   \n",
        "  sents_dict = {}\n",
        "  doc_dict = { i: {\"article\": df.article[i], \"highlight\": df.highlights[i]} for i in df.index }\n",
        "  raw_docs = [ doc_dict[k][\"article\"] for k in doc_dict.keys()]\n",
        "\n",
        "  doc_sents = {}\n",
        "  sents_list = []\n",
        "  raw_sents = [] \n",
        "  i = 0\n",
        "  min_sent_length = 14\n",
        "  for k in tqdm(doc_dict.keys()):\n",
        "    article = doc_dict[k][\"article\"]  \n",
        "    highlight = doc_dict[k][\"highlight\"] \n",
        "    sents = sent_tokenize(article)\n",
        "    doc_sent_ids = [] \n",
        "    for sent in sents:\n",
        "      if (len(sent)) > min_sent_length:\n",
        "        sents_dict[i] = {\"docid\":k, \"text\": str(sent)} \n",
        "        sents_list.append({\"sentid\":i, \"docid\":k, \"text\": str(sent) }) \n",
        "        raw_sents.append(str(sent))\n",
        "        i += 1  \n",
        "         \n",
        "  return doc_dict, sents_list\n",
        "\n",
        "test_doc_dict, test_sents_list = get_dicts(test_df)\n",
        "train_doc_dict, train_sents_list = get_dicts(train_df)"
      ],
      "metadata": {
        "colab": {
          "base_uri": "https://localhost:8080/",
          "height": 81,
          "referenced_widgets": [
            "94a822856b4745aeabb91ee47ed2cd71",
            "b066e4aed7264882ae0e33ed3012546e",
            "a547469de8c24c30911721512d20471e",
            "112cff619ac04afc8fa1acf863bbb6c3",
            "94ece906da1544a4a385df4328b38360",
            "29d8af2d0a03495eae73034153bc8eb4",
            "99b2fc9a7cfc4d419fc81c31c2534858",
            "e1763521dcdc4478ae0db90fdcc79a86",
            "83190e9128264db88ca95516424d005c",
            "95cf167511a040c3904cef14215ed9ed",
            "fe1053fcc24b4281b9c39e5df6b21a36",
            "24be8d08bd7e4f1aaca7a906c0d535fd",
            "4b27eb42141b4950b2138086c281a855",
            "b79e9d3810ab447a87c85b8014847ad6",
            "667bc1f7b0654be297b40a25dd75604d",
            "30af41a318dd481c97ca6b5f207b6603",
            "2b0e8d58847f4bceaaaa43118bed2edc",
            "07e1cfaa2f0845cdad5a97f81a4e989b",
            "079cbb68d3544db9829e76486a8c02f0",
            "0fe4d8d28e574cbc8cc8ba3336668f33",
            "ccf97d994b0149b0bb159ad017e55707",
            "9ecb686d089a42d382ea3ade13a58892"
          ]
        },
        "id": "B2EV1zdP35lR",
        "outputId": "b0c3a4e5-93b0-4d62-fe89-563d43e388b3"
      },
      "execution_count": 21,
      "outputs": [
        {
          "output_type": "display_data",
          "data": {
            "text/plain": [
              "  0%|          | 0/13368 [00:00<?, ?it/s]"
            ],
            "application/vnd.jupyter.widget-view+json": {
              "version_major": 2,
              "version_minor": 0,
              "model_id": "94a822856b4745aeabb91ee47ed2cd71"
            }
          },
          "metadata": {}
        },
        {
          "output_type": "display_data",
          "data": {
            "text/plain": [
              "  0%|          | 0/11490 [00:00<?, ?it/s]"
            ],
            "application/vnd.jupyter.widget-view+json": {
              "version_major": 2,
              "version_minor": 0,
              "model_id": "24be8d08bd7e4f1aaca7a906c0d535fd"
            }
          },
          "metadata": {}
        }
      ]
    },
    {
      "cell_type": "markdown",
      "source": [
        "### Getting labels and balanced dataset"
      ],
      "metadata": {
        "id": "1FLbEnkR4KqU"
      }
    },
    {
      "cell_type": "code",
      "source": [
        "from rouge_score import rouge_scorer \n",
        "scorer = rouge_scorer.RougeScorer(['rouge1', 'rougeL'], use_stemmer=True)\n",
        "\n",
        "def get_rougue_score(text, highlights, metric=\"rougeL\"):\n",
        "  max_score = 0\n",
        "  for h_text in highlights:\n",
        "    score =  scorer.score(text, h_text)[metric].fmeasure\n",
        "    # print(score, text, \"\\n \\t\" , h_text)\n",
        "    if score > max_score:\n",
        "      max_score = score \n",
        "  return max_score \n",
        "\n",
        "\n",
        "def get_label(sent, doc_dict,  score_threshold = 0.55):\n",
        "  sent_id, doc_id, sentence = sent[\"sentid\"], sent[\"docid\"], sent[\"text\"]  \n",
        "  highlights = doc_dict[doc_id][\"highlight\"].split(\"\\n\")\n",
        "  doc = doc_dict[doc_id][\"article\"]\n",
        "\n",
        "  label_score = get_rougue_score(sentence, highlights) \n",
        "  # Normalize label to 0/1 based on rogue score threshold\n",
        "  label_score = 0 if label_score < score_threshold else 1 \n",
        "  return (sentence, doc, label_score)\n",
        "  \n",
        "def sub_sample(sents_batch, doc_dict, neg_multiplier=2):\n",
        "  # get labels \n",
        "  vals = [get_label(x, doc_dict)  for x in sents_batch] \n",
        "\n",
        "  # construct arrays of sentences, corresponding documents and labels  \n",
        "  sents, docs, y = [], [], [] \n",
        "  for row in vals:\n",
        "    sents.append(row[0])\n",
        "    docs.append(row[1])\n",
        "    y.append(row[2])\n",
        "   \n",
        "\n",
        "  # get balanced number of positive and negative\n",
        "  sub_df = pd.DataFrame.from_dict({\"sents\":sents, \"docs\":docs, \"y\":y}) \n",
        "  pos_df = sub_df[sub_df.y == 1]\n",
        "  neg_df = sub_df[sub_df.y == 0]\n",
        "\n",
        "  print(\"Negative sample size:\", len(neg_df))\n",
        "  print(\"Positive sample size:\", len(pos_df))\n",
        "\n",
        "  sub_neg_df = neg_df.sample(len(pos_df)*neg_multiplier) \n",
        "  balanced_df = pos_df.append(sub_neg_df)\n",
        "  \n",
        "  return balanced_df"
      ],
      "metadata": {
        "id": "_LtC36z54KF_"
      },
      "execution_count": 22,
      "outputs": []
    },
    {
      "cell_type": "code",
      "source": [
        "train_bdf = sub_sample(train_sents_list, train_doc_dict)\n",
        "test_bdf = sub_sample(test_sents_list, test_doc_dict)\n",
        "\n"
      ],
      "metadata": {
        "colab": {
          "base_uri": "https://localhost:8080/",
          "height": 0
        },
        "id": "BDhVQKAr38qQ",
        "outputId": "02026f2d-f14a-4b59-dfe3-8f52184d9010"
      },
      "execution_count": 23,
      "outputs": [
        {
          "output_type": "stream",
          "name": "stdout",
          "text": [
            "Negative sample size: 363977\n",
            "Positive sample size: 12120\n",
            "Negative sample size: 415393\n",
            "Positive sample size: 15155\n"
          ]
        }
      ]
    },
    {
      "cell_type": "code",
      "source": [
        "train_bdf.to_json(\"/content/drive/MyDrive/PlakshaNLP/Project/train_bdf.json\")\n",
        "test_bdf.to_json(\"/content/drive/MyDrive/PlakshaNLP/Project/test_bdf.json\")\n"
      ],
      "metadata": {
        "id": "_H0sbX7_BHZz"
      },
      "execution_count": 25,
      "outputs": []
    },
    {
      "cell_type": "code",
      "source": [
        "!gsutil cp -r data $sum_dir"
      ],
      "metadata": {
        "colab": {
          "base_uri": "https://localhost:8080/",
          "height": 0
        },
        "id": "nS_d7b6eA8vw",
        "outputId": "271547cc-26bd-4695-aa99-a3a9a1d64ea4"
      },
      "execution_count": 26,
      "outputs": [
        {
          "output_type": "stream",
          "name": "stdout",
          "text": [
            "CommandException: Wrong number of arguments for \"cp\" command.\n"
          ]
        }
      ]
    },
    {
      "cell_type": "code",
      "source": [
        "#define a directory to save data \n",
        "sum_dir = \"/content/drive/MyDrive/PlakshaNLP/Project/\"\n",
        "!gsutil cp -r data $sum_dir"
      ],
      "metadata": {
        "colab": {
          "base_uri": "https://localhost:8080/",
          "height": 0
        },
        "id": "vtj_Y06V4T4y",
        "outputId": "2ef0d18e-473d-4129-8777-ecfb3dfbbdb4"
      },
      "execution_count": 28,
      "outputs": [
        {
          "output_type": "stream",
          "name": "stdout",
          "text": [
            "CommandException: No URLs matched: data\n"
          ]
        }
      ]
    },
    {
      "cell_type": "markdown",
      "source": [
        "## Part 2: Building the Model"
      ],
      "metadata": {
        "id": "UvOZ0HRZ16Dw"
      }
    },
    {
      "cell_type": "code",
      "source": [
        "!pip install -q transformers  rouge-score"
      ],
      "metadata": {
        "id": "-wpOCXvBMNFS"
      },
      "execution_count": 29,
      "outputs": []
    },
    {
      "cell_type": "code",
      "source": [
        "import os\n",
        "os.environ['CUDA_LAUNCH_BLOCKING'] = \"1\"\n",
        "\n",
        "import torch\n",
        "import torch.nn as nn\n",
        "import torch.nn.functional as F\n",
        "import numpy as np\n",
        " \n",
        "import pandas as pd \n",
        "import transformers\n",
        "from torch.utils.data import Dataset, DataLoader \n",
        "\n",
        "\n",
        "from transformers import AutoTokenizer, AutoModel\n",
        "sentenc_model_name = \"sentence-transformers/paraphrase-MiniLM-L3-v2\"\n",
        "tokenizer = AutoTokenizer.from_pretrained(sentenc_model_name)"
      ],
      "metadata": {
        "colab": {
          "base_uri": "https://localhost:8080/",
          "height": 177,
          "referenced_widgets": [
            "f03a2721d06044d1985164417420a7d3",
            "16f9a0a5f24c46c7aded0966d3246deb",
            "b4c34dd6224e40fea0ee8125ba7db37d",
            "1880145638f1436c9637528895531beb",
            "f79724f17b6d41f9afea36f4c57e780d",
            "b58e6036ef464f88b333d683524b2803",
            "11ef9811007d4548a8526771622268d3",
            "c91d364f736a424998d944477b118d6b",
            "727c89ea8a8345d7a94f11f54cc1704c",
            "a8f4f79cb5154b13a65c01859e1d4461",
            "23e1edaa3e4f45258bb675b0c2e05b9e",
            "fcc73843f81b4632851e76afb1b846aa",
            "136c66e8086649c5bf895ad7a222e3af",
            "9ec2e2e0ce1147fdb0daaf02451c3263",
            "f65ed439ea8c4c2d9ac3769aa5f5f8a2",
            "29856313ebb94a18840d707e7269212a",
            "0e2e2cf17e194db89a57465c5419097f",
            "d812c64821ee42d9bf19406242185e1b",
            "3139411b36d7457b988bd67b4b5696a6",
            "df3b7ed92eea4392ac2258ec6b3275c4",
            "22b69389877940d9961aabe9417d03ff",
            "b63e8f1abfb042f7a1bbcb5c75894078",
            "449d6ee55c674fcaa8374582547f0e00",
            "3277956a5546427a9bf20e814c073e9f",
            "26d9a11427b041b7b8517965a12d7354",
            "8107d6251bd14f19972e789151fee6ab",
            "8594bccc4e38480c8431cadf1c4087ad",
            "109975ef96ee44cfba70eb25e0ffc9c6",
            "b6f73a9493f044a1882ddb6d7b2f2945",
            "6649a91db82b469ea806959374d771c9",
            "3dcf769276624ba28998a5e849f6be9e",
            "6d83f459d8b94aeab7a90916c8629525",
            "5c919b2cc0ff4145946c09e1568d935e",
            "7a271015896b43bc80a245d2c99f5daa",
            "b6ea9ac827ce42b8a449d0497e82098e",
            "75ce9017a04d4be2be2cc4a46689c683",
            "0d8bd108427b405281eec2e7d106082b",
            "e9bc1d594f794f37bbe5a9e219cba97c",
            "091a2ae503544b72937a4d96b72eff02",
            "570fb8c57ace44b695bb79677cee967c",
            "32237196d6694f32babbd27ac3e023b7",
            "ccf86be228c94e43857ad82509dbb5e3",
            "ad0b4fe35a6040aa944f2b3679810d99",
            "9e06768768984ae4ae75317a45ee2005",
            "8e242f221e1e4a4883b018c894700d50",
            "a8ef865ad39940e7a78fa137074fdc6a",
            "db5110987fdc4d51b37f13b198d17a22",
            "a2bd4c884703492388db905d4fb52ec7",
            "5587feb574ce4008b3fdfad24defd3bb",
            "726b7c8ce0bd4c11a4fffbc5d97f0894",
            "7c03ba944e184965a29ca87d658c1866",
            "2a1a6a24500d45f5b4843bf7c86d1472",
            "563cd1ccdf9e4ea3837f4933e55c1c3f",
            "64beb3ce78d94e6d9b06411c52a8ba1b",
            "7f9529888aef46a4b4ec073648cce2e6"
          ]
        },
        "id": "WN5TiQhzM25N",
        "outputId": "53dac91e-deb2-480b-ac80-067e41acbe6a"
      },
      "execution_count": 30,
      "outputs": [
        {
          "output_type": "display_data",
          "data": {
            "text/plain": [
              "Downloading:   0%|          | 0.00/314 [00:00<?, ?B/s]"
            ],
            "application/vnd.jupyter.widget-view+json": {
              "version_major": 2,
              "version_minor": 0,
              "model_id": "f03a2721d06044d1985164417420a7d3"
            }
          },
          "metadata": {}
        },
        {
          "output_type": "display_data",
          "data": {
            "text/plain": [
              "Downloading:   0%|          | 0.00/629 [00:00<?, ?B/s]"
            ],
            "application/vnd.jupyter.widget-view+json": {
              "version_major": 2,
              "version_minor": 0,
              "model_id": "fcc73843f81b4632851e76afb1b846aa"
            }
          },
          "metadata": {}
        },
        {
          "output_type": "display_data",
          "data": {
            "text/plain": [
              "Downloading:   0%|          | 0.00/226k [00:00<?, ?B/s]"
            ],
            "application/vnd.jupyter.widget-view+json": {
              "version_major": 2,
              "version_minor": 0,
              "model_id": "449d6ee55c674fcaa8374582547f0e00"
            }
          },
          "metadata": {}
        },
        {
          "output_type": "display_data",
          "data": {
            "text/plain": [
              "Downloading:   0%|          | 0.00/455k [00:00<?, ?B/s]"
            ],
            "application/vnd.jupyter.widget-view+json": {
              "version_major": 2,
              "version_minor": 0,
              "model_id": "7a271015896b43bc80a245d2c99f5daa"
            }
          },
          "metadata": {}
        },
        {
          "output_type": "display_data",
          "data": {
            "text/plain": [
              "Downloading:   0%|          | 0.00/112 [00:00<?, ?B/s]"
            ],
            "application/vnd.jupyter.widget-view+json": {
              "version_major": 2,
              "version_minor": 0,
              "model_id": "8e242f221e1e4a4883b018c894700d50"
            }
          },
          "metadata": {}
        }
      ]
    },
    {
      "cell_type": "code",
      "source": [
        "import matplotlib.pyplot as plt\n",
        "import pandas as pd\n",
        "import numpy as np \n",
        "from tqdm.notebook import tqdm\n",
        " \n",
        "import os \n",
        "# location to store and load models\n",
        "sum_dir = \"/content/drive/MyDrive/PlakshaNLP/Project/\" "
      ],
      "metadata": {
        "id": "6LBCEN03NZpI"
      },
      "execution_count": 31,
      "outputs": []
    },
    {
      "cell_type": "code",
      "source": [
        "MAX_LEN = 512\n",
        "TRAIN_BATCH_SIZE = 4\n",
        "VALID_BATCH_SIZE = 4\n",
        "EPOCHS = 1\n",
        "LEARNING_RATE = 1e-05 \n",
        "\n",
        "# Loading Preprocessed samples from CNN/Dailymail Dataset\n",
        "train_df = pd.read_json(sum_dir + \"train_bdf.json\")\n",
        "test_df = pd.read_json(sum_dir +\"test_bdf.json\") \n",
        "print( \"Train, Test shape\", train_df.shape, test_df.shape)"
      ],
      "metadata": {
        "colab": {
          "base_uri": "https://localhost:8080/",
          "height": 0
        },
        "id": "K8RJpY72Nmhj",
        "outputId": "29e1d135-5222-48e3-824e-ac6d803fb169"
      },
      "execution_count": 32,
      "outputs": [
        {
          "output_type": "stream",
          "name": "stdout",
          "text": [
            "Train, Test shape (36360, 3) (45465, 3)\n"
          ]
        }
      ]
    },
    {
      "cell_type": "markdown",
      "source": [
        "### DataLoader"
      ],
      "metadata": {
        "id": "DxKo2MlBOCWk"
      }
    },
    {
      "cell_type": "code",
      "source": [
        "class CNNDailyMailData(Dataset):\n",
        "    def __init__(self, dataframe, tokenizer, max_len):\n",
        "        self.len = len(dataframe)\n",
        "        self.data = dataframe\n",
        "        self.tokenizer = tokenizer\n",
        "        self.max_len = max_len\n",
        "        \n",
        "    def __getitem__(self, index):\n",
        "        sentence = str(self.data.iloc[index].sents)\n",
        "        sentence = \" \".join(sentence.split())\n",
        "\n",
        "        document = str(self.data.iloc[index].docs)\n",
        "        document = \" \".join(document.split())\n",
        "\n",
        "        inputs = self.tokenizer.batch_encode_plus(\n",
        "            [sentence, document], \n",
        "            add_special_tokens=True,\n",
        "            max_length=self.max_len,\n",
        "            padding=\"max_length\",\n",
        "            return_token_type_ids=True,\n",
        "            truncation=True\n",
        "        )\n",
        "        ids = inputs['input_ids']\n",
        "        mask = inputs['attention_mask']\n",
        "\n",
        "        return {\n",
        "            'sent_ids': torch.tensor(ids[0], dtype=torch.long),\n",
        "            'doc_ids': torch.tensor(ids[1], dtype=torch.long),\n",
        "            'sent_mask': torch.tensor(mask[0], dtype=torch.long),\n",
        "            'doc_mask': torch.tensor(mask[1], dtype=torch.long),\n",
        "            'targets': torch.tensor([self.data.iloc[index].y], dtype=torch.long)\n",
        "        } \n",
        "    \n",
        "    def __len__(self):\n",
        "        return self.len"
      ],
      "metadata": {
        "id": "zbRR_4ImN3yR"
      },
      "execution_count": 33,
      "outputs": []
    },
    {
      "cell_type": "code",
      "source": [
        "training_set = CNNDailyMailData(train_df, tokenizer, MAX_LEN)\n",
        "testing_set = CNNDailyMailData(test_df, tokenizer, MAX_LEN)\n",
        "\n",
        "train_params = {'batch_size': TRAIN_BATCH_SIZE,\n",
        "                'shuffle': True,\n",
        "                'num_workers': 0\n",
        "                }\n",
        "\n",
        "test_params = {'batch_size': VALID_BATCH_SIZE,\n",
        "                'shuffle': True,\n",
        "                'num_workers': 0\n",
        "                }\n",
        "\n",
        "training_loader = DataLoader(training_set, **train_params)\n",
        "testing_loader = DataLoader(testing_set, **test_params)"
      ],
      "metadata": {
        "id": "GMrmnUEaOKW8"
      },
      "execution_count": 34,
      "outputs": []
    },
    {
      "cell_type": "markdown",
      "source": [
        "### Model Architecture"
      ],
      "metadata": {
        "id": "gt3ARawfOYoO"
      }
    },
    {
      "cell_type": "code",
      "source": [
        "# get mean pooling for sentence bert models \n",
        "# ref https://www.sbert.net/examples/applications/computing-embeddings/README.html#sentence-embeddings-with-transformers\n",
        "def mean_pooling(model_output, attention_mask):\n",
        "    token_embeddings = model_output[0] #First element of model_output contains all token embeddings\n",
        "    input_mask_expanded = attention_mask.unsqueeze(-1).expand(token_embeddings.size()).float()\n",
        "    sum_embeddings = torch.sum(token_embeddings * input_mask_expanded, 1)\n",
        "    sum_mask = torch.clamp(input_mask_expanded.sum(1), min=1e-9)\n",
        "    return sum_embeddings / sum_mask"
      ],
      "metadata": {
        "id": "cX9ZKKQ0OW4D"
      },
      "execution_count": 35,
      "outputs": []
    },
    {
      "cell_type": "code",
      "source": [
        "# Creating the customized model, by adding a drop out and a dense layer on top of distil bert to get the final output for the model. \n",
        "# Note that different sentence transformer models may have different in_feature sizes\n",
        "class SentenceBertClass(torch.nn.Module):\n",
        "    def __init__(self, model_name=\"sentence-transformers/paraphrase-MiniLM-L3-v2\", in_features=384):\n",
        "        super(SentenceBertClass, self).__init__()\n",
        "        self.l1 = AutoModel.from_pretrained(model_name)\n",
        "        self.pre_classifier = torch.nn.Linear(in_features*3, 768)\n",
        "        self.dropout = torch.nn.Dropout(0.3)\n",
        "        self.classifier = torch.nn.Linear(768, 1)\n",
        "        self.classifierSigmoid = torch.nn.Sigmoid()\n",
        "\n",
        "    def forward(self, sent_ids, doc_ids, sent_mask, doc_mask):\n",
        "\n",
        "        sent_output = self.l1(input_ids=sent_ids, attention_mask=sent_mask) \n",
        "        sentence_embeddings = mean_pooling(sent_output, sent_mask) \n",
        "\n",
        "        doc_output = self.l1(input_ids=doc_ids, attention_mask=doc_mask) \n",
        "        doc_embeddings = mean_pooling(doc_output, doc_mask)\n",
        "\n",
        "        # elementwise product of sentence embs and doc embs\n",
        "        combined_features = sentence_embeddings * doc_embeddings  \n",
        "\n",
        "        # Concatenate input features and their elementwise product\n",
        "        concat_features = torch.cat((sentence_embeddings, doc_embeddings, combined_features), dim=1)   \n",
        "        \n",
        "        pooler = self.pre_classifier(concat_features) \n",
        "        pooler = torch.nn.ReLU()(pooler)\n",
        "        pooler = self.dropout(pooler)\n",
        "        output = self.classifier(pooler)\n",
        "        output = self.classifierSigmoid(output) \n",
        "\n",
        "        return output"
      ],
      "metadata": {
        "id": "jMW4isNJOoNy"
      },
      "execution_count": 36,
      "outputs": []
    },
    {
      "cell_type": "code",
      "source": [
        "from torch import cuda\n",
        "device = 'cuda' if cuda.is_available() else 'cpu'\n",
        "\n",
        "model = SentenceBertClass(model_name=sentenc_model_name)\n",
        "model.to(device);\n",
        "\n",
        "#Defining Loss Function and Optimizer\n",
        "loss_function = torch.nn.BCELoss()\n",
        "optimizer = torch.optim.Adam(params =  model.parameters(), lr=LEARNING_RATE)"
      ],
      "metadata": {
        "colab": {
          "base_uri": "https://localhost:8080/",
          "height": 49,
          "referenced_widgets": [
            "4573c67c5dc3432a95ee3512376da46c",
            "5826ae7ca963498b83f6aed3d8fe6bc7",
            "419aeb22bbec4e9693596eedfb20c0bf",
            "14f99886c32a4da38b9cb9f849afe345",
            "fa68185bb70a4931a2e27bb44b063159",
            "3899b2269e9642518620bfdf7e12850e",
            "8a2e393cc8b64551917a0f09772ac9d4",
            "18aaee73144c45fb9fda88d8c7cb6479",
            "f13c44fc5d2740c19d2a4fc1f8e6e2cb",
            "9dcfc1bb7f7c4abf8d954ca32fe7b55c",
            "4c94157283b547f98cbd1080a203283f"
          ]
        },
        "id": "zmiapynzOwEz",
        "outputId": "e1996bfb-4167-4224-a35b-4a0728e02f78"
      },
      "execution_count": 37,
      "outputs": [
        {
          "output_type": "display_data",
          "data": {
            "text/plain": [
              "Downloading:   0%|          | 0.00/66.4M [00:00<?, ?B/s]"
            ],
            "application/vnd.jupyter.widget-view+json": {
              "version_major": 2,
              "version_minor": 0,
              "model_id": "4573c67c5dc3432a95ee3512376da46c"
            }
          },
          "metadata": {}
        }
      ]
    },
    {
      "cell_type": "code",
      "source": [
        "# Defining the training function on the 80% of the dataset for tuning the distilbert model\n",
        "print_n_steps = 1000\n",
        "EPOCHS = 3 \n",
        "acc_step_holder, loss_step_holder = [], []\n",
        "\n",
        "\n",
        "def train(epoch):    \n",
        "    tr_loss = 0\n",
        "    n_correct = 0\n",
        "    nb_tr_steps = 0\n",
        "    nb_tr_examples = 0\n",
        "    model.train()\n",
        "    for _,data in tqdm(enumerate(training_loader, 0)):\n",
        "        sent_ids = data['sent_ids'].to(device, dtype = torch.long)\n",
        "        doc_ids = data['doc_ids'].to(device, dtype = torch.long)\n",
        "        sent_mask = data['sent_mask'].to(device, dtype = torch.long)\n",
        "        doc_mask = data['doc_mask'].to(device, dtype = torch.long) \n",
        "        targets = data['targets'].to(device, dtype = torch.float)  \n",
        "\n",
        "        outputs = model(sent_ids, doc_ids, sent_mask, doc_mask) \n",
        "        loss = loss_function(outputs, targets)\n",
        "        tr_loss += loss.item() \n",
        "        n_correct += torch.count_nonzero(targets == (outputs > 0.5)).item()\n",
        "\n",
        "        nb_tr_steps += 1\n",
        "        nb_tr_examples+=targets.size(0)\n",
        "        \n",
        "        if _%print_n_steps==0:\n",
        "            loss_step = tr_loss/nb_tr_steps\n",
        "            accu_step = (n_correct*100)/nb_tr_examples \n",
        "            print(str(_* train_params[\"batch_size\"]) + \"/\" + str(len(train_df)) + \" - Steps. Acc ->\", accu_step, \"Loss ->\", loss_step)\n",
        "            acc_step_holder.append(accu_step), loss_step_holder.append(loss_step)\n",
        "        optimizer.zero_grad()\n",
        "        loss.backward()\n",
        "        # # When using GPU\n",
        "        optimizer.step()\n",
        "\n",
        "    print(f'The Total Accuracy for Epoch {epoch}: {(n_correct*100)/nb_tr_examples}')\n",
        "    epoch_loss = tr_loss/nb_tr_steps\n",
        "    epoch_accu = (n_correct*100)/nb_tr_examples\n",
        "    print(f\"Training Loss Epoch: {epoch_loss}\")\n",
        "    print(f\"Training Accuracy Epoch: {epoch_accu}\")\n",
        "\n",
        "    return"
      ],
      "metadata": {
        "id": "R3waSRzTO5sh"
      },
      "execution_count": 38,
      "outputs": []
    },
    {
      "cell_type": "code",
      "source": [
        "for epoch in range(EPOCHS):\n",
        "    train(epoch)"
      ],
      "metadata": {
        "colab": {
          "base_uri": "https://localhost:8080/",
          "height": 790,
          "referenced_widgets": [
            "30b0132f6f774eb5881c7df7e0359b1c",
            "9949de123ca244a382a7823e899683f4",
            "7361f579291746a98fc05d5d2c6fe8d8",
            "edf79e5308444157a462e97f216549fa",
            "15dde8884b364f4aa7b2ed1a4f139fcb",
            "fcd6fef33f614b92accc5b79264619cd",
            "4109e45814be4ab8a849fc188c9e56cc",
            "23988e57f657441f8d1b2b37cc437dd9",
            "7bc4a885a9e044e9ae3f5eb4ca601fdc",
            "4c67992a017e49dcb080a2c82f008107",
            "e90a570e29574584bae213437372223d",
            "5468efd6eaed4de9b6eaa8f7860f9df9",
            "3835d25074204295924f1a697cc1f4f4",
            "974f0e593f904daf8c1afb5eef5dc545",
            "419032e6a2d847d6a42a2f93cc7dd476",
            "5acf53bc3ee54c0daabe83e76ce04ff5",
            "94435465261d47e98e08a0182a0b8c9e",
            "5d5b74d2eaf547beac094fdb6fd96220",
            "0169cb4d847b4cfaab42fa03e7f0e383",
            "7688a1b95b6a49dfb62bc91176ac5da4",
            "5d6be65092184aaa854a3863ab58a839",
            "e374b0ec72dc4350a34ba857dae14774",
            "24e72476948249998cd684c808f98589",
            "b9bd6517cbec484186d29cb067d705c4",
            "c4379a8de01c4f909b1f08256a8fb6ce",
            "1f7882ef5c7d479995f8013fd21576ed",
            "d6754db296fe45f99244933167f08b1c",
            "4efaf155cf9e4e2f9ae68704c894ca56",
            "f7ded5b1f21e460d8ba5843711346352",
            "a4a616328e6e4df79aefeaad32c39052",
            "1cb821fd147641649502b62568ea63e0",
            "d9e8a4031f6a4424a82e35eb3c423a15",
            "c820969dccdf47ae9dcb1825ab6904c7"
          ]
        },
        "id": "OsHlLcKDPFFP",
        "outputId": "266d6c69-ae32-4e42-d4d9-58232da57ff2"
      },
      "execution_count": 39,
      "outputs": [
        {
          "output_type": "display_data",
          "data": {
            "text/plain": [
              "0it [00:00, ?it/s]"
            ],
            "application/vnd.jupyter.widget-view+json": {
              "version_major": 2,
              "version_minor": 0,
              "model_id": "30b0132f6f774eb5881c7df7e0359b1c"
            }
          },
          "metadata": {}
        },
        {
          "output_type": "stream",
          "name": "stdout",
          "text": [
            "0/36360 - Steps. Acc -> 25.0 Loss -> 0.7080827951431274\n",
            "4000/36360 - Steps. Acc -> 67.38261738261738 Loss -> 0.6062356807313837\n",
            "8000/36360 - Steps. Acc -> 68.2783608195902 Loss -> 0.5858562649309129\n",
            "12000/36360 - Steps. Acc -> 68.9686771076308 Loss -> 0.5779726249313243\n",
            "16000/36360 - Steps. Acc -> 69.2451887028243 Loss -> 0.5738538883568733\n",
            "20000/36360 - Steps. Acc -> 69.4361127774445 Loss -> 0.5711713526677284\n",
            "24000/36360 - Steps. Acc -> 69.85502416263957 Loss -> 0.5654657068892809\n",
            "28000/36360 - Steps. Acc -> 70.2578203113841 Loss -> 0.5595857731432867\n",
            "32000/36360 - Steps. Acc -> 70.44744406949131 Loss -> 0.557208480028704\n",
            "36000/36360 - Steps. Acc -> 70.73658482390846 Loss -> 0.5532658475740574\n",
            "The Total Accuracy for Epoch 0: 70.71507150715071\n",
            "Training Loss Epoch: 0.5532537191028413\n",
            "Training Accuracy Epoch: 70.71507150715071\n"
          ]
        },
        {
          "output_type": "display_data",
          "data": {
            "text/plain": [
              "0it [00:00, ?it/s]"
            ],
            "application/vnd.jupyter.widget-view+json": {
              "version_major": 2,
              "version_minor": 0,
              "model_id": "5468efd6eaed4de9b6eaa8f7860f9df9"
            }
          },
          "metadata": {}
        },
        {
          "output_type": "stream",
          "name": "stdout",
          "text": [
            "0/36360 - Steps. Acc -> 100.0 Loss -> 0.31165727972984314\n",
            "4000/36360 - Steps. Acc -> 75.7992007992008 Loss -> 0.4944355990719069\n",
            "8000/36360 - Steps. Acc -> 74.38780609695152 Loss -> 0.5065030841950862\n",
            "12000/36360 - Steps. Acc -> 74.90003332222592 Loss -> 0.5005987129747986\n",
            "16000/36360 - Steps. Acc -> 74.91252186953261 Loss -> 0.5012123916950845\n",
            "20000/36360 - Steps. Acc -> 75.10497900419917 Loss -> 0.49939285131635797\n",
            "24000/36360 - Steps. Acc -> 75.28328611898017 Loss -> 0.4964890349150409\n",
            "28000/36360 - Steps. Acc -> 75.36780459934295 Loss -> 0.4956048784577715\n",
            "32000/36360 - Steps. Acc -> 75.46244219472565 Loss -> 0.4941313240382392\n",
            "36000/36360 - Steps. Acc -> 75.55271636484835 Loss -> 0.4932982139910192\n",
            "The Total Accuracy for Epoch 1: 75.55005500550055\n",
            "Training Loss Epoch: 0.4933189037998747\n",
            "Training Accuracy Epoch: 75.55005500550055\n"
          ]
        },
        {
          "output_type": "display_data",
          "data": {
            "text/plain": [
              "0it [00:00, ?it/s]"
            ],
            "application/vnd.jupyter.widget-view+json": {
              "version_major": 2,
              "version_minor": 0,
              "model_id": "24e72476948249998cd684c808f98589"
            }
          },
          "metadata": {}
        },
        {
          "output_type": "stream",
          "name": "stdout",
          "text": [
            "0/36360 - Steps. Acc -> 50.0 Loss -> 0.504364013671875\n",
            "4000/36360 - Steps. Acc -> 78.6963036963037 Loss -> 0.4418542991270433\n",
            "8000/36360 - Steps. Acc -> 79.29785107446277 Loss -> 0.43365769777009483\n",
            "12000/36360 - Steps. Acc -> 79.2485838053982 Loss -> 0.43665888609680553\n",
            "16000/36360 - Steps. Acc -> 79.336415896026 Loss -> 0.4383174798690421\n",
            "20000/36360 - Steps. Acc -> 79.249150169966 Loss -> 0.438289402207515\n",
            "24000/36360 - Steps. Acc -> 79.14514247625395 Loss -> 0.43973157196815504\n",
            "28000/36360 - Steps. Acc -> 79.27796029138695 Loss -> 0.438034513488347\n",
            "32000/36360 - Steps. Acc -> 79.24009498812649 Loss -> 0.43844349535724314\n",
            "36000/36360 - Steps. Acc -> 79.3161870903233 Loss -> 0.4375776488971515\n",
            "The Total Accuracy for Epoch 2: 79.31793179317931\n",
            "Training Loss Epoch: 0.43759590585360547\n",
            "Training Accuracy Epoch: 79.31793179317931\n"
          ]
        }
      ]
    },
    {
      "cell_type": "markdown",
      "source": [
        "### Validating on Test data"
      ],
      "metadata": {
        "id": "u4l500xlPjoo"
      }
    },
    {
      "cell_type": "code",
      "source": [
        "def validate_model(model, testing_loader):\n",
        "    model.eval()\n",
        "\n",
        "    n_correct = 0; n_wrong = 0; total = 0;  tr_loss = 0; nb_tr_steps = 0 ; nb_tr_examples = 0;\n",
        "    with torch.no_grad():\n",
        "        for _, data in enumerate(testing_loader, 0): \n",
        "            \n",
        "            sent_ids = data['sent_ids'].to(device, dtype = torch.long)\n",
        "            doc_ids = data['doc_ids'].to(device, dtype = torch.long)\n",
        "            sent_mask = data['sent_mask'].to(device, dtype = torch.long)\n",
        "            doc_mask = data['doc_mask'].to(device, dtype = torch.long) \n",
        "            targets = data['targets'].to(device, dtype = torch.float)  \n",
        "\n",
        "            outputs = model(sent_ids, doc_ids, sent_mask, doc_mask) \n",
        "            loss = loss_function(outputs, targets)\n",
        "            tr_loss += loss.item()\n",
        "            \n",
        "            n_correct += torch.count_nonzero(targets == (outputs > 0.5)).item()\n",
        "\n",
        "            nb_tr_steps += 1\n",
        "            nb_tr_examples+=targets.size(0)\n",
        "            \n",
        "            if _%print_n_steps==0:\n",
        "                loss_step = tr_loss/nb_tr_steps\n",
        "                accu_step = (n_correct*100)/nb_tr_examples \n",
        "                print(str(_* test_params[\"batch_size\"]) + \"/\" + str(len(train_df)) + \" - Steps. Acc ->\", accu_step, \"Loss ->\", loss_step)\n",
        "\n",
        "             \n",
        "    epoch_loss = tr_loss/nb_tr_steps\n",
        "    epoch_accu = (n_correct*100)/nb_tr_examples\n",
        "    print(f\"Validation Loss Epoch: {epoch_loss}\")\n",
        "    print(f\"Validation Accuracy Epoch: {epoch_accu}\")\n",
        "    \n",
        "    return epoch_accu"
      ],
      "metadata": {
        "id": "AkYHkQ0sPNm5"
      },
      "execution_count": 40,
      "outputs": []
    },
    {
      "cell_type": "code",
      "source": [
        "acc = validate_model(model, testing_loader)\n",
        "print(\"Accuracy on test data = %0.2f%%\" % acc)"
      ],
      "metadata": {
        "colab": {
          "base_uri": "https://localhost:8080/",
          "height": 0
        },
        "id": "LUB5VRCYPvlP",
        "outputId": "b5c73204-25ba-473c-998d-f6933af7a074"
      },
      "execution_count": 41,
      "outputs": [
        {
          "output_type": "stream",
          "name": "stdout",
          "text": [
            "0/36360 - Steps. Acc -> 100.0 Loss -> 0.21701841056346893\n",
            "4000/36360 - Steps. Acc -> 72.45254745254745 Loss -> 0.5545358245673178\n",
            "8000/36360 - Steps. Acc -> 72.26386806596702 Loss -> 0.5560186264086059\n",
            "12000/36360 - Steps. Acc -> 72.3842052649117 Loss -> 0.5529276827584253\n",
            "16000/36360 - Steps. Acc -> 72.40689827543115 Loss -> 0.5542377780823112\n",
            "20000/36360 - Steps. Acc -> 72.18556288742252 Loss -> 0.5571002556363795\n",
            "24000/36360 - Steps. Acc -> 72.01299783369439 Loss -> 0.5587622496356712\n",
            "28000/36360 - Steps. Acc -> 72.11112698185974 Loss -> 0.5577171036901495\n",
            "32000/36360 - Steps. Acc -> 72.14723159605049 Loss -> 0.5559926967292189\n",
            "36000/36360 - Steps. Acc -> 72.1808687923564 Loss -> 0.5554238062607717\n",
            "40000/36360 - Steps. Acc -> 72.04279572042796 Loss -> 0.5591030108741764\n",
            "44000/36360 - Steps. Acc -> 72.10480865375875 Loss -> 0.5586429715395967\n",
            "Validation Loss Epoch: 0.5576838044902116\n",
            "Validation Accuracy Epoch: 72.17419993401518\n",
            "Accuracy on test data = 72.17%\n"
          ]
        }
      ]
    },
    {
      "cell_type": "code",
      "source": [
        "#Saving the model\n",
        "\n",
        "import os \n",
        "os.makedirs(\"models\", exist_ok=True)\n",
        "torch.save(model.state_dict(), \"models/minilm_bal_exsum.pth\")\n",
        "!gsutil cp -r models $sum_dir"
      ],
      "metadata": {
        "colab": {
          "base_uri": "https://localhost:8080/",
          "height": 0
        },
        "id": "_mmBE7HnPx-x",
        "outputId": "02e065f1-95e3-47e3-b97e-f2ff0b75718a"
      },
      "execution_count": 42,
      "outputs": [
        {
          "output_type": "stream",
          "name": "stdout",
          "text": [
            "Copying file://models/minilm_bal_exsum.pth...\n",
            "/ [0 files][    0.0 B/ 69.7 MiB]                                                \r/ [1 files][ 69.7 MiB/ 69.7 MiB]                                                \r\n",
            "Operation completed over 1 objects/69.7 MiB.                                     \n"
          ]
        }
      ]
    },
    {
      "cell_type": "code",
      "source": [
        "!pip install -q transformers  rouge-score sentence-transformers"
      ],
      "metadata": {
        "colab": {
          "base_uri": "https://localhost:8080/",
          "height": 0
        },
        "id": "UnAxZZ_0ibhU",
        "outputId": "c2cdcde0-939c-4c9f-90c5-49fbad107c12"
      },
      "execution_count": 43,
      "outputs": [
        {
          "output_type": "stream",
          "name": "stdout",
          "text": [
            "\u001b[K     |████████████████████████████████| 79 kB 7.4 MB/s \n",
            "\u001b[K     |████████████████████████████████| 1.2 MB 72.2 MB/s \n",
            "\u001b[?25h  Building wheel for sentence-transformers (setup.py) ... \u001b[?25l\u001b[?25hdone\n"
          ]
        }
      ]
    },
    {
      "cell_type": "code",
      "source": [
        "import matplotlib.pyplot as plt\n",
        "import pandas as pd\n",
        "import numpy as np\n",
        "import spacy\n",
        "from tqdm.notebook import tqdm\n",
        "\n",
        "#!pip install pyyaml==5.4.1\n",
        "#import plotly.express as px\n",
        "\n",
        "import os \n",
        "import torch\n",
        "import torch.nn as nn\n",
        "import torch.nn.functional as F\n",
        "import numpy as np\n",
        " \n",
        "from transformers import AutoTokenizer, AutoModel \n",
        "nlp = spacy.load('en_core_web_sm')"
      ],
      "metadata": {
        "id": "tocOSD0RiqtD"
      },
      "execution_count": 46,
      "outputs": []
    },
    {
      "cell_type": "code",
      "source": [
        "model_path = \"/content/drive/MyDrive/PlakshaNLP/Project/models/minilm_bal_exsum.pth\"\n",
        "\n",
        "from torch import cuda\n",
        "device = 'cuda' if cuda.is_available() else 'cpu'\n",
        "\n",
        "#Our Trained Model\n",
        "extractive_model = SentenceBertClass() \n",
        "extractive_model.load_state_dict(torch.load(model_path, map_location=torch.device(device) ))\n",
        "extractive_model.eval();"
      ],
      "metadata": {
        "id": "zVAjt4hNjUsV"
      },
      "execution_count": 47,
      "outputs": []
    },
    {
      "cell_type": "code",
      "source": [
        "tokenizer = AutoTokenizer.from_pretrained('sentence-transformers/paraphrase-MiniLM-L3-v2')\n",
        "\n",
        "# tokenize text as required by BERT based models\n",
        "def get_tokens(text, tokenizer):\n",
        "  inputs = tokenizer.batch_encode_plus(\n",
        "            text, \n",
        "            add_special_tokens=True,\n",
        "            max_length=512,\n",
        "            padding=\"max_length\",\n",
        "            return_token_type_ids=True,\n",
        "            truncation=True\n",
        "        )\n",
        "  ids = inputs['input_ids']\n",
        "  mask = inputs['attention_mask']\n",
        "  return ids, mask"
      ],
      "metadata": {
        "id": "frRbULwCjwjj"
      },
      "execution_count": 48,
      "outputs": []
    },
    {
      "cell_type": "code",
      "source": [
        "def predict(model,sents, doc):\n",
        "  sent_id, sent_mask = get_tokens(sents,tokenizer)\n",
        "  sent_id, sent_mask = torch.tensor(sent_id, dtype=torch.long),torch.tensor(sent_mask, dtype=torch.long)\n",
        " \n",
        "  doc_id, doc_mask = get_tokens([doc],tokenizer)\n",
        "  doc_id, doc_mask = doc_id * len(sents), doc_mask* len(sents)\n",
        "  doc_id, doc_mask = torch.tensor(doc_id, dtype=torch.long),torch.tensor(doc_mask, dtype=torch.long)\n",
        "\n",
        "  preds = model(sent_id, doc_id, sent_mask, doc_mask)\n",
        "  return preds"
      ],
      "metadata": {
        "id": "GQVtgc9Tj5a_"
      },
      "execution_count": 49,
      "outputs": []
    },
    {
      "cell_type": "markdown",
      "source": [
        "# Part 3: Summarize Function for our model"
      ],
      "metadata": {
        "id": "l0RjDY3okLst"
      }
    },
    {
      "cell_type": "code",
      "source": [
        "def summarize(doc, model, min_sentence_length=14, top_k=3, batch_size=3):\n",
        "  doc = doc.replace(\"\\n\",\"\")\n",
        "  doc_sentences = []\n",
        "  for sent in nlp(doc).sents:\n",
        "    if len(sent) > min_sentence_length: \n",
        "      doc_sentences.append(str(sent))\n",
        "  \n",
        "  doc_id, doc_mask = get_tokens([doc],tokenizer)\n",
        "  doc_id, doc_mask = doc_id * batch_size, doc_mask* batch_size\n",
        "  doc_id, doc_mask = torch.tensor(doc_id, dtype=torch.long),torch.tensor(doc_mask, dtype=torch.long)\n",
        "\n",
        "  scores = [] \n",
        "  # run predictions using some batch size\n",
        "  for i in tqdm(range(int(len(doc_sentences) / batch_size) + 1)):\n",
        "    batch_start = i*batch_size  \n",
        "    batch_end = (i+1) * batch_size if (i+1) * batch_size < len(doc) else len(doc)-1\n",
        "    batch = doc_sentences[batch_start: batch_end]\n",
        "    if batch:\n",
        "      preds = predict(model, batch, doc) \n",
        "      scores = scores + preds.tolist() \n",
        " \n",
        "  sent_pred_list = [{\"sentence\": doc_sentences[i], \"score\": scores[i][0], \"index\":i} for i in range(len(doc_sentences))]\n",
        "  sorted_sentences = sorted(sent_pred_list, key=lambda k: k['score'], reverse=True) \n",
        "\n",
        "  sorted_result = sorted_sentences[:top_k] \n",
        "  sorted_result = sorted(sorted_result, key=lambda k: k['index']) \n",
        "  \n",
        "  summary = [ x[\"sentence\"] for x in sorted_result]\n",
        "  summary = \" \".join(summary)\n",
        "\n",
        "  return summary, scores, doc_sentences"
      ],
      "metadata": {
        "id": "L8sSVeyoj9oA"
      },
      "execution_count": 50,
      "outputs": []
    },
    {
      "cell_type": "code",
      "source": [
        "long_text = '''It is a beautiful afternoon, just after rain. The mist has spread around the trees and mountains giving the place magic feeling, which takes me to another dimension. I hike towards Dambulla Caves munching on fresh mango slices purchased from road sellers, imagining how this site looked like in the 3rd century B.C when the complex was established. \n",
        "\n",
        "I reach the entrance of the temple where I’m asked to leave my shoes in the cloakroom. By now, I’m used to Buddhist custom of barefoot walking in the sacred places. There’s a sensation to it that is light, simple and minimalistic.  \n",
        "\n",
        "All of a sudden I see the Man with the Moustache, handling people’s shoes. He looks old and very poor in his scruffy clothes but taking great pride in his work. His face is fascinating, eyes deep and captivating, hiding many stories. The Man with the Moustache intrigued me and grabbed my attention, however before I can make any action to unveil his secrets I lose him from my eyesight as the crowd of visitors push me towards the temple.  \n",
        "\n",
        "I walk into the front yard of Dambulla Temple to see the entrance to five caves carved into the mountain. These caves have been converted into shrine rooms painted with intricate patterns of religious images on the celling, following the contours of the rock.  The place is truly magical and spiritual allowing me to capture the moment through my camera lens. When I took the 20th photo of Buddha and reached in total 100 photos of the cave, I decided to move on in search of the Man with the Moustache. \n",
        "\n",
        "I want to learn about him, what is he doing here, where does he come from. I don’t speak his language and he doesn’t mine either. I ask him politely with a gesture pointing at my camera — can I take photo of you? I can’t hear your story but your eyes will tell me all in due time.'''"
      ],
      "metadata": {
        "id": "9G8iU5FukkpL"
      },
      "execution_count": 56,
      "outputs": []
    },
    {
      "cell_type": "code",
      "source": [
        "print(long_text)"
      ],
      "metadata": {
        "colab": {
          "base_uri": "https://localhost:8080/",
          "height": 0
        },
        "id": "8B4ilGo8lUG0",
        "outputId": "fcd3726d-e84d-4fb1-a3b7-6a62b33ddf75"
      },
      "execution_count": 57,
      "outputs": [
        {
          "output_type": "stream",
          "name": "stdout",
          "text": [
            "It is a beautiful afternoon, just after rain. The mist has spread around the trees and mountains giving the place magic feeling, which takes me to another dimension. I hike towards Dambulla Caves munching on fresh mango slices purchased from road sellers, imagining how this site looked like in the 3rd century B.C when the complex was established. \n",
            "\n",
            "I reach the entrance of the temple where I’m asked to leave my shoes in the cloakroom. By now, I’m used to Buddhist custom of barefoot walking in the sacred places. There’s a sensation to it that is light, simple and minimalistic.  \n",
            "\n",
            "All of a sudden I see the Man with the Moustache, handling people’s shoes. He looks old and very poor in his scruffy clothes but taking great pride in his work. His face is fascinating, eyes deep and captivating, hiding many stories. The Man with the Moustache intrigued me and grabbed my attention, however before I can make any action to unveil his secrets I lose him from my eyesight as the crowd of visitors push me towards the temple.  \n",
            "\n",
            "I walk into the front yard of Dambulla Temple to see the entrance to five caves carved into the mountain. These caves have been converted into shrine rooms painted with intricate patterns of religious images on the celling, following the contours of the rock.  The place is truly magical and spiritual allowing me to capture the moment through my camera lens. When I took the 20th photo of Buddha and reached in total 100 photos of the cave, I decided to move on in search of the Man with the Moustache. \n",
            "\n",
            "I want to learn about him, what is he doing here, where does he come from. I don’t speak his language and he doesn’t mine either. I ask him politely with a gesture pointing at my camera — can I take photo of you? I can’t hear your story but your eyes will tell me all in due time.\n"
          ]
        }
      ]
    },
    {
      "cell_type": "code",
      "source": [
        "summary, scores, sentences = summarize(long_text, extractive_model, min_sentence_length=14, top_k=3, batch_size=4)"
      ],
      "metadata": {
        "colab": {
          "base_uri": "https://localhost:8080/",
          "height": 49,
          "referenced_widgets": [
            "31698e0667c341198d1d6507ddfe63dd",
            "f72470a01c6f47658e983f14175868ae",
            "b9b247d652054b78b17dd31a8f877138",
            "2bdb891327a24a9bbf0fef8803a5dfa1",
            "627190ddd60a45df8ae69edceb61a2b3",
            "87f81045e7044726b3392eaa65d525b2",
            "842c4c6fb73b45879a8f64496d80765d",
            "4b2321e7960f40408977f39ec8162d73",
            "a1a5625e02e94570adfb2e10bd0540cd",
            "506d83ff709c4326ac18dae7b2e1ce66",
            "b2db0efa01684f0a9df170a171390a2e"
          ]
        },
        "id": "Lu52lt2flxy5",
        "outputId": "be5052c9-2862-4547-fd50-10ea43328264"
      },
      "execution_count": 59,
      "outputs": [
        {
          "output_type": "display_data",
          "data": {
            "text/plain": [
              "  0%|          | 0/4 [00:00<?, ?it/s]"
            ],
            "application/vnd.jupyter.widget-view+json": {
              "version_major": 2,
              "version_minor": 0,
              "model_id": "31698e0667c341198d1d6507ddfe63dd"
            }
          },
          "metadata": {}
        }
      ]
    },
    {
      "cell_type": "code",
      "source": [
        "summary"
      ],
      "metadata": {
        "colab": {
          "base_uri": "https://localhost:8080/",
          "height": 70
        },
        "id": "wCWDnkgwl6-E",
        "outputId": "8460f8aa-c8b6-4097-d13a-c037b567376d"
      },
      "execution_count": 60,
      "outputs": [
        {
          "output_type": "execute_result",
          "data": {
            "text/plain": [
              "'I walk into the front yard of Dambulla Temple to see the entrance to five caves carved into the mountain. These caves have been converted into shrine rooms painted with intricate patterns of religious images on the celling, following the contours of the rock.   When I took the 20th photo of Buddha and reached in total 100 photos of the cave, I decided to move on in search of the Man with the Moustache.'"
            ],
            "application/vnd.google.colaboratory.intrinsic+json": {
              "type": "string"
            }
          },
          "metadata": {},
          "execution_count": 60
        }
      ]
    },
    {
      "cell_type": "markdown",
      "source": [
        "### Evaluating the model on Real HBR article using ROUGE"
      ],
      "metadata": {
        "id": "jXkx7C3asCw_"
      }
    },
    {
      "cell_type": "code",
      "source": [
        "!pip install rouge"
      ],
      "metadata": {
        "colab": {
          "base_uri": "https://localhost:8080/",
          "height": 0
        },
        "id": "Se7kDNF0sOep",
        "outputId": "ed5b39cc-e8f4-44b7-9ac0-907928a6d478"
      },
      "execution_count": 5,
      "outputs": [
        {
          "output_type": "stream",
          "name": "stdout",
          "text": [
            "Collecting rouge\n",
            "  Downloading rouge-1.0.1-py3-none-any.whl (13 kB)\n",
            "Requirement already satisfied: six in /usr/local/lib/python3.7/dist-packages (from rouge) (1.15.0)\n",
            "Installing collected packages: rouge\n",
            "Successfully installed rouge-1.0.1\n"
          ]
        }
      ]
    },
    {
      "cell_type": "code",
      "source": [
        "from rouge import Rouge\n",
        "ROUGE = Rouge()"
      ],
      "metadata": {
        "id": "APk_pK6IsFyX"
      },
      "execution_count": 6,
      "outputs": []
    },
    {
      "cell_type": "code",
      "source": [
        "Article='''\n",
        "Based on the reaction to our earlier article on the competing demands for both compassion and results leaders are facing, and given our ongoing work and research at companies around the world, we’ve learned that middle managers are often the ones feeling that tension most acutely. They feel torn between performance demands from above and calls for compassion from below.\n",
        "\n",
        "Take, for example, Justin (not his real name), who runs the customer relations group for a private equity–backed fintech company. The whole industry has been hit with a surge of attrition, and Justin is scrambling to maintain morale and retain top talent. His people have been working exceptionally long hours to cover the needs of accounts where the relationship manager resigned, but every single person seems to have a legitimate personal challenge at the moment: one has a teenage child struggling with addiction, someone else’s parent is hospitalized, another just lost her lease, and several have homes affected by wildfires. At the same time, Justin faces almost daily pressure from his executives — whose own feet are held to the fire by their board — because customer satisfaction scores are trending down sharply in several key accounts.\n",
        "\n",
        "Justin’s dilemma is typical, and the demands from both his seniors and his juniors are entirely predictable when we consider the worlds they both inhabit.\n",
        "\n",
        "Executives’ most frequent and salient interactions are with stakeholders (shareholders, boards, market analysts, etc.) who hold them accountable for company performance. As a general rule, shareholders and boards don’t ask enough questions about how a leader’s people are doing. Moreover, executives are often insulated from the scale and variety of problems faced by junior employees. Even when senior leaders try to seek out information, most employees put on a brave face because they’re afraid to show weakness or vulnerability. Top leaders are further handicapped by their own psychology: Research shows that power reduces empathy, which means they identify less with both the frontline employees’ challenges and the middle managers who must deal with these issues daily. All these factors converge to produce executives who are highly focused on meeting performance goals and less aware that their performance demands on middle managers are possibly unreasonable given what’s happening on the front lines.\n",
        "\n",
        "Speaking of those front lines, consider the world of the frontline employee. When it comes to the need for compassion, while everyone faces challenges and stressors (mental and physical health, interpersonal dynamics, family obligations, etc.), frontline employees are less likely to have the resources to offload some of those burdens, such as child or elder care or tutoring. In addition, certain stressors (e.g., job security) are likely greater among frontline employees. Additionally, frontline employees’ view of their work is likely to be more focused on specific tasks, with a less-clear sense of how their actions affect company performance. Taken together, this means that frontline employees have more stressors, fewer resources to cope with them, and less understanding of how and why their immediate managers’ feet are being held to the fire to deliver results.\n",
        "\n",
        "How can middle managers cope with these competing pressures? Focus on two sets of actions. First, work to increase the organization’s “compassion capacity” — that is, help equip both senior executives and employees to shoulder more of the burden in delivering compassion so that it doesn’t fall entirely on you. Second, work with both executives and employees to lower the perceived pressure of performance demands.\n",
        "\n",
        "Work with executives to increase compassion and change the performance dialogue\n",
        "It’s our experience that most executives would be willing to demonstrate more compassion and better support their employees if they understood their problems better. So, middle managers’ first step in getting top leaders to share the responsibility of delivering compassionate leadership is to educate them, both by sharing data (i.e., “tell” them about the problem) and getting them to experience some of the issues directly (i.e., “show” them the problem).\n",
        "\n",
        "“Tell” is about fixing the information flow by making top leaders aware of the extent of the problem, what frontline employees are experiencing, and how it affects middle managers. We find that bringing some very basic data to the table — such as how many people are experiencing hardships, what kinds of hardships, and what they need in order to cope — makes all the difference. In support of that, middle managers can use simple pulse surveys to capture people’s engagement, concerns, and stress levels.\n",
        "\n",
        "“Show” recognizes that there is no substitute for firsthand experiences, and we’ve found that leaders are better able to empathize if they personally see and hear about employees’ needs for compassion. This advice goes against the instincts of some middle managers who prefer to buffer those conversations between their direct reports and their own manager so they can control the narrative. Other middle managers simply don’t want to bother their leaders with this kind of detail. But if you facilitate skip-level contacts and put top leaders in direct contact with employees — for example, through informal coffee chats — then the executives are much better equipped to empathize and then to help in creating solutions.\n",
        "\n",
        "Before taking either approach, recognize that framing is very important; if not managed well, this can appear like a post-hoc excuse for missing performance targets. Make it clear that you realize it’s naïve to think an organization can take away performance pressure (or that it would it want to). Instead, help senior leaders reframe compassion as a performance imperative — something that will significantly improve performance now and especially in the long term. One simple trick to avoid the excuse framing is to bring these challenges to the table before any negative performance effects emerge.\n",
        "\n",
        "Empower, connect, and motivate employees\n",
        "Inasmuch as you need to keep showing compassion toward your staff, you don’t need to fix everything yourself. Give people tools to help themselves. As recent research has found, sometimes the challenges requiring compassion are in fact “invisible enemies,” where employees don’t even recognize what’s going on. Once again, the first step in the solution is to empower with data. For example, one large insurance company uses data analytics tools that measure people’s activities on digital platforms such as Microsoft Teams. The results are displayed on employee’s own dashboard to help them understand and visualize what they could do differently to enrich their community or promote their own well-being. The stats might point out that someone’s participation in an online community has dropped off; the pop-up advice might prompt the individual to take a moment and log on to see if anyone else needs help, or perhaps to ask a question themselves.\n",
        "\n",
        "Data, however, is only part of the solution. Another way middle managers can aid employees is by helping them build connections — and thereby improve their network of support. Not only have the past two years caused employee networks to shrink significantly, but in many companies we work with, upward of 30% of junior employees have joined within the last two years, meaning that some have never met their fellow employees in person. While this is far from ideal from a support standpoint, on the positive side, it means that investments made to help frontline employees connect to each other are more valuable than ever. There are excellent resources on how to build (and facilitate building) healthy networks — an important part of which is helping your employees recognize the value in doing so. Remember, the up-front cost of those investments are more than offset by long-term benefits, as healthy networks give employees other resources to leverage in dealing with their challenges, which results in fewer future demands placed on middle managers.\n",
        "'''"
      ],
      "metadata": {
        "id": "SLe2HFZFswQd"
      },
      "execution_count": 4,
      "outputs": []
    },
    {
      "cell_type": "code",
      "source": [
        "official_summary= '''\n",
        "After two years of turmoil, employees need their managers to show compassion. \n",
        "At the same time, executives expect their managers and their teams to deliver results. \n",
        "Middle managers are often the ones feeling that tension most acutely. \n",
        "How can they cope with these competing pressures? Focus on two sets of actions. \n",
        "First, work to increase the organization’s “compassion capacity” — that is, help equip \n",
        "both senior executives and employees to shoulder more of the burden in delivering compassion so that\n",
        "it doesn’t fall entirely on you. \n",
        "Second, work with both executives and employees to lower the perceived pressure of performance demands.\n",
        "'''"
      ],
      "metadata": {
        "id": "L-oOln0MtFzy"
      },
      "execution_count": 7,
      "outputs": []
    },
    {
      "cell_type": "code",
      "source": [
        "summary, scores, sentences = summarize(Article, extractive_model, min_sentence_length=14, top_k=3, batch_size=4)"
      ],
      "metadata": {
        "colab": {
          "base_uri": "https://localhost:8080/",
          "height": 49,
          "referenced_widgets": [
            "2feb4245583648b282030d240c2c3d3a",
            "ea1e511927634867bb50a0cbe11bde84",
            "5cb35dab5a1a4de9ad8600c7e6036f5f",
            "417c0313ece24fe087f87ff731d95dfb",
            "4c97a1d3155e44ea91254bda20d38add",
            "10b212cc4a1d45f48df0fe0cc12319d2",
            "0f08c1e58fd84d419f7c4379ef9c6499",
            "6a963001d1db4a55b743b08dabd028a2",
            "c6f18f6a7fcc4d44bb4db2d2619e6190",
            "5a65678ee2754fcd853cfe23a13a2869",
            "baf095acc1c4425ebff3f5ee979cfe7a"
          ]
        },
        "id": "J614kyEAtOy0",
        "outputId": "0b75e831-aef1-4455-a5e0-eeb4863938c2"
      },
      "execution_count": 81,
      "outputs": [
        {
          "output_type": "display_data",
          "data": {
            "text/plain": [
              "  0%|          | 0/11 [00:00<?, ?it/s]"
            ],
            "application/vnd.jupyter.widget-view+json": {
              "version_major": 2,
              "version_minor": 0,
              "model_id": "2feb4245583648b282030d240c2c3d3a"
            }
          },
          "metadata": {}
        }
      ]
    },
    {
      "cell_type": "code",
      "source": [
        "summary"
      ],
      "metadata": {
        "colab": {
          "base_uri": "https://localhost:8080/",
          "height": 70
        },
        "id": "QI756TZitjVF",
        "outputId": "4bdd0e68-62b4-4d55-d246-ffd7ad17bb17"
      },
      "execution_count": 83,
      "outputs": [
        {
          "output_type": "execute_result",
          "data": {
            "text/plain": [
              "'They feel torn between performance demands from above and calls for compassion from below. Even when senior leaders try to seek out information, most employees put on a brave face because they’re afraid to show weakness or vulnerability. Research shows that power reduces empathy, which means they identify less with both the frontline employees’ challenges and the middle managers who must deal with these issues daily.'"
            ],
            "application/vnd.google.colaboratory.intrinsic+json": {
              "type": "string"
            }
          },
          "metadata": {},
          "execution_count": 83
        }
      ]
    },
    {
      "cell_type": "code",
      "source": [
        "ROUGE.get_scores(summary, official_summary)"
      ],
      "metadata": {
        "colab": {
          "base_uri": "https://localhost:8080/",
          "height": 0
        },
        "id": "LNFXYlgVtrUc",
        "outputId": "bdb5e5a5-474c-406e-89b6-6c672fddde26"
      },
      "execution_count": 84,
      "outputs": [
        {
          "output_type": "execute_result",
          "data": {
            "text/plain": [
              "[{'rouge-1': {'f': 0.25373133832368017,\n",
              "   'p': 0.2786885245901639,\n",
              "   'r': 0.2328767123287671},\n",
              "  'rouge-2': {'f': 0.0493827112444754,\n",
              "   'p': 0.06153846153846154,\n",
              "   'r': 0.041237113402061855},\n",
              "  'rouge-l': {'f': 0.25373133832368017,\n",
              "   'p': 0.2786885245901639,\n",
              "   'r': 0.2328767123287671}}]"
            ]
          },
          "metadata": {},
          "execution_count": 84
        }
      ]
    },
    {
      "cell_type": "markdown",
      "source": [
        "### Comparing ROUGE score against the Default Summarizer"
      ],
      "metadata": {
        "id": "IGYwVAAGA0Z_"
      }
    },
    {
      "cell_type": "code",
      "source": [
        "!pip install git+https://github.com/dmmiller612/bert-extractive-summarizer.git"
      ],
      "metadata": {
        "id": "MR_TH4J1wyrf"
      },
      "execution_count": null,
      "outputs": []
    },
    {
      "cell_type": "code",
      "source": [
        "from summarizer import Summarizer"
      ],
      "metadata": {
        "id": "MvPLHeBpwb-R"
      },
      "execution_count": 2,
      "outputs": []
    },
    {
      "cell_type": "code",
      "source": [
        "default_model = Summarizer()"
      ],
      "metadata": {
        "id": "YupVjMvAwtoj"
      },
      "execution_count": null,
      "outputs": []
    },
    {
      "cell_type": "code",
      "source": [
        "predicted = default_model(Article, min_length=60, ratio=0.01)"
      ],
      "metadata": {
        "id": "K6PcAMuhAPsp"
      },
      "execution_count": 8,
      "outputs": []
    },
    {
      "cell_type": "code",
      "source": [
        "ROUGE.get_scores(predicted, official_summary)"
      ],
      "metadata": {
        "colab": {
          "base_uri": "https://localhost:8080/",
          "height": 0
        },
        "id": "hNL2W6hmAjeb",
        "outputId": "9b95e402-1561-4f82-fda5-f055cfa48f2f"
      },
      "execution_count": 10,
      "outputs": [
        {
          "output_type": "execute_result",
          "data": {
            "text/plain": [
              "[{'rouge-1': {'f': 0.3521126710603055,\n",
              "   'p': 0.36231884057971014,\n",
              "   'r': 0.3424657534246575},\n",
              "  'rouge-2': {'f': 0.10810810311994179,\n",
              "   'p': 0.11363636363636363,\n",
              "   'r': 0.10309278350515463},\n",
              "  'rouge-l': {'f': 0.3239436569757985,\n",
              "   'p': 0.3333333333333333,\n",
              "   'r': 0.3150684931506849}}]"
            ]
          },
          "metadata": {},
          "execution_count": 10
        }
      ]
    },
    {
      "cell_type": "markdown",
      "source": [
        "## Oberservations\n",
        "The trained model scored F-score of 0.25 (rouge1) vs the default model with F-score of 0.35 (rouge-1).\n",
        "\n",
        "This maybe improved by using larger pretrained BERT model instead of Sentence BERT."
      ],
      "metadata": {
        "id": "jkfIuHBBA7Lt"
      }
    }
  ]
}